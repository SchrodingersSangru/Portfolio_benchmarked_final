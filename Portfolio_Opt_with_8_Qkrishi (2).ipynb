{
  "cells": [
    {
      "cell_type": "code",
      "execution_count": null,
      "id": "3I7KhMfyiYcU",
      "metadata": {
        "id": "3I7KhMfyiYcU"
      },
      "outputs": [],
      "source": [
        "# !pip install qiskit"
      ]
    },
    {
      "cell_type": "code",
      "execution_count": null,
      "id": "hSFpxNnqjEwC",
      "metadata": {
        "id": "hSFpxNnqjEwC"
      },
      "outputs": [],
      "source": [
        "# !pip install qiskit-finance"
      ]
    },
    {
      "cell_type": "code",
      "execution_count": null,
      "id": "a3ca350e",
      "metadata": {
        "id": "a3ca350e"
      },
      "outputs": [],
      "source": [
        "#importing the required stuff\n",
        "from qiskit import Aer\n",
        "from qiskit.algorithms import VQE, QAOA, NumPyMinimumEigensolver\n",
        "from qiskit.algorithms.optimizers import COBYLA, SPSA\n",
        "from qiskit.circuit.library import TwoLocal\n",
        "from qiskit.utils import QuantumInstance\n",
        "from qiskit_finance.applications.optimization import PortfolioOptimization\n",
        "from qiskit_finance.data_providers import *\n",
        "from qiskit_finance import QiskitFinanceError\n",
        "from qiskit_optimization.algorithms import MinimumEigenOptimizer\n",
        "from qiskit_optimization.applications import OptimizationApplication\n",
        "from qiskit_optimization.converters import QuadraticProgramToQubo\n",
        "import numpy as np\n",
        "import matplotlib.pyplot as plt\n",
        "\n",
        "import datetime\n",
        "import pandas as pd\n",
        "from pandas.plotting import register_matplotlib_converters\n",
        "register_matplotlib_converters()\n",
        "import csv\n",
        "import yfinance as yf\n",
        "import pandas_datareader.data as web\n",
        "from qiskit_finance.applications.optimization import PortfolioDiversification"
      ]
    },
    {
      "cell_type": "code",
      "execution_count": null,
      "id": "1b6ad0d8",
      "metadata": {
        "id": "1b6ad0d8"
      },
      "outputs": [],
      "source": [
        "%matplotlib inline"
      ]
    },
    {
      "cell_type": "code",
      "execution_count": null,
      "id": "25cdcbc2",
      "metadata": {
        "id": "25cdcbc2",
        "colab": {
          "base_uri": "https://localhost:8080/",
          "height": 265
        },
        "outputId": "a2354500-8e06-4cb5-f44e-68004ff6a54e"
      },
      "outputs": [
        {
          "output_type": "display_data",
          "data": {
            "text/plain": [
              "<Figure size 432x288 with 1 Axes>"
            ],
            "image/png": "[encoded data removed]"
          },
          "metadata": {
            "needs_background": "light"
          }
        }
      ],
      "source": [
        "# set number of assets (= number of qubits)\n",
        "\n",
        "seed = 123\n",
        "\n",
        "assets = [\"JPM\", \"GS\", \"MSFT\", \"AAPL\", \"KO\", \"WMT\", \"MCD\", \"NKE\"]\n",
        "\n",
        "\n",
        "# Using data from yahoo finance\n",
        "# use the name listed for particular company that you wish to add\n",
        "\n",
        "data = YahooDataProvider(\n",
        "        tickers= assets , \n",
        "        start=datetime.datetime(2011, 1, 1),\n",
        "        end=datetime.datetime(2015, 12, 31),\n",
        "    )\n",
        "\n",
        "num_assets = len(assets)\n",
        "data.run()\n",
        "\n",
        "mu = data.get_period_return_mean_vector()\n",
        "sigma = data.get_period_return_covariance_matrix()\n",
        "rho = data.get_similarity_matrix()\n",
        "# print(rho)\n",
        "# plot sigma\n",
        "plt.imshow(sigma, interpolation=\"nearest\")\n",
        "plt.show()"
      ]
    },
    {
      "cell_type": "code",
      "execution_count": null,
      "id": "50530cf1",
      "metadata": {
        "colab": {
          "base_uri": "https://localhost:8080/",
          "height": 265
        },
        "id": "50530cf1",
        "outputId": "0ee62cb5-86f1-4a6c-ee51-677d85804cc9"
      },
      "outputs": [
        {
          "output_type": "display_data",
          "data": {
            "text/plain": [
              "<Figure size 432x288 with 1 Axes>"
            ],
            "image/png": "[encoded data removed]"
          },
          "metadata": {
            "needs_background": "light"
          }
        }
      ],
      "source": [
        "# plot sigma\n",
        "plt.imshow(sigma, interpolation=\"nearest\")\n",
        "plt.show()"
      ]
    },
    {
      "cell_type": "code",
      "execution_count": null,
      "id": "14567144",
      "metadata": {
        "colab": {
          "base_uri": "https://localhost:8080/"
        },
        "id": "14567144",
        "outputId": "740a0f2b-4ddf-4a26-c1ed-23f99555bdb3"
      },
      "outputs": [
        {
          "output_type": "execute_result",
          "data": {
            "text/plain": [
              "<QuadraticProgram: minimize 0.00014417201648965323*x_0^2 + 0.00023453198744642..., 8 variables, 1 constraints, 'Portfolio optimization'>"
            ]
          },
          "metadata": {},
          "execution_count": 12
        }
      ],
      "source": [
        "q = 0.5  # set risk factor\n",
        "budget = num_assets // 2  # set budget\n",
        "penalty = num_assets  # set parameter to scale the budget penalty term\n",
        "\n",
        "\n",
        "portfolio = PortfolioOptimization(\n",
        "    expected_returns=mu, covariances=sigma, risk_factor=q, budget=budget,\n",
        ")\n",
        "qp = portfolio.to_quadratic_program()\n",
        "qp"
      ]
    },
    {
      "cell_type": "code",
      "execution_count": null,
      "id": "e71dce01",
      "metadata": {
        "id": "e71dce01"
      },
      "outputs": [],
      "source": [
        "def index_to_selection(i, num_assets):\n",
        "    s = \"{0:b}\".format(i).rjust(num_assets)\n",
        "    x = np.array([1 if s[i] == \"1\" else 0 for i in reversed(range(num_assets))])\n",
        "    return x\n",
        "\n",
        "\n",
        "def print_result( result, fname):\n",
        "    \n",
        "    f = open(fname, 'w')\n",
        "    header = ['SELECTION', 'VALUE', 'PROBABLITY']\n",
        "    writer = csv.writer(f)\n",
        "    writer.writerow(header)\n",
        "    \n",
        "    selection = result.x\n",
        "    value = result.fval\n",
        "    print(\"Optimal: selection {}, value {:.4f}\".format(selection, value))\n",
        "\n",
        "    eigenstate = result.min_eigen_solver_result.eigenstate\n",
        "    eigenvector = eigenstate if isinstance(eigenstate, np.ndarray) else eigenstate.to_matrix()\n",
        "    probabilities = np.abs(eigenvector) ** 2 \n",
        "    i_sorted = reversed(np.argsort(probabilities))\n",
        "    print(\"\\n----------------- Full result ---------------------\")\n",
        "    print(\"selection\\tvalue\\t\\tprobability\")\n",
        "    print(\"---------------------------------------------------\")\n",
        "    for i in i_sorted:\n",
        "        x = index_to_selection(i, num_assets)\n",
        "        value = QuadraticProgramToQubo().convert(qp).objective.evaluate(x)\n",
        "        # value = portfolio.to_quadratic_program().objective.evaluate(x)\n",
        "        probability = probabilities[i]\n",
        "        row = [x, value, probability]\n",
        "        writer.writerow(row)\n",
        "        print(\"%10s\\t%.4f\\t\\t%.4f\" % (x, value, probability))\n",
        "    f.close()\n"
      ]
    },
    {
      "cell_type": "code",
      "execution_count": null,
      "id": "95721b99",
      "metadata": {
        "colab": {
          "base_uri": "https://localhost:8080/"
        },
        "id": "95721b99",
        "outputId": "dcf08fd6-ca57-47a1-bcca-0867d0d30fb9"
      },
      "outputs": [
        {
          "output_type": "stream",
          "name": "stdout",
          "text": [
            "Optimal: selection [0. 0. 1. 1. 0. 0. 1. 1.], value -0.0024\n",
            "\n",
            "----------------- Full result ---------------------\n",
            "selection\tvalue\t\tprobability\n",
            "---------------------------------------------------\n",
            "[0 0 1 1 0 0 1 1]\t-0.0024\t\t1.0000\n",
            "[1 1 1 1 1 1 1 1]\t16.1188\t\t0.0000\n",
            "[1 1 1 1 0 0 1 0]\t1.0061\t\t0.0000\n",
            "[0 0 1 1 1 0 1 0]\t-0.0019\t\t0.0000\n",
            "[1 1 0 1 1 0 1 0]\t1.0063\t\t0.0000\n",
            "[0 1 0 1 1 0 1 0]\t-0.0013\t\t0.0000\n",
            "[1 0 0 1 1 0 1 0]\t-0.0016\t\t0.0000\n",
            "[0 0 0 1 1 0 1 0]\t1.0061\t\t0.0000\n",
            "[1 1 1 0 1 0 1 0]\t1.0064\t\t0.0000\n",
            "[0 1 1 0 1 0 1 0]\t-0.0012\t\t0.0000\n",
            "[1 0 1 0 1 0 1 0]\t-0.0015\t\t0.0000\n",
            "[0 0 1 0 1 0 1 0]\t1.0062\t\t0.0000\n",
            "[1 1 0 0 1 0 1 0]\t-0.0008\t\t0.0000\n",
            "[0 1 0 0 1 0 1 0]\t1.0068\t\t0.0000\n",
            "[1 0 0 0 1 0 1 0]\t1.0064\t\t0.0000\n",
            "[0 0 0 0 1 0 1 0]\t4.0293\t\t0.0000\n",
            "[0 1 1 1 0 0 1 0]\t-0.0015\t\t0.0000\n",
            "[1 1 1 1 1 1 0 0]\t4.0289\t\t0.0000\n",
            "[1 0 1 1 0 0 1 0]\t-0.0018\t\t0.0000\n",
            "[0 0 1 1 0 0 1 0]\t1.0059\t\t0.0000\n",
            "[1 1 0 1 0 0 1 0]\t-0.0011\t\t0.0000\n",
            "[0 1 0 1 0 0 1 0]\t1.0065\t\t0.0000\n",
            "[1 0 0 1 0 0 1 0]\t1.0061\t\t0.0000\n",
            "[0 0 0 1 0 0 1 0]\t4.0290\t\t0.0000\n",
            "[1 1 1 0 0 0 1 0]\t-0.0010\t\t0.0000\n",
            "[0 1 1 0 0 0 1 0]\t1.0065\t\t0.0000\n",
            "[1 0 1 0 0 0 1 0]\t1.0062\t\t0.0000\n",
            "[0 0 1 0 0 0 1 0]\t4.0290\t\t0.0000\n",
            "[1 1 0 0 0 0 1 0]\t1.0069\t\t0.0000\n",
            "[0 1 0 0 0 0 1 0]\t4.0296\t\t0.0000\n",
            "[1 0 0 0 0 0 1 0]\t4.0293\t\t0.0000\n",
            "[1 0 1 1 1 0 1 0]\t1.0056\t\t0.0000\n",
            "[0 1 1 1 1 0 1 0]\t1.0059\t\t0.0000\n",
            "[1 1 1 1 1 0 1 0]\t4.0287\t\t0.0000\n",
            "[1 1 1 1 0 1 1 0]\t4.0288\t\t0.0000\n",
            "[0 0 1 1 1 1 1 0]\t1.0056\t\t0.0000\n",
            "[1 1 0 1 1 1 1 0]\t4.0289\t\t0.0000\n",
            "[0 1 0 1 1 1 1 0]\t1.0062\t\t0.0000\n",
            "[1 0 0 1 1 1 1 0]\t1.0059\t\t0.0000\n",
            "[0 0 0 1 1 1 1 0]\t-0.0015\t\t0.0000\n",
            "[1 1 1 0 1 1 1 0]\t4.0290\t\t0.0000\n",
            "[0 1 1 0 1 1 1 0]\t1.0063\t\t0.0000\n",
            "[1 0 1 0 1 1 1 0]\t1.0060\t\t0.0000\n",
            "[0 0 1 0 1 1 1 0]\t-0.0014\t\t0.0000\n",
            "[1 1 0 0 1 1 1 0]\t1.0067\t\t0.0000\n",
            "[0 1 0 0 1 1 1 0]\t-0.0008\t\t0.0000\n",
            "[1 0 0 0 1 1 1 0]\t-0.0011\t\t0.0000\n",
            "[0 0 0 0 1 1 1 0]\t1.0066\t\t0.0000\n",
            "[0 1 1 1 0 1 1 0]\t1.0060\t\t0.0000\n",
            "[0 0 0 0 0 1 1 0]\t4.0295\t\t0.0000\n",
            "[1 0 1 1 0 1 1 0]\t1.0057\t\t0.0000\n",
            "[0 0 1 1 0 1 1 0]\t-0.0017\t\t0.0000\n",
            "[1 1 0 1 0 1 1 0]\t1.0064\t\t0.0000\n",
            "[0 1 0 1 0 1 1 0]\t-0.0011\t\t0.0000\n",
            "[1 0 0 1 0 1 1 0]\t-0.0015\t\t0.0000\n",
            "[0 0 0 1 0 1 1 0]\t1.0063\t\t0.0000\n",
            "[1 1 1 0 0 1 1 0]\t1.0065\t\t0.0000\n",
            "[0 1 1 0 0 1 1 0]\t-0.0011\t\t0.0000\n",
            "[1 0 1 0 0 1 1 0]\t-0.0014\t\t0.0000\n",
            "[0 0 1 0 0 1 1 0]\t1.0063\t\t0.0000\n",
            "[1 1 0 0 0 1 1 0]\t-0.0007\t\t0.0000\n",
            "[0 1 0 0 0 1 1 0]\t1.0069\t\t0.0000\n",
            "[1 0 0 0 0 1 1 0]\t1.0066\t\t0.0000\n",
            "[0 0 0 0 0 0 1 0]\t9.0673\t\t0.0000\n",
            "[0 1 1 1 1 1 0 0]\t1.0062\t\t0.0000\n",
            "[0 1 1 1 1 1 1 0]\t4.0285\t\t0.0000\n",
            "[1 1 1 1 0 0 0 0]\t-0.0012\t\t0.0000\n",
            "[0 0 1 1 1 0 0 0]\t1.0060\t\t0.0000\n",
            "[1 1 0 1 1 0 0 0]\t-0.0010\t\t0.0000\n",
            "[0 1 0 1 1 0 0 0]\t1.0066\t\t0.0000\n",
            "[1 0 0 1 1 0 0 0]\t1.0062\t\t0.0000\n",
            "[0 0 0 1 1 0 0 0]\t4.0291\t\t0.0000\n",
            "[1 1 1 0 1 0 0 0]\t-0.0009\t\t0.0000\n",
            "[0 1 1 0 1 0 0 0]\t1.0067\t\t0.0000\n",
            "[1 0 1 0 1 0 0 0]\t1.0063\t\t0.0000\n",
            "[0 0 1 0 1 0 0 0]\t4.0292\t\t0.0000\n",
            "[1 1 0 0 1 0 0 0]\t1.0070\t\t0.0000\n",
            "[0 1 0 0 1 0 0 0]\t4.0298\t\t0.0000\n",
            "[1 0 0 0 1 0 0 0]\t4.0294\t\t0.0000\n",
            "[0 0 0 0 1 0 0 0]\t9.0675\t\t0.0000\n",
            "[0 1 1 1 0 0 0 0]\t1.0064\t\t0.0000\n",
            "[0 1 1 1 1 0 0 0]\t-0.0014\t\t0.0000\n",
            "[1 0 1 1 0 0 0 0]\t1.0060\t\t0.0000\n",
            "[0 0 1 1 0 0 0 0]\t4.0288\t\t0.0000\n",
            "[1 1 0 1 0 0 0 0]\t1.0067\t\t0.0000\n",
            "[0 1 0 1 0 0 0 0]\t4.0294\t\t0.0000\n",
            "[1 0 0 1 0 0 0 0]\t4.0291\t\t0.0000\n",
            "[0 0 0 1 0 0 0 0]\t9.0671\t\t0.0000\n",
            "[1 1 1 0 0 0 0 0]\t1.0068\t\t0.0000\n",
            "[0 1 1 0 0 0 0 0]\t4.0295\t\t0.0000\n",
            "[1 0 1 0 0 0 0 0]\t4.0291\t\t0.0000\n",
            "[0 0 1 0 0 0 0 0]\t9.0671\t\t0.0000\n",
            "[1 1 0 0 0 0 0 0]\t4.0298\t\t0.0000\n",
            "[0 1 0 0 0 0 0 0]\t9.0677\t\t0.0000\n",
            "[1 0 0 0 0 0 0 0]\t9.0674\t\t0.0000\n",
            "[1 0 1 1 1 0 0 0]\t-0.0017\t\t0.0000\n",
            "[1 1 1 1 1 0 0 0]\t1.0063\t\t0.0000\n",
            "[1 0 1 1 1 1 0 0]\t1.0058\t\t0.0000\n",
            "[1 1 1 1 0 1 0 0]\t1.0064\t\t0.0000\n",
            "[0 0 1 1 1 1 0 0]\t-0.0016\t\t0.0000\n",
            "[1 1 0 1 1 1 0 0]\t1.0065\t\t0.0000\n",
            "[0 1 0 1 1 1 0 0]\t-0.0010\t\t0.0000\n",
            "[1 0 0 1 1 1 0 0]\t-0.0013\t\t0.0000\n",
            "[0 0 0 1 1 1 0 0]\t1.0064\t\t0.0000\n",
            "[1 1 1 0 1 1 0 0]\t1.0067\t\t0.0000\n",
            "[0 1 1 0 1 1 0 0]\t-0.0009\t\t0.0000\n",
            "[1 0 1 0 1 1 0 0]\t-0.0013\t\t0.0000\n",
            "[0 0 1 0 1 1 0 0]\t1.0065\t\t0.0000\n",
            "[1 1 0 0 1 1 0 0]\t-0.0005\t\t0.0000\n",
            "[0 1 0 0 1 1 0 0]\t1.0071\t\t0.0000\n",
            "[1 0 0 0 1 1 0 0]\t1.0067\t\t0.0000\n",
            "[0 0 0 0 1 1 0 0]\t4.0296\t\t0.0000\n",
            "[0 1 1 1 0 1 0 0]\t-0.0012\t\t0.0000\n",
            "[0 0 0 0 0 1 0 0]\t9.0676\t\t0.0000\n",
            "[1 0 1 1 0 1 0 0]\t-0.0016\t\t0.0000\n",
            "[0 0 1 1 0 1 0 0]\t1.0061\t\t0.0000\n",
            "[1 1 0 1 0 1 0 0]\t-0.0009\t\t0.0000\n",
            "[0 1 0 1 0 1 0 0]\t1.0067\t\t0.0000\n",
            "[1 0 0 1 0 1 0 0]\t1.0064\t\t0.0000\n",
            "[0 0 0 1 0 1 0 0]\t4.0293\t\t0.0000\n",
            "[1 1 1 0 0 1 0 0]\t-0.0008\t\t0.0000\n",
            "[0 1 1 0 0 1 0 0]\t1.0068\t\t0.0000\n",
            "[1 0 1 0 0 1 0 0]\t1.0065\t\t0.0000\n",
            "[0 0 1 0 0 1 0 0]\t4.0293\t\t0.0000\n",
            "[1 1 0 0 0 1 0 0]\t1.0072\t\t0.0000\n",
            "[0 1 0 0 0 1 0 0]\t4.0299\t\t0.0000\n",
            "[1 0 0 0 0 1 0 0]\t4.0296\t\t0.0000\n",
            "[1 0 1 1 1 1 1 0]\t4.0282\t\t0.0000\n",
            "[1 1 1 1 1 1 1 0]\t9.0664\t\t0.0000\n",
            "[0 1 1 1 1 1 1 1]\t9.0657\t\t0.0000\n",
            "[0 0 0 0 1 0 1 1]\t1.0060\t\t0.0000\n",
            "[1 0 1 1 1 0 1 1]\t4.0277\t\t0.0000\n",
            "[0 0 1 1 1 0 1 1]\t1.0050\t\t0.0000\n",
            "[1 1 0 1 1 0 1 1]\t4.0284\t\t0.0000\n",
            "[0 1 0 1 1 0 1 1]\t1.0056\t\t0.0000\n",
            "[1 0 0 1 1 0 1 1]\t1.0053\t\t0.0000\n",
            "[0 0 0 1 1 0 1 1]\t-0.0021\t\t0.0000\n",
            "[1 1 1 0 1 0 1 1]\t4.0285\t\t0.0000\n",
            "[0 1 1 0 1 0 1 1]\t1.0057\t\t0.0000\n",
            "[1 0 1 0 1 0 1 1]\t1.0054\t\t0.0000\n",
            "[0 0 1 0 1 0 1 1]\t-0.0020\t\t0.0000\n",
            "[1 1 0 0 1 0 1 1]\t1.0061\t\t0.0000\n",
            "[0 1 0 0 1 0 1 1]\t-0.0014\t\t0.0000\n",
            "[1 0 0 0 1 0 1 1]\t-0.0018\t\t0.0000\n",
            "[1 1 1 1 0 0 1 1]\t4.0282\t\t0.0000\n",
            "[1 1 1 1 1 0 1 1]\t9.0659\t\t0.0000\n",
            "[0 1 1 1 0 0 1 1]\t1.0055\t\t0.0000\n",
            "[1 0 1 1 0 0 1 1]\t1.0051\t\t0.0000\n",
            "[1 1 0 1 0 0 1 1]\t1.0058\t\t0.0000\n",
            "[0 1 0 1 0 0 1 1]\t-0.0017\t\t0.0000\n",
            "[1 0 0 1 0 0 1 1]\t-0.0021\t\t0.0000\n",
            "[0 0 0 1 0 0 1 1]\t1.0056\t\t0.0000\n",
            "[1 1 1 0 0 0 1 1]\t1.0060\t\t0.0000\n",
            "[0 1 1 0 0 0 1 1]\t-0.0017\t\t0.0000\n",
            "[1 0 1 0 0 0 1 1]\t-0.0020\t\t0.0000\n",
            "[0 0 1 0 0 0 1 1]\t1.0057\t\t0.0000\n",
            "[1 1 0 0 0 0 1 1]\t-0.0013\t\t0.0000\n",
            "[0 1 0 0 0 0 1 1]\t1.0063\t\t0.0000\n",
            "[1 0 0 0 0 0 1 1]\t1.0059\t\t0.0000\n",
            "[0 1 1 1 1 0 1 1]\t4.0280\t\t0.0000\n",
            "[0 0 0 0 0 1 1 1]\t1.0061\t\t0.0000\n",
            "[1 1 1 1 1 1 0 1]\t9.0661\t\t0.0000\n",
            "[0 0 0 0 1 1 1 1]\t-0.0016\t\t0.0000\n",
            "[1 0 1 1 1 1 1 1]\t9.0654\t\t0.0000\n",
            "[0 0 1 1 1 1 1 1]\t4.0277\t\t0.0000\n",
            "[1 1 0 1 1 1 1 1]\t9.0661\t\t0.0000\n",
            "[0 1 0 1 1 1 1 1]\t4.0283\t\t0.0000\n",
            "[1 0 0 1 1 1 1 1]\t4.0279\t\t0.0000\n",
            "[0 0 0 1 1 1 1 1]\t1.0054\t\t0.0000\n",
            "[1 1 1 0 1 1 1 1]\t9.0663\t\t0.0000\n",
            "[0 1 1 0 1 1 1 1]\t4.0284\t\t0.0000\n",
            "[1 0 1 0 1 1 1 1]\t4.0281\t\t0.0000\n",
            "[0 0 1 0 1 1 1 1]\t1.0055\t\t0.0000\n",
            "[1 1 0 0 1 1 1 1]\t4.0288\t\t0.0000\n",
            "[0 1 0 0 1 1 1 1]\t1.0061\t\t0.0000\n",
            "[1 0 0 0 1 1 1 1]\t1.0058\t\t0.0000\n",
            "[1 1 1 1 0 1 1 1]\t9.0660\t\t0.0000\n",
            "[1 0 0 0 0 1 1 1]\t-0.0016\t\t0.0000\n",
            "[0 1 1 1 0 1 1 1]\t4.0281\t\t0.0000\n",
            "[1 0 1 1 0 1 1 1]\t4.0278\t\t0.0000\n",
            "[0 0 1 1 0 1 1 1]\t1.0052\t\t0.0000\n",
            "[1 1 0 1 0 1 1 1]\t4.0285\t\t0.0000\n",
            "[0 1 0 1 0 1 1 1]\t1.0058\t\t0.0000\n",
            "[1 0 0 1 0 1 1 1]\t1.0054\t\t0.0000\n",
            "[0 0 0 1 0 1 1 1]\t-0.0020\t\t0.0000\n",
            "[1 1 1 0 0 1 1 1]\t4.0286\t\t0.0000\n",
            "[0 1 1 0 0 1 1 1]\t1.0059\t\t0.0000\n",
            "[1 0 1 0 0 1 1 1]\t1.0055\t\t0.0000\n",
            "[0 0 1 0 0 1 1 1]\t-0.0019\t\t0.0000\n",
            "[1 1 0 0 0 1 1 1]\t1.0063\t\t0.0000\n",
            "[0 1 0 0 0 1 1 1]\t-0.0013\t\t0.0000\n",
            "[0 0 0 0 0 0 1 1]\t4.0288\t\t0.0000\n",
            "[0 1 1 1 1 1 0 1]\t4.0282\t\t0.0000\n",
            "[0 0 0 0 0 0 0 1]\t9.0669\t\t0.0000\n",
            "[1 1 1 1 0 0 0 1]\t1.0058\t\t0.0000\n",
            "[0 0 1 1 1 0 0 1]\t-0.0022\t\t0.0000\n",
            "[1 1 0 1 1 0 0 1]\t1.0060\t\t0.0000\n",
            "[0 1 0 1 1 0 0 1]\t-0.0016\t\t0.0000\n",
            "[1 0 0 1 1 0 0 1]\t-0.0020\t\t0.0000\n",
            "[0 0 0 1 1 0 0 1]\t1.0057\t\t0.0000\n",
            "[1 1 1 0 1 0 0 1]\t1.0061\t\t0.0000\n",
            "[0 1 1 0 1 0 0 1]\t-0.0015\t\t0.0000\n",
            "[1 0 1 0 1 0 0 1]\t-0.0019\t\t0.0000\n",
            "[0 0 1 0 1 0 0 1]\t1.0058\t\t0.0000\n",
            "[1 1 0 0 1 0 0 1]\t-0.0012\t\t0.0000\n",
            "[0 1 0 0 1 0 0 1]\t1.0064\t\t0.0000\n",
            "[1 0 0 0 1 0 0 1]\t1.0061\t\t0.0000\n",
            "[0 0 0 0 1 0 0 1]\t4.0289\t\t0.0000\n",
            "[0 1 1 1 0 0 0 1]\t-0.0018\t\t0.0000\n",
            "[0 1 1 1 1 0 0 1]\t1.0056\t\t0.0000\n",
            "[1 0 1 1 0 0 0 1]\t-0.0022\t\t0.0000\n",
            "[0 0 1 1 0 0 0 1]\t1.0055\t\t0.0000\n",
            "[1 1 0 1 0 0 0 1]\t-0.0014\t\t0.0000\n",
            "[0 1 0 1 0 0 0 1]\t1.0061\t\t0.0000\n",
            "[1 0 0 1 0 0 0 1]\t1.0057\t\t0.0000\n",
            "[0 0 0 1 0 0 0 1]\t4.0286\t\t0.0000\n",
            "[1 1 1 0 0 0 0 1]\t-0.0013\t\t0.0000\n",
            "[0 1 1 0 0 0 0 1]\t1.0062\t\t0.0000\n",
            "[1 0 1 0 0 0 0 1]\t1.0058\t\t0.0000\n",
            "[0 0 1 0 0 0 0 1]\t4.0286\t\t0.0000\n",
            "[1 1 0 0 0 0 0 1]\t1.0065\t\t0.0000\n",
            "[0 1 0 0 0 0 0 1]\t4.0292\t\t0.0000\n",
            "[1 0 0 0 0 0 0 1]\t4.0289\t\t0.0000\n",
            "[1 0 1 1 1 0 0 1]\t1.0052\t\t0.0000\n",
            "[1 1 1 1 1 0 0 1]\t4.0284\t\t0.0000\n",
            "[1 0 1 1 1 1 0 1]\t4.0279\t\t0.0000\n",
            "[1 1 1 1 0 1 0 1]\t4.0285\t\t0.0000\n",
            "[0 0 1 1 1 1 0 1]\t1.0053\t\t0.0000\n",
            "[1 1 0 1 1 1 0 1]\t4.0286\t\t0.0000\n",
            "[0 1 0 1 1 1 0 1]\t1.0059\t\t0.0000\n",
            "[1 0 0 1 1 1 0 1]\t1.0056\t\t0.0000\n",
            "[0 0 0 1 1 1 0 1]\t-0.0019\t\t0.0000\n",
            "[1 1 1 0 1 1 0 1]\t4.0288\t\t0.0000\n",
            "[0 1 1 0 1 1 0 1]\t1.0060\t\t0.0000\n",
            "[1 0 1 0 1 1 0 1]\t1.0057\t\t0.0000\n",
            "[0 0 1 0 1 1 0 1]\t-0.0018\t\t0.0000\n",
            "[1 1 0 0 1 1 0 1]\t1.0064\t\t0.0000\n",
            "[0 1 0 0 1 1 0 1]\t-0.0012\t\t0.0000\n",
            "[1 0 0 0 1 1 0 1]\t-0.0015\t\t0.0000\n",
            "[0 0 0 0 1 1 0 1]\t1.0062\t\t0.0000\n",
            "[0 1 1 1 0 1 0 1]\t1.0057\t\t0.0000\n",
            "[0 0 0 0 0 1 0 1]\t4.0291\t\t0.0000\n",
            "[1 0 1 1 0 1 0 1]\t1.0054\t\t0.0000\n",
            "[0 0 1 1 0 1 0 1]\t-0.0021\t\t0.0000\n",
            "[1 1 0 1 0 1 0 1]\t1.0061\t\t0.0000\n",
            "[0 1 0 1 0 1 0 1]\t-0.0015\t\t0.0000\n",
            "[1 0 0 1 0 1 0 1]\t-0.0018\t\t0.0000\n",
            "[0 0 0 1 0 1 0 1]\t1.0059\t\t0.0000\n",
            "[1 1 1 0 0 1 0 1]\t1.0062\t\t0.0000\n",
            "[0 1 1 0 0 1 0 1]\t-0.0014\t\t0.0000\n",
            "[1 0 1 0 0 1 0 1]\t-0.0017\t\t0.0000\n",
            "[0 0 1 0 0 1 0 1]\t1.0059\t\t0.0000\n",
            "[1 1 0 0 0 1 0 1]\t-0.0010\t\t0.0000\n",
            "[0 1 0 0 0 1 0 1]\t1.0065\t\t0.0000\n",
            "[1 0 0 0 0 1 0 1]\t1.0062\t\t0.0000\n",
            "[0 0 0 0 0 0 0 0]\t16.1205\t\t0.0000\n"
          ]
        }
      ],
      "source": [
        "#classical reference solution\n",
        "#provide fname ='complete address/location of your .csv file'\n",
        "\n",
        "exact_mes = NumPyMinimumEigensolver()\n",
        "exact_eigensolver = MinimumEigenOptimizer(exact_mes)\n",
        "\n",
        "result = exact_eigensolver.solve(qp)\n",
        "fname = 'nes1.csv' #change the location and nsame of .csv file\n",
        "\n",
        "print_result(result,fname)"
      ]
    },
    {
      "cell_type": "code",
      "execution_count": null,
      "id": "SotSnxc2P44M",
      "metadata": {
        "id": "SotSnxc2P44M"
      },
      "outputs": [],
      "source": [
        "# !pip install qiskit-aer"
      ]
    },
    {
      "cell_type": "code",
      "source": [
        "# VQE solution\n",
        "#provide fname ='complete address/location of your .csv file'\n",
        "\n",
        "from qiskit.utils import algorithm_globals\n",
        "\n",
        "algorithm_globals.random_seed = 1234\n",
        "backend = Aer.get_backend(\"statevector_simulator\")\n",
        "\n",
        "cobyla = COBYLA()\n",
        "cobyla.set_options(maxiter=500)\n",
        "ry = TwoLocal(num_assets, \"ry\", \"cz\", reps=3, entanglement=\"full\")\n",
        "quantum_instance = QuantumInstance(backend=backend, shots=8192, seed_simulator=seed, seed_transpiler=seed)\n",
        "vqe_mes = VQE(ry, optimizer=cobyla, quantum_instance=quantum_instance)\n",
        "vqe = MinimumEigenOptimizer(vqe_mes)\n",
        "result = vqe.solve(qp)\n",
        "\n",
        "fname = 'vqe1.csv' #change the location and name of .csv file\n",
        "print_result(result, fname)\n",
        "\n",
        "\n",
        "\n",
        "\n",
        "# initialize VQE using CVaR\n",
        "# cvar_exp = CVaRExpectation(0.1, PauliExpectation())\n",
        "# vqe = VQE(\n",
        "#     expectation=cvar_exp,\n",
        "#     optimizer=optimizer,\n",
        "#     ansatz=ansatz,\n",
        "#     quantum_instance=backend,\n",
        "#     # callback=store_intermediate_result,\n",
        "# )\n",
        "\n",
        "# [1. 0. 1. 0.] --numpy exact solver"
      ],
      "metadata": {
        "colab": {
          "base_uri": "https://localhost:8080/"
        },
        "id": "x-3-GNBJvaFC",
        "outputId": "f06c3a30-ba9f-4367-d345-97692b60efbe"
      },
      "id": "x-3-GNBJvaFC",
      "execution_count": null,
      "outputs": [
        {
          "output_type": "stream",
          "name": "stderr",
          "text": [
            "/usr/local/lib/python3.7/dist-packages/qiskit_optimization/algorithms/optimization_algorithm.py:138: UserWarning: The sum of probability of samples is not close to 1: f{sum_prob}\n",
            "  warn(\"The sum of probability of samples is not close to 1: f{sum_prob}\")\n"
          ]
        },
        {
          "output_type": "stream",
          "name": "stdout",
          "text": [
            "Optimal: selection [0. 0. 1. 1. 0. 1. 0. 1.], value -0.0021\n",
            "\n",
            "----------------- Full result ---------------------\n",
            "selection\tvalue\t\tprobability\n",
            "---------------------------------------------------\n",
            "[1 1 1 1 0 0 0 0]\t-0.0012\t\t0.2202\n",
            "[0 0 0 0 1 1 1 1]\t-0.0016\t\t0.2098\n",
            "[1 1 0 1 1 0 0 0]\t-0.0010\t\t0.2088\n",
            "[0 0 1 0 0 1 1 1]\t-0.0019\t\t0.2040\n",
            "[1 0 1 0 0 1 0 1]\t-0.0017\t\t0.0437\n",
            "[1 0 0 0 1 1 0 1]\t-0.0015\t\t0.0423\n",
            "[0 1 0 1 1 0 1 0]\t-0.0013\t\t0.0356\n",
            "[0 1 1 1 0 0 1 0]\t-0.0015\t\t0.0353\n",
            "[0 1 1 1 0 0 0 0]\t1.0064\t\t0.0001\n",
            "[1 0 0 0 1 1 1 1]\t1.0058\t\t0.0000\n",
            "[1 0 1 0 0 1 1 1]\t1.0055\t\t0.0000\n",
            "[0 1 1 1 1 0 0 0]\t-0.0014\t\t0.0000\n",
            "[0 0 0 0 0 1 1 1]\t1.0061\t\t0.0000\n",
            "[0 0 1 0 1 1 0 1]\t-0.0018\t\t0.0000\n",
            "[1 0 0 0 0 1 1 1]\t-0.0016\t\t0.0000\n",
            "[1 1 0 1 0 0 0 0]\t1.0067\t\t0.0000\n",
            "[1 1 1 1 0 0 1 0]\t1.0061\t\t0.0000\n",
            "[0 1 0 1 0 0 1 0]\t1.0065\t\t0.0000\n",
            "[0 0 1 0 0 1 0 1]\t1.0059\t\t0.0000\n",
            "[0 0 0 0 1 1 0 1]\t1.0062\t\t0.0000\n",
            "[1 1 0 1 0 0 1 0]\t-0.0011\t\t0.0000\n",
            "[0 1 0 1 0 0 0 0]\t4.0294\t\t0.0000\n",
            "[1 0 0 1 1 0 0 0]\t1.0062\t\t0.0000\n",
            "[0 1 1 0 0 1 1 1]\t1.0059\t\t0.0000\n",
            "[0 1 0 1 1 0 0 0]\t1.0066\t\t0.0000\n",
            "[0 1 1 0 0 1 0 1]\t-0.0014\t\t0.0000\n",
            "[0 1 0 0 1 1 0 1]\t-0.0012\t\t0.0000\n",
            "[0 0 1 1 0 1 0 1]\t-0.0021\t\t0.0000\n",
            "[0 0 0 1 1 1 0 1]\t-0.0019\t\t0.0000\n",
            "[1 1 1 1 0 0 0 1]\t1.0058\t\t0.0000\n",
            "[0 0 0 0 1 1 1 0]\t1.0066\t\t0.0000\n",
            "[0 1 1 1 1 0 1 0]\t1.0059\t\t0.0000\n",
            "[1 0 1 0 1 1 1 1]\t4.0281\t\t0.0000\n",
            "[1 0 1 0 1 1 0 1]\t1.0057\t\t0.0000\n",
            "[1 1 1 1 1 0 1 0]\t4.0287\t\t0.0000\n",
            "[1 1 0 1 1 0 1 0]\t1.0063\t\t0.0000\n",
            "[1 1 1 0 0 1 0 1]\t1.0062\t\t0.0000\n",
            "[1 0 1 1 0 0 0 0]\t1.0060\t\t0.0000\n",
            "[0 1 0 0 1 1 1 1]\t1.0061\t\t0.0000\n",
            "[0 0 1 0 1 1 1 1]\t1.0055\t\t0.0000\n",
            "[0 0 0 1 1 0 1 0]\t1.0061\t\t0.0000\n",
            "[1 1 0 0 1 1 1 1]\t4.0288\t\t0.0000\n",
            "[1 0 0 1 1 1 1 1]\t4.0279\t\t0.0000\n",
            "[1 0 1 1 0 1 1 1]\t4.0278\t\t0.0000\n",
            "[1 1 1 0 0 1 1 1]\t4.0286\t\t0.0000\n",
            "[1 1 1 0 0 0 1 0]\t-0.0010\t\t0.0000\n",
            "[1 1 0 0 1 0 1 0]\t-0.0008\t\t0.0000\n",
            "[0 0 1 0 0 1 1 0]\t1.0063\t\t0.0000\n",
            "[1 0 0 0 1 1 0 0]\t1.0067\t\t0.0000\n",
            "[1 1 0 1 1 0 0 1]\t1.0060\t\t0.0000\n",
            "[1 1 0 1 1 0 1 1]\t4.0284\t\t0.0000\n",
            "[1 1 1 1 0 0 1 1]\t4.0282\t\t0.0000\n",
            "[1 1 1 1 0 1 1 0]\t4.0288\t\t0.0000\n",
            "[1 1 0 1 1 1 1 0]\t4.0289\t\t0.0000\n",
            "[0 1 1 1 0 0 1 1]\t1.0055\t\t0.0000\n",
            "[0 0 0 0 1 1 0 0]\t4.0296\t\t0.0000\n",
            "[0 0 1 0 0 1 0 0]\t4.0293\t\t0.0000\n",
            "[1 1 1 1 1 0 0 0]\t1.0063\t\t0.0000\n",
            "[1 1 0 1 1 1 0 0]\t1.0065\t\t0.0000\n",
            "[0 0 1 0 0 0 1 1]\t1.0057\t\t0.0000\n",
            "[1 1 1 1 0 1 0 0]\t1.0064\t\t0.0000\n",
            "[0 0 0 0 1 0 1 1]\t1.0060\t\t0.0000\n",
            "[0 0 1 1 0 1 1 1]\t1.0052\t\t0.0000\n",
            "[1 1 0 0 1 0 0 0]\t1.0070\t\t0.0000\n",
            "[1 0 0 1 0 0 0 0]\t4.0291\t\t0.0000\n",
            "[0 0 0 1 1 1 1 1]\t1.0054\t\t0.0000\n",
            "[1 1 1 0 0 0 0 0]\t1.0068\t\t0.0000\n",
            "[1 0 1 1 1 0 0 0]\t-0.0017\t\t0.0000\n",
            "[1 1 0 0 1 1 0 1]\t1.0064\t\t0.0000\n",
            "[0 0 1 1 0 0 1 0]\t1.0059\t\t0.0000\n",
            "[0 1 1 0 1 1 1 1]\t4.0284\t\t0.0000\n",
            "[0 1 0 0 0 1 1 1]\t-0.0013\t\t0.0000\n",
            "[1 0 1 0 0 1 0 0]\t1.0065\t\t0.0000\n",
            "[0 1 1 1 0 0 0 1]\t-0.0018\t\t0.0000\n",
            "[0 1 0 1 1 0 1 1]\t1.0056\t\t0.0000\n",
            "[0 1 1 0 0 0 0 0]\t4.0295\t\t0.0000\n",
            "[0 1 0 0 1 0 0 0]\t4.0298\t\t0.0000\n",
            "[0 1 0 1 1 0 0 1]\t-0.0016\t\t0.0000\n",
            "[0 0 0 0 0 1 1 0]\t4.0295\t\t0.0000\n",
            "[1 1 0 1 0 0 0 1]\t-0.0014\t\t0.0000\n",
            "[0 0 1 0 1 1 1 0]\t-0.0014\t\t0.0000\n",
            "[1 1 1 1 1 0 0 1]\t4.0284\t\t0.0000\n",
            "[1 0 1 0 0 1 1 0]\t-0.0014\t\t0.0000\n",
            "[0 1 0 1 1 1 0 0]\t-0.0010\t\t0.0000\n",
            "[0 1 1 1 0 1 0 0]\t-0.0012\t\t0.0000\n",
            "[0 0 1 1 1 1 1 1]\t4.0277\t\t0.0000\n",
            "[1 0 0 0 1 1 1 0]\t-0.0011\t\t0.0000\n",
            "[1 1 1 0 1 0 0 0]\t-0.0009\t\t0.0000\n",
            "[1 1 0 0 0 0 0 0]\t4.0298\t\t0.0000\n",
            "[1 0 1 0 0 0 0 1]\t1.0058\t\t0.0000\n",
            "[0 0 0 1 0 1 1 1]\t-0.0020\t\t0.0000\n",
            "[1 0 0 0 1 0 0 1]\t1.0061\t\t0.0000\n",
            "[0 1 1 1 0 1 1 0]\t1.0060\t\t0.0000\n",
            "[0 1 0 1 1 1 1 0]\t1.0062\t\t0.0000\n",
            "[0 1 0 0 1 0 1 0]\t1.0068\t\t0.0000\n",
            "[1 0 1 1 0 1 0 1]\t1.0054\t\t0.0000\n",
            "[1 1 1 0 1 1 0 1]\t4.0288\t\t0.0000\n",
            "[1 1 0 0 0 1 0 1]\t-0.0010\t\t0.0000\n",
            "[0 0 0 1 0 0 1 0]\t4.0290\t\t0.0000\n",
            "[0 0 1 1 1 0 1 0]\t-0.0019\t\t0.0000\n",
            "[0 1 1 0 0 0 1 0]\t1.0065\t\t0.0000\n",
            "[1 0 0 1 1 1 0 1]\t1.0056\t\t0.0000\n",
            "[1 0 0 0 0 1 0 1]\t1.0062\t\t0.0000\n",
            "[1 0 0 0 0 1 0 0]\t4.0296\t\t0.0000\n",
            "[1 0 1 0 1 1 0 0]\t-0.0013\t\t0.0000\n",
            "[0 1 1 0 1 0 1 0]\t-0.0012\t\t0.0000\n",
            "[0 1 0 0 0 0 1 0]\t4.0296\t\t0.0000\n",
            "[1 0 1 1 1 1 0 1]\t4.0279\t\t0.0000\n",
            "[0 1 0 1 0 0 1 1]\t-0.0017\t\t0.0000\n",
            "[0 1 1 1 1 0 1 1]\t4.0280\t\t0.0000\n",
            "[1 0 0 1 0 1 0 1]\t-0.0018\t\t0.0000\n",
            "[0 0 0 0 1 0 0 1]\t4.0289\t\t0.0000\n",
            "[0 0 1 0 0 0 0 1]\t4.0286\t\t0.0000\n",
            "[0 0 0 0 0 1 0 1]\t4.0291\t\t0.0000\n",
            "[1 0 1 0 0 0 1 1]\t-0.0020\t\t0.0000\n",
            "[0 1 1 0 1 1 0 1]\t1.0060\t\t0.0000\n",
            "[1 0 0 0 1 0 1 1]\t-0.0018\t\t0.0000\n",
            "[1 1 0 1 0 0 1 1]\t1.0058\t\t0.0000\n",
            "[1 0 1 1 0 0 1 0]\t-0.0018\t\t0.0000\n",
            "[1 1 0 1 0 1 0 0]\t-0.0009\t\t0.0000\n",
            "[0 0 0 1 1 0 0 0]\t4.0291\t\t0.0000\n",
            "[1 0 0 1 1 0 1 0]\t-0.0016\t\t0.0000\n",
            "[1 1 0 0 0 1 1 1]\t1.0063\t\t0.0000\n",
            "[1 1 0 0 0 0 1 0]\t1.0069\t\t0.0000\n",
            "[0 1 1 1 1 0 0 1]\t1.0056\t\t0.0000\n",
            "[0 0 1 1 1 0 0 0]\t1.0060\t\t0.0000\n",
            "[0 0 1 0 1 0 1 1]\t-0.0020\t\t0.0000\n",
            "[1 0 0 0 0 1 1 0]\t1.0066\t\t0.0000\n",
            "[0 1 1 1 0 1 1 1]\t4.0281\t\t0.0000\n",
            "[1 1 1 1 1 1 0 0]\t4.0289\t\t0.0000\n",
            "[1 1 1 1 1 1 1 0]\t9.0664\t\t0.0000\n",
            "[1 1 0 1 0 1 1 0]\t1.0064\t\t0.0000\n",
            "[1 1 1 1 0 1 0 1]\t4.0285\t\t0.0000\n",
            "[0 0 0 1 1 1 0 0]\t1.0064\t\t0.0000\n",
            "[1 0 0 1 0 1 1 1]\t1.0054\t\t0.0000\n",
            "[0 0 1 1 1 1 0 1]\t1.0053\t\t0.0000\n",
            "[0 1 1 1 0 1 0 1]\t1.0057\t\t0.0000\n",
            "[0 0 1 1 0 0 0 0]\t4.0288\t\t0.0000\n",
            "[1 0 1 1 1 0 1 0]\t1.0056\t\t0.0000\n",
            "[0 1 0 1 1 1 1 1]\t4.0283\t\t0.0000\n",
            "[0 1 0 0 0 1 0 1]\t1.0065\t\t0.0000\n",
            "[1 0 1 0 1 1 1 0]\t1.0060\t\t0.0000\n",
            "[0 1 0 0 1 1 0 0]\t1.0071\t\t0.0000\n",
            "[1 1 1 1 1 0 1 1]\t9.0659\t\t0.0000\n",
            "[1 1 1 0 1 0 1 0]\t1.0064\t\t0.0000\n",
            "[0 1 1 0 0 1 1 0]\t-0.0011\t\t0.0000\n",
            "[1 0 1 0 1 0 0 1]\t-0.0019\t\t0.0000\n",
            "[1 1 0 1 1 1 0 1]\t4.0286\t\t0.0000\n",
            "[0 0 0 1 0 0 0 0]\t9.0671\t\t0.0000\n",
            "[0 0 0 1 1 1 1 0]\t-0.0015\t\t0.0000\n",
            "[0 1 0 1 1 1 0 1]\t1.0059\t\t0.0000\n",
            "[0 1 0 0 1 1 1 0]\t-0.0008\t\t0.0000\n",
            "[0 1 0 1 0 0 0 1]\t1.0061\t\t0.0000\n",
            "[0 0 0 0 0 0 1 1]\t4.0288\t\t0.0000\n",
            "[1 0 0 1 0 0 1 0]\t1.0061\t\t0.0000\n",
            "[0 0 0 0 0 1 0 0]\t9.0676\t\t0.0000\n",
            "[1 0 0 1 1 0 1 1]\t1.0053\t\t0.0000\n",
            "[0 1 1 1 1 1 0 0]\t1.0062\t\t0.0000\n",
            "[1 1 1 0 1 1 1 1]\t9.0663\t\t0.0000\n",
            "[0 1 0 1 0 1 0 0]\t1.0067\t\t0.0000\n",
            "[0 0 1 1 0 1 0 0]\t1.0061\t\t0.0000\n",
            "[1 1 0 0 1 1 0 0]\t-0.0005\t\t0.0000\n",
            "[1 0 0 0 1 0 1 0]\t1.0064\t\t0.0000\n",
            "[0 1 1 0 0 0 1 1]\t-0.0017\t\t0.0000\n",
            "[0 1 0 1 0 1 1 0]\t-0.0011\t\t0.0000\n",
            "[1 0 0 0 0 0 0 1]\t4.0289\t\t0.0000\n",
            "[0 0 1 0 1 0 0 1]\t1.0058\t\t0.0000\n",
            "[1 1 1 0 0 1 0 0]\t-0.0008\t\t0.0000\n",
            "[1 0 0 0 0 0 1 1]\t1.0059\t\t0.0000\n",
            "[1 0 1 1 0 0 0 1]\t-0.0022\t\t0.0000\n",
            "[0 1 0 0 0 0 0 0]\t9.0677\t\t0.0000\n",
            "[1 0 0 1 1 0 0 1]\t-0.0020\t\t0.0000\n",
            "[1 0 0 0 1 0 0 0]\t4.0294\t\t0.0000\n",
            "[1 0 1 1 1 1 1 1]\t9.0654\t\t0.0000\n",
            "[0 1 1 0 0 0 0 1]\t1.0062\t\t0.0000\n",
            "[0 1 0 0 1 0 0 1]\t1.0064\t\t0.0000\n",
            "[0 0 0 1 0 1 0 1]\t1.0059\t\t0.0000\n",
            "[1 1 0 0 1 1 1 0]\t1.0067\t\t0.0000\n",
            "[1 0 1 1 0 0 1 1]\t1.0051\t\t0.0000\n",
            "[0 0 1 1 0 1 1 0]\t-0.0017\t\t0.0000\n",
            "[0 0 0 1 1 0 1 1]\t-0.0021\t\t0.0000\n",
            "[1 0 1 0 0 0 1 0]\t1.0062\t\t0.0000\n",
            "[1 1 0 1 1 1 1 1]\t9.0661\t\t0.0000\n",
            "[1 0 1 0 1 0 1 1]\t1.0054\t\t0.0000\n",
            "[1 1 1 0 0 0 0 1]\t-0.0013\t\t0.0000\n",
            "[0 0 1 1 0 0 0 1]\t1.0055\t\t0.0000\n",
            "[1 1 1 0 0 0 1 1]\t1.0060\t\t0.0000\n",
            "[0 1 0 0 1 0 1 1]\t-0.0014\t\t0.0000\n",
            "[0 1 0 0 0 1 0 0]\t4.0299\t\t0.0000\n",
            "[0 1 1 0 1 1 0 0]\t-0.0009\t\t0.0000\n",
            "[0 0 1 0 1 1 0 0]\t1.0065\t\t0.0000\n",
            "[1 1 1 0 0 1 1 0]\t1.0065\t\t0.0000\n",
            "[0 1 1 0 1 0 0 0]\t1.0067\t\t0.0000\n",
            "[1 1 0 0 1 0 1 1]\t1.0061\t\t0.0000\n",
            "[1 1 1 1 0 1 1 1]\t9.0660\t\t0.0000\n",
            "[1 1 0 0 0 1 1 0]\t-0.0007\t\t0.0000\n",
            "[1 1 1 0 1 1 1 0]\t4.0290\t\t0.0000\n",
            "[0 0 1 0 0 0 1 0]\t4.0290\t\t0.0000\n",
            "[0 0 0 1 0 1 0 0]\t4.0293\t\t0.0000\n",
            "[0 1 1 0 0 1 0 0]\t1.0068\t\t0.0000\n",
            "[0 0 1 1 0 0 1 1]\t-0.0024\t\t0.0000\n",
            "[1 0 0 0 0 0 0 0]\t9.0674\t\t0.0000\n",
            "[0 0 1 1 1 1 0 0]\t-0.0016\t\t0.0000\n",
            "[1 0 1 0 1 0 0 0]\t1.0063\t\t0.0000\n",
            "[0 0 1 1 1 1 1 0]\t1.0056\t\t0.0000\n",
            "[0 0 0 1 0 1 1 0]\t1.0063\t\t0.0000\n",
            "[0 0 0 0 1 0 1 0]\t4.0293\t\t0.0000\n",
            "[1 0 0 1 1 1 0 0]\t-0.0013\t\t0.0000\n",
            "[0 1 1 1 1 1 1 1]\t9.0657\t\t0.0000\n",
            "[0 1 1 0 1 0 1 1]\t1.0057\t\t0.0000\n",
            "[0 1 0 0 0 0 1 1]\t1.0063\t\t0.0000\n",
            "[1 1 1 1 1 1 0 1]\t9.0661\t\t0.0000\n",
            "[1 0 0 0 0 0 1 0]\t4.0293\t\t0.0000\n",
            "[1 0 0 1 0 0 1 1]\t-0.0021\t\t0.0000\n",
            "[1 0 1 0 1 0 1 0]\t-0.0015\t\t0.0000\n",
            "[0 1 0 1 0 1 1 1]\t1.0058\t\t0.0000\n",
            "[1 1 0 1 0 1 0 1]\t1.0061\t\t0.0000\n",
            "[1 0 1 1 1 0 1 1]\t4.0277\t\t0.0000\n",
            "[0 1 0 1 0 1 0 1]\t-0.0015\t\t0.0000\n",
            "[0 1 1 1 1 1 0 1]\t4.0282\t\t0.0000\n",
            "[0 0 0 1 1 0 0 1]\t1.0057\t\t0.0000\n",
            "[0 1 1 1 1 1 1 0]\t4.0285\t\t0.0000\n",
            "[1 1 1 0 1 0 0 1]\t1.0061\t\t0.0000\n",
            "[0 0 0 0 1 0 0 0]\t9.0675\t\t0.0000\n",
            "[1 1 0 0 0 0 0 1]\t1.0065\t\t0.0000\n",
            "[0 0 1 1 1 0 1 1]\t1.0050\t\t0.0000\n",
            "[0 0 0 1 0 0 1 1]\t1.0056\t\t0.0000\n",
            "[0 0 0 1 0 0 0 1]\t4.0286\t\t0.0000\n",
            "[0 0 1 1 1 0 0 1]\t-0.0022\t\t0.0000\n",
            "[1 0 1 1 0 1 1 0]\t1.0057\t\t0.0000\n",
            "[1 0 0 1 1 1 1 0]\t1.0059\t\t0.0000\n",
            "[1 0 0 1 0 1 0 0]\t1.0064\t\t0.0000\n",
            "[0 0 1 0 0 0 0 0]\t9.0671\t\t0.0000\n",
            "[0 0 0 0 0 0 0 0]\t16.1205\t\t0.0000\n",
            "[0 0 1 0 1 0 0 0]\t4.0292\t\t0.0000\n",
            "[1 1 0 0 0 1 0 0]\t1.0072\t\t0.0000\n",
            "[1 1 0 1 0 1 1 1]\t4.0285\t\t0.0000\n",
            "[1 0 1 1 1 1 1 0]\t4.0282\t\t0.0000\n",
            "[0 1 1 0 1 1 1 0]\t1.0063\t\t0.0000\n",
            "[1 1 1 0 1 1 0 0]\t1.0067\t\t0.0000\n",
            "[1 0 1 1 1 1 0 0]\t1.0058\t\t0.0000\n",
            "[1 1 1 1 1 1 1 1]\t16.1188\t\t0.0000\n",
            "[1 0 0 1 0 1 1 0]\t-0.0015\t\t0.0000\n",
            "[0 1 0 0 0 1 1 0]\t1.0069\t\t0.0000\n",
            "[1 0 1 1 0 1 0 0]\t-0.0016\t\t0.0000\n",
            "[1 1 0 0 1 0 0 1]\t-0.0012\t\t0.0000\n",
            "[1 0 1 0 0 0 0 0]\t4.0291\t\t0.0000\n",
            "[1 1 0 0 0 0 1 1]\t-0.0013\t\t0.0000\n",
            "[1 1 1 0 1 0 1 1]\t4.0285\t\t0.0000\n",
            "[0 0 1 0 1 0 1 0]\t1.0062\t\t0.0000\n",
            "[0 0 0 0 0 0 0 1]\t9.0669\t\t0.0000\n",
            "[0 0 0 0 0 0 1 0]\t9.0673\t\t0.0000\n",
            "[0 1 1 0 1 0 0 1]\t-0.0015\t\t0.0000\n",
            "[1 0 1 1 1 0 0 1]\t1.0052\t\t0.0000\n",
            "[1 0 0 1 0 0 0 1]\t1.0057\t\t0.0000\n",
            "[0 1 0 0 0 0 0 1]\t4.0292\t\t0.0000\n"
          ]
        }
      ]
    },
    {
      "cell_type": "code",
      "execution_count": null,
      "id": "f0d47626",
      "metadata": {
        "colab": {
          "base_uri": "https://localhost:8080/"
        },
        "id": "f0d47626",
        "outputId": "c8de7984-036b-4a98-fa76-650b89551584"
      },
      "outputs": [
        {
          "output_type": "stream",
          "name": "stdout",
          "text": [
            "Optimal: selection [0. 0. 1. 1. 0. 0. 1. 1.], value -0.0024\n",
            "\n",
            "----------------- Full result ---------------------\n",
            "selection\tvalue\t\tprobability\n",
            "---------------------------------------------------\n",
            "[0 0 1 0 0 1 1 1]\t-0.0019\t\t0.2577\n",
            "[1 0 0 1 0 1 1 0]\t-0.0015\t\t0.1067\n",
            "[1 1 0 1 0 0 0 0]\t1.0067\t\t0.0932\n",
            "[1 1 0 1 0 0 1 0]\t-0.0011\t\t0.0904\n",
            "[0 1 1 0 0 0 1 1]\t-0.0017\t\t0.0633\n",
            "[1 0 0 1 0 1 0 0]\t1.0064\t\t0.0474\n",
            "[1 0 1 0 0 1 1 1]\t1.0055\t\t0.0412\n",
            "[1 0 0 1 1 0 1 0]\t-0.0016\t\t0.0315\n",
            "[1 0 0 1 1 0 0 0]\t1.0062\t\t0.0194\n",
            "[1 1 1 0 0 0 1 1]\t1.0060\t\t0.0154\n",
            "[1 1 0 1 0 0 1 1]\t1.0058\t\t0.0151\n",
            "[0 0 1 0 0 1 1 0]\t1.0063\t\t0.0149\n",
            "[1 1 0 1 1 0 0 0]\t-0.0010\t\t0.0138\n",
            "[1 1 0 1 0 0 0 1]\t-0.0014\t\t0.0121\n",
            "[0 0 1 0 1 0 1 1]\t-0.0020\t\t0.0120\n",
            "[1 0 1 1 0 1 1 0]\t1.0057\t\t0.0113\n",
            "[0 0 0 0 1 1 1 1]\t-0.0016\t\t0.0094\n",
            "[0 0 0 0 0 1 1 1]\t1.0061\t\t0.0087\n",
            "[1 0 1 1 0 1 0 0]\t-0.0016\t\t0.0061\n",
            "[1 0 0 1 1 0 1 1]\t1.0053\t\t0.0057\n",
            "[0 1 0 0 1 1 1 1]\t1.0061\t\t0.0055\n",
            "[1 1 0 1 1 0 1 0]\t1.0063\t\t0.0053\n",
            "[1 0 1 1 0 0 1 0]\t-0.0018\t\t0.0049\n",
            "[1 0 0 1 1 1 1 0]\t1.0059\t\t0.0048\n",
            "[0 0 1 0 1 1 1 0]\t-0.0014\t\t0.0046\n",
            "[0 1 1 0 0 0 1 0]\t1.0065\t\t0.0044\n",
            "[0 1 1 0 0 1 0 1]\t-0.0014\t\t0.0043\n",
            "[0 1 0 1 0 0 1 0]\t1.0065\t\t0.0042\n",
            "[0 1 1 0 1 0 1 1]\t1.0057\t\t0.0037\n",
            "[0 0 0 0 0 0 1 1]\t4.0288\t\t0.0035\n",
            "[1 0 1 0 0 1 1 0]\t-0.0014\t\t0.0034\n",
            "[1 1 1 0 1 0 1 1]\t4.0285\t\t0.0026\n",
            "[0 1 1 0 1 1 0 1]\t1.0060\t\t0.0026\n",
            "[1 0 0 1 1 0 0 1]\t-0.0020\t\t0.0025\n",
            "[1 0 0 1 1 1 0 0]\t-0.0013\t\t0.0025\n",
            "[0 1 1 0 0 0 0 1]\t1.0062\t\t0.0024\n",
            "[1 0 0 1 0 0 1 1]\t-0.0021\t\t0.0023\n",
            "[1 0 0 1 0 1 1 1]\t1.0054\t\t0.0023\n",
            "[1 1 0 1 1 0 0 1]\t1.0060\t\t0.0022\n",
            "[0 0 0 1 0 1 1 0]\t1.0063\t\t0.0022\n",
            "[0 0 1 0 0 0 1 1]\t1.0057\t\t0.0021\n",
            "[0 1 0 1 0 0 0 0]\t4.0294\t\t0.0021\n",
            "[0 1 1 0 1 0 0 1]\t-0.0015\t\t0.0019\n",
            "[1 0 0 0 1 1 1 1]\t1.0058\t\t0.0019\n",
            "[0 0 1 0 0 1 0 1]\t1.0059\t\t0.0017\n",
            "[1 1 1 1 0 1 1 0]\t4.0288\t\t0.0016\n",
            "[1 1 1 1 0 0 1 0]\t1.0061\t\t0.0015\n",
            "[1 0 1 1 1 0 1 0]\t1.0056\t\t0.0014\n",
            "[1 0 0 1 0 0 0 0]\t4.0291\t\t0.0014\n",
            "[1 1 0 1 1 0 1 1]\t4.0284\t\t0.0012\n",
            "[0 1 0 0 0 1 1 1]\t-0.0013\t\t0.0012\n",
            "[0 1 0 1 1 0 1 0]\t-0.0013\t\t0.0012\n",
            "[1 0 0 0 0 1 1 1]\t-0.0016\t\t0.0012\n",
            "[1 1 0 1 0 1 1 0]\t1.0064\t\t0.0011\n",
            "[0 0 0 0 0 1 1 0]\t4.0295\t\t0.0011\n",
            "[0 1 0 0 0 0 0 1]\t4.0292\t\t0.0011\n",
            "[1 1 1 1 1 1 1 0]\t9.0664\t\t0.0010\n",
            "[1 0 1 1 0 0 0 0]\t1.0060\t\t0.0009\n",
            "[0 0 0 0 1 1 1 0]\t1.0066\t\t0.0009\n",
            "[0 0 1 0 0 0 0 1]\t4.0286\t\t0.0009\n",
            "[0 1 0 0 0 1 0 1]\t1.0065\t\t0.0009\n",
            "[0 1 0 1 1 0 0 0]\t1.0066\t\t0.0009\n",
            "[0 0 0 1 0 1 0 0]\t4.0293\t\t0.0008\n",
            "[0 1 1 0 1 1 1 0]\t1.0063\t\t0.0008\n",
            "[1 0 0 1 0 1 0 1]\t-0.0018\t\t0.0008\n",
            "[1 0 1 0 1 0 1 1]\t1.0054\t\t0.0008\n",
            "[0 0 1 0 1 0 1 0]\t1.0062\t\t0.0007\n",
            "[1 1 1 0 0 0 1 0]\t-0.0010\t\t0.0007\n",
            "[0 1 0 1 0 0 1 1]\t-0.0017\t\t0.0007\n",
            "[0 0 1 0 0 0 1 0]\t4.0290\t\t0.0007\n",
            "[1 1 1 0 0 1 1 1]\t4.0286\t\t0.0006\n",
            "[1 0 0 0 0 0 1 1]\t1.0059\t\t0.0006\n",
            "[1 0 0 1 0 0 1 0]\t1.0061\t\t0.0006\n",
            "[0 1 0 0 1 0 1 1]\t-0.0014\t\t0.0006\n",
            "[0 0 1 0 1 1 1 1]\t1.0055\t\t0.0006\n",
            "[0 1 1 0 1 0 1 0]\t-0.0012\t\t0.0006\n",
            "[1 0 1 0 1 1 1 1]\t4.0281\t\t0.0006\n",
            "[1 1 1 1 0 1 0 0]\t1.0064\t\t0.0006\n",
            "[1 0 0 1 1 1 1 1]\t4.0279\t\t0.0005\n",
            "[1 0 1 1 1 1 1 0]\t4.0282\t\t0.0005\n",
            "[1 1 0 1 0 1 0 1]\t1.0061\t\t0.0005\n",
            "[1 1 0 1 1 1 1 0]\t4.0289\t\t0.0005\n",
            "[1 1 1 1 1 0 1 0]\t4.0287\t\t0.0005\n",
            "[0 0 0 1 0 0 0 0]\t9.0671\t\t0.0005\n",
            "[1 1 1 1 1 1 0 0]\t4.0289\t\t0.0004\n",
            "[1 1 0 0 1 1 1 1]\t4.0288\t\t0.0004\n",
            "[1 0 1 0 0 1 0 1]\t-0.0017\t\t0.0004\n",
            "[1 1 0 0 0 0 1 1]\t-0.0013\t\t0.0004\n",
            "[0 1 0 0 1 0 0 1]\t1.0064\t\t0.0004\n",
            "[0 1 0 0 1 1 0 1]\t-0.0012\t\t0.0003\n",
            "[1 1 1 0 1 1 0 1]\t4.0288\t\t0.0003\n",
            "[1 0 1 0 0 0 1 0]\t1.0062\t\t0.0003\n",
            "[1 1 0 1 0 1 0 0]\t-0.0009\t\t0.0003\n",
            "[0 0 0 1 1 1 1 0]\t-0.0015\t\t0.0003\n",
            "[1 0 0 1 0 0 0 1]\t1.0057\t\t0.0003\n",
            "[1 1 1 0 0 1 0 1]\t1.0062\t\t0.0003\n",
            "[0 1 1 0 0 1 1 1]\t1.0059\t\t0.0002\n",
            "[1 0 1 0 0 0 0 1]\t1.0058\t\t0.0002\n",
            "[1 0 0 1 1 1 0 1]\t1.0056\t\t0.0002\n",
            "[1 1 0 0 0 0 0 1]\t1.0065\t\t0.0002\n",
            "[1 0 1 1 1 1 0 0]\t1.0058\t\t0.0002\n",
            "[1 0 1 1 0 1 1 1]\t4.0278\t\t0.0002\n",
            "[1 0 1 0 1 1 1 0]\t1.0060\t\t0.0002\n",
            "[1 0 1 1 0 1 0 1]\t1.0054\t\t0.0002\n",
            "[0 1 0 0 0 0 1 0]\t4.0296\t\t0.0002\n",
            "[0 0 1 1 1 1 1 0]\t1.0056\t\t0.0002\n",
            "[0 1 0 1 1 0 1 1]\t1.0056\t\t0.0002\n",
            "[0 0 1 0 0 1 0 0]\t4.0293\t\t0.0002\n",
            "[1 1 0 1 1 1 0 1]\t4.0286\t\t0.0002\n",
            "[0 1 0 1 0 0 0 1]\t1.0061\t\t0.0002\n",
            "[1 1 1 0 1 0 1 0]\t1.0064\t\t0.0002\n",
            "[1 1 0 0 0 0 0 0]\t4.0298\t\t0.0002\n",
            "[1 0 0 0 1 1 1 0]\t-0.0011\t\t0.0001\n",
            "[1 1 0 1 0 1 1 1]\t4.0285\t\t0.0001\n",
            "[0 1 0 0 1 1 1 0]\t-0.0008\t\t0.0001\n",
            "[1 1 1 0 1 0 0 1]\t1.0061\t\t0.0001\n",
            "[0 0 0 1 0 0 1 0]\t4.0290\t\t0.0001\n",
            "[1 1 0 0 0 1 0 1]\t-0.0010\t\t0.0001\n",
            "[1 1 0 0 0 0 1 0]\t1.0069\t\t0.0001\n",
            "[1 0 1 1 1 0 0 0]\t-0.0017\t\t0.0001\n",
            "[0 1 1 0 1 1 1 1]\t4.0284\t\t0.0001\n",
            "[0 0 1 0 1 1 0 1]\t-0.0018\t\t0.0001\n",
            "[1 0 0 0 0 1 0 0]\t4.0296\t\t0.0001\n",
            "[0 1 0 1 0 1 0 0]\t1.0067\t\t0.0001\n",
            "[1 1 0 1 1 1 0 0]\t1.0065\t\t0.0001\n",
            "[1 1 1 1 1 0 1 1]\t9.0659\t\t0.0001\n",
            "[0 1 0 1 0 1 1 0]\t-0.0011\t\t0.0001\n",
            "[1 1 0 0 1 0 0 1]\t-0.0012\t\t0.0001\n",
            "[0 0 1 1 0 1 1 0]\t-0.0017\t\t0.0001\n",
            "[0 0 0 1 1 1 0 0]\t1.0064\t\t0.0001\n",
            "[0 0 1 1 0 1 1 1]\t1.0052\t\t0.0001\n",
            "[0 1 0 1 1 0 0 1]\t-0.0016\t\t0.0001\n",
            "[1 1 1 1 0 1 1 1]\t9.0660\t\t0.0001\n",
            "[1 0 1 0 1 1 0 1]\t1.0057\t\t0.0001\n",
            "[0 1 1 0 0 1 1 0]\t-0.0011\t\t0.0001\n",
            "[1 1 1 1 0 0 1 1]\t4.0282\t\t0.0001\n",
            "[0 1 0 1 0 1 1 1]\t1.0058\t\t0.0001\n",
            "[0 0 1 1 1 0 1 0]\t-0.0019\t\t0.0001\n",
            "[0 0 1 1 0 1 0 0]\t1.0061\t\t0.0001\n",
            "[1 0 1 1 1 0 0 1]\t1.0052\t\t0.0001\n",
            "[1 1 1 1 1 0 0 0]\t1.0063\t\t0.0001\n",
            "[1 1 0 0 1 1 0 1]\t1.0064\t\t0.0001\n",
            "[0 0 1 1 1 1 0 0]\t-0.0016\t\t0.0001\n",
            "[0 1 1 1 0 1 1 1]\t4.0281\t\t0.0001\n",
            "[0 1 0 0 0 0 1 1]\t1.0063\t\t0.0001\n",
            "[0 0 0 1 0 0 0 1]\t4.0286\t\t0.0001\n",
            "[1 1 1 0 1 1 1 0]\t4.0290\t\t0.0000\n",
            "[1 1 1 0 0 0 0 1]\t-0.0013\t\t0.0000\n",
            "[0 1 0 0 1 0 1 0]\t1.0068\t\t0.0000\n",
            "[1 0 0 0 1 0 1 1]\t-0.0018\t\t0.0000\n",
            "[0 0 0 1 0 1 1 1]\t-0.0020\t\t0.0000\n",
            "[1 0 0 0 0 0 1 0]\t4.0293\t\t0.0000\n",
            "[0 0 0 1 1 0 1 1]\t-0.0021\t\t0.0000\n",
            "[1 1 0 0 1 0 0 0]\t1.0070\t\t0.0000\n",
            "[1 1 0 1 1 1 1 1]\t9.0661\t\t0.0000\n",
            "[0 0 1 0 1 0 0 1]\t1.0058\t\t0.0000\n",
            "[0 0 0 0 1 0 1 1]\t1.0060\t\t0.0000\n",
            "[1 1 1 1 0 1 0 1]\t4.0285\t\t0.0000\n",
            "[1 1 0 0 0 1 1 1]\t1.0063\t\t0.0000\n",
            "[0 1 1 0 1 1 0 0]\t-0.0009\t\t0.0000\n",
            "[0 0 1 0 0 0 0 0]\t9.0671\t\t0.0000\n",
            "[1 0 0 0 0 1 1 0]\t1.0066\t\t0.0000\n",
            "[0 0 1 1 1 1 1 1]\t4.0277\t\t0.0000\n",
            "[0 1 1 1 0 0 0 0]\t1.0064\t\t0.0000\n",
            "[1 0 1 0 1 0 0 1]\t-0.0019\t\t0.0000\n",
            "[0 1 1 1 0 0 0 1]\t-0.0018\t\t0.0000\n",
            "[1 1 1 0 1 1 1 1]\t9.0663\t\t0.0000\n",
            "[0 1 1 1 1 1 1 0]\t4.0285\t\t0.0000\n",
            "[1 0 0 0 1 0 1 0]\t1.0064\t\t0.0000\n",
            "[1 1 1 1 1 1 1 1]\t16.1188\t\t0.0000\n",
            "[1 0 0 0 0 0 0 0]\t9.0674\t\t0.0000\n",
            "[0 0 0 0 1 0 0 1]\t4.0289\t\t0.0000\n",
            "[0 1 0 1 1 1 1 1]\t4.0283\t\t0.0000\n",
            "[0 1 1 0 0 1 0 0]\t1.0068\t\t0.0000\n",
            "[1 1 1 0 0 1 1 0]\t1.0065\t\t0.0000\n",
            "[0 1 0 0 0 0 0 0]\t9.0677\t\t0.0000\n",
            "[1 0 1 1 1 1 1 1]\t9.0654\t\t0.0000\n",
            "[1 1 1 1 0 0 0 1]\t1.0058\t\t0.0000\n",
            "[1 0 1 1 1 0 1 1]\t4.0277\t\t0.0000\n",
            "[1 0 0 0 0 0 0 1]\t4.0289\t\t0.0000\n",
            "[1 0 1 1 0 0 0 1]\t-0.0022\t\t0.0000\n",
            "[1 1 0 0 1 0 1 0]\t-0.0008\t\t0.0000\n",
            "[0 0 1 0 1 1 0 0]\t1.0065\t\t0.0000\n",
            "[1 1 1 1 1 0 0 1]\t4.0284\t\t0.0000\n",
            "[1 0 1 1 1 1 0 1]\t4.0279\t\t0.0000\n",
            "[0 1 0 0 0 1 0 0]\t4.0299\t\t0.0000\n",
            "[0 0 0 1 1 0 1 0]\t1.0061\t\t0.0000\n",
            "[0 1 1 1 1 0 1 1]\t4.0280\t\t0.0000\n",
            "[0 0 0 1 0 1 0 1]\t1.0059\t\t0.0000\n",
            "[0 1 0 0 1 0 0 0]\t4.0298\t\t0.0000\n",
            "[0 0 0 0 0 0 1 0]\t9.0673\t\t0.0000\n",
            "[0 1 0 1 0 1 0 1]\t-0.0015\t\t0.0000\n",
            "[0 0 1 1 1 0 1 1]\t1.0050\t\t0.0000\n",
            "[0 0 0 0 0 1 0 1]\t4.0291\t\t0.0000\n",
            "[1 1 1 1 1 1 0 1]\t9.0661\t\t0.0000\n",
            "[1 0 1 1 0 0 1 1]\t1.0051\t\t0.0000\n",
            "[0 0 1 1 0 0 1 1]\t-0.0024\t\t0.0000\n",
            "[0 0 0 0 0 0 0 0]\t16.1205\t\t0.0000\n",
            "[0 1 0 0 1 1 0 0]\t1.0071\t\t0.0000\n",
            "[0 0 1 1 1 0 0 0]\t1.0060\t\t0.0000\n",
            "[1 1 0 0 1 1 1 0]\t1.0067\t\t0.0000\n",
            "[0 1 0 1 1 1 0 0]\t-0.0010\t\t0.0000\n",
            "[1 0 1 0 1 0 1 0]\t-0.0015\t\t0.0000\n",
            "[1 1 0 0 0 1 1 0]\t-0.0007\t\t0.0000\n",
            "[0 1 1 1 1 1 1 1]\t9.0657\t\t0.0000\n",
            "[0 0 1 0 1 0 0 0]\t4.0292\t\t0.0000\n",
            "[0 1 1 1 1 1 0 0]\t1.0062\t\t0.0000\n",
            "[1 0 1 0 0 0 0 0]\t4.0291\t\t0.0000\n",
            "[1 0 0 0 1 0 0 0]\t4.0294\t\t0.0000\n",
            "[0 0 0 0 1 0 1 0]\t4.0293\t\t0.0000\n",
            "[0 1 0 1 1 1 0 1]\t1.0059\t\t0.0000\n",
            "[0 0 1 1 0 1 0 1]\t-0.0021\t\t0.0000\n",
            "[0 1 1 1 0 1 0 1]\t1.0057\t\t0.0000\n",
            "[0 1 1 1 1 0 0 0]\t-0.0014\t\t0.0000\n",
            "[0 1 0 0 0 1 1 0]\t1.0069\t\t0.0000\n",
            "[1 1 0 0 1 0 1 1]\t1.0061\t\t0.0000\n",
            "[0 0 1 1 0 0 0 0]\t4.0288\t\t0.0000\n",
            "[0 1 1 0 1 0 0 0]\t1.0067\t\t0.0000\n",
            "[0 1 1 1 1 0 0 1]\t1.0056\t\t0.0000\n",
            "[1 0 1 0 1 0 0 0]\t1.0063\t\t0.0000\n",
            "[1 0 1 0 0 1 0 0]\t1.0065\t\t0.0000\n",
            "[0 1 1 0 0 0 0 0]\t4.0295\t\t0.0000\n",
            "[0 0 0 1 0 0 1 1]\t1.0056\t\t0.0000\n",
            "[0 0 1 1 0 0 1 0]\t1.0059\t\t0.0000\n",
            "[0 0 0 0 1 1 0 1]\t1.0062\t\t0.0000\n",
            "[0 0 0 1 1 0 0 1]\t1.0057\t\t0.0000\n",
            "[1 0 0 0 1 0 0 1]\t1.0061\t\t0.0000\n",
            "[0 0 1 1 0 0 0 1]\t1.0055\t\t0.0000\n",
            "[0 0 1 1 1 1 0 1]\t1.0053\t\t0.0000\n",
            "[0 0 1 1 1 0 0 1]\t-0.0022\t\t0.0000\n",
            "[0 0 0 0 0 0 0 1]\t9.0669\t\t0.0000\n",
            "[1 1 1 0 0 0 0 0]\t1.0068\t\t0.0000\n",
            "[0 1 0 1 1 1 1 0]\t1.0062\t\t0.0000\n",
            "[1 1 1 1 0 0 0 0]\t-0.0012\t\t0.0000\n",
            "[0 1 1 1 0 1 1 0]\t1.0060\t\t0.0000\n",
            "[1 0 0 0 1 1 0 0]\t1.0067\t\t0.0000\n",
            "[1 0 0 0 0 1 0 1]\t1.0062\t\t0.0000\n",
            "[1 0 0 0 1 1 0 1]\t-0.0015\t\t0.0000\n",
            "[0 0 0 0 1 1 0 0]\t4.0296\t\t0.0000\n",
            "[1 1 0 0 0 1 0 0]\t1.0072\t\t0.0000\n",
            "[0 0 0 0 1 0 0 0]\t9.0675\t\t0.0000\n",
            "[1 0 1 0 1 1 0 0]\t-0.0013\t\t0.0000\n",
            "[1 1 1 0 1 1 0 0]\t1.0067\t\t0.0000\n",
            "[0 1 1 1 1 1 0 1]\t4.0282\t\t0.0000\n",
            "[0 0 0 1 1 1 0 1]\t-0.0019\t\t0.0000\n",
            "[1 1 1 0 0 1 0 0]\t-0.0008\t\t0.0000\n",
            "[1 1 0 0 1 1 0 0]\t-0.0005\t\t0.0000\n",
            "[0 0 0 1 1 0 0 0]\t4.0291\t\t0.0000\n",
            "[0 1 1 1 0 0 1 1]\t1.0055\t\t0.0000\n",
            "[1 0 1 0 0 0 1 1]\t-0.0020\t\t0.0000\n",
            "[0 0 0 0 0 1 0 0]\t9.0676\t\t0.0000\n",
            "[1 1 1 0 1 0 0 0]\t-0.0009\t\t0.0000\n",
            "[0 1 1 1 1 0 1 0]\t1.0059\t\t0.0000\n",
            "[0 0 0 1 1 1 1 1]\t1.0054\t\t0.0000\n",
            "[0 1 1 1 0 1 0 0]\t-0.0012\t\t0.0000\n",
            "[0 1 1 1 0 0 1 0]\t-0.0015\t\t0.0000\n"
          ]
        }
      ],
      "source": [
        "# VQE solution\n",
        "#provide fname ='complete address/location of your .csv file'\n",
        "\n",
        "from qiskit.utils import algorithm_globals\n",
        "\n",
        "algorithm_globals.random_seed = 1234\n",
        "backend = Aer.get_backend(\"statevector_simulator\")\n",
        "\n",
        "cobyla = SPSA()\n",
        "cobyla.set_options(maxiter=3000)\n",
        "ry = TwoLocal(num_assets, \"ry\", \"cz\", reps=3, entanglement=\"full\")\n",
        "quantum_instance = QuantumInstance(backend=backend, shots=8192, seed_simulator=seed, seed_transpiler=seed)\n",
        "vqe_mes = VQE(ry, optimizer=cobyla, quantum_instance=quantum_instance)\n",
        "vqe = MinimumEigenOptimizer(vqe_mes)\n",
        "result = vqe.solve(qp)\n",
        "\n",
        "fname = 'vqe1.csv' #change the location and name of .csv file\n",
        "print_result(result, fname)\n",
        "# print(result)\n",
        "\n",
        "#[0, 0, 1, 1, 0, 0, 1, 1] --numpy exact solver"
      ]
    },
    {
      "cell_type": "markdown",
      "source": [
        "### as you can see here with 8 assets, with vqe n cobyla our results are not so good or no near to MPT seleccted assets. \n",
        "### but VQE n SPSA, same results as numpy_exact_solver and MPT are getting produces. \n"
      ],
      "metadata": {
        "id": "DDVd3mR20xOR"
      },
      "id": "DDVd3mR20xOR"
    },
    {
      "cell_type": "code",
      "execution_count": null,
      "id": "e1e17bcb",
      "metadata": {
        "colab": {
          "base_uri": "https://localhost:8080/"
        },
        "id": "e1e17bcb",
        "outputId": "01d100a8-57df-4202-a7dd-8964894cffa7"
      },
      "outputs": [
        {
          "output_type": "stream",
          "name": "stdout",
          "text": [
            "Optimal: selection [0. 0. 1. 1. 0. 0. 1. 1.], value -0.0024\n",
            "\n",
            "----------------- Full result ---------------------\n",
            "selection\tvalue\t\tprobability\n",
            "---------------------------------------------------\n",
            "[0 0 1 1 0 0 1 1]\t-0.0024\t\t0.0128\n",
            "[0 0 1 1 1 0 0 1]\t-0.0022\t\t0.0128\n",
            "[0 0 0 1 1 0 1 1]\t-0.0021\t\t0.0128\n",
            "[0 0 1 1 0 1 0 1]\t-0.0021\t\t0.0128\n",
            "[0 0 0 1 0 1 1 1]\t-0.0020\t\t0.0128\n",
            "[0 0 1 0 1 0 1 1]\t-0.0020\t\t0.0128\n",
            "[1 0 1 1 0 0 0 1]\t-0.0022\t\t0.0128\n",
            "[0 0 1 0 0 1 1 1]\t-0.0019\t\t0.0128\n",
            "[0 0 1 1 1 0 1 0]\t-0.0019\t\t0.0128\n",
            "[0 0 0 1 1 1 0 1]\t-0.0019\t\t0.0128\n",
            "[1 0 0 1 0 0 1 1]\t-0.0021\t\t0.0128\n",
            "[0 0 0 0 1 1 1 1]\t-0.0016\t\t0.0128\n",
            "[1 0 1 0 0 0 1 1]\t-0.0020\t\t0.0128\n",
            "[0 0 1 1 0 1 1 0]\t-0.0017\t\t0.0128\n",
            "[0 0 1 0 1 1 0 1]\t-0.0018\t\t0.0128\n",
            "[1 0 0 1 1 0 0 1]\t-0.0020\t\t0.0128\n",
            "[0 1 1 1 0 0 0 1]\t-0.0018\t\t0.0128\n",
            "[1 0 1 0 1 0 0 1]\t-0.0019\t\t0.0128\n",
            "[0 0 0 1 1 1 1 0]\t-0.0015\t\t0.0128\n",
            "[0 0 1 1 1 1 0 0]\t-0.0016\t\t0.0128\n",
            "[1 0 1 1 0 0 1 0]\t-0.0018\t\t0.0128\n",
            "[1 0 0 1 0 1 0 1]\t-0.0018\t\t0.0128\n",
            "[1 0 0 0 1 0 1 1]\t-0.0018\t\t0.0128\n",
            "[1 1 0 1 0 0 0 1]\t-0.0014\t\t0.0128\n",
            "[0 1 0 1 0 0 1 1]\t-0.0017\t\t0.0128\n",
            "[0 0 1 0 1 1 1 0]\t-0.0014\t\t0.0128\n",
            "[1 0 1 0 0 1 0 1]\t-0.0017\t\t0.0128\n",
            "[1 1 1 0 0 0 0 1]\t-0.0013\t\t0.0128\n",
            "[1 0 1 1 1 0 0 0]\t-0.0017\t\t0.0128\n",
            "[1 0 0 0 0 1 1 1]\t-0.0016\t\t0.0128\n",
            "[0 1 1 0 0 0 1 1]\t-0.0017\t\t0.0128\n",
            "[0 1 0 1 1 0 0 1]\t-0.0016\t\t0.0128\n",
            "[1 0 0 1 1 0 1 0]\t-0.0016\t\t0.0128\n",
            "[1 0 1 1 0 1 0 0]\t-0.0016\t\t0.0128\n",
            "[1 1 1 1 0 0 0 0]\t-0.0012\t\t0.0128\n",
            "[1 0 0 0 1 1 0 1]\t-0.0015\t\t0.0128\n",
            "[0 1 1 1 0 0 1 0]\t-0.0015\t\t0.0128\n",
            "[1 1 0 0 0 0 1 1]\t-0.0013\t\t0.0128\n",
            "[1 0 1 0 1 0 1 0]\t-0.0015\t\t0.0128\n",
            "[0 1 1 0 1 0 0 1]\t-0.0015\t\t0.0128\n",
            "[0 1 0 1 0 1 0 1]\t-0.0015\t\t0.0128\n",
            "[1 0 0 1 0 1 1 0]\t-0.0015\t\t0.0128\n",
            "[0 1 0 0 1 0 1 1]\t-0.0014\t\t0.0128\n",
            "[1 1 0 0 1 0 0 1]\t-0.0012\t\t0.0128\n",
            "[0 1 1 0 0 1 0 1]\t-0.0014\t\t0.0128\n",
            "[1 0 1 0 0 1 1 0]\t-0.0014\t\t0.0128\n",
            "[0 1 1 1 1 0 0 0]\t-0.0014\t\t0.0128\n",
            "[1 0 0 1 1 1 0 0]\t-0.0013\t\t0.0128\n",
            "[1 1 0 1 0 0 1 0]\t-0.0011\t\t0.0128\n",
            "[0 1 0 0 0 1 1 1]\t-0.0013\t\t0.0128\n",
            "[1 1 1 0 0 0 1 0]\t-0.0010\t\t0.0128\n",
            "[1 0 1 0 1 1 0 0]\t-0.0013\t\t0.0128\n",
            "[1 1 0 0 0 1 0 1]\t-0.0010\t\t0.0128\n",
            "[0 1 0 1 1 0 1 0]\t-0.0013\t\t0.0128\n",
            "[0 1 1 1 0 1 0 0]\t-0.0012\t\t0.0128\n",
            "[1 0 0 0 1 1 1 0]\t-0.0011\t\t0.0128\n",
            "[1 1 0 1 1 0 0 0]\t-0.0010\t\t0.0128\n",
            "[0 1 0 0 1 1 0 1]\t-0.0012\t\t0.0128\n",
            "[0 1 1 0 1 0 1 0]\t-0.0012\t\t0.0128\n",
            "[1 1 1 0 1 0 0 0]\t-0.0009\t\t0.0128\n",
            "[0 1 0 1 0 1 1 0]\t-0.0011\t\t0.0128\n",
            "[1 1 0 1 0 1 0 0]\t-0.0009\t\t0.0128\n",
            "[0 1 1 0 0 1 1 0]\t-0.0011\t\t0.0128\n",
            "[1 1 1 0 0 1 0 0]\t-0.0008\t\t0.0128\n",
            "[0 1 0 1 1 1 0 0]\t-0.0010\t\t0.0128\n",
            "[1 1 0 0 1 0 1 0]\t-0.0008\t\t0.0128\n",
            "[0 1 1 0 1 1 0 0]\t-0.0009\t\t0.0128\n",
            "[0 1 0 0 1 1 1 0]\t-0.0008\t\t0.0128\n",
            "[1 1 0 0 0 1 1 0]\t-0.0007\t\t0.0128\n",
            "[1 1 0 0 1 1 0 0]\t-0.0005\t\t0.0128\n",
            "[1 1 1 1 1 1 1 1]\t16.1188\t\t0.0021\n",
            "[0 0 0 0 0 0 0 0]\t16.1205\t\t0.0021\n",
            "[0 0 0 0 1 1 1 0]\t1.0066\t\t0.0008\n",
            "[1 1 1 1 0 0 0 1]\t1.0058\t\t0.0008\n",
            "[0 0 0 1 0 1 1 0]\t1.0063\t\t0.0008\n",
            "[0 0 0 1 1 1 0 0]\t1.0064\t\t0.0008\n",
            "[0 0 0 1 1 0 1 0]\t1.0061\t\t0.0008\n",
            "[0 0 0 0 0 1 1 1]\t1.0061\t\t0.0008\n",
            "[0 0 0 0 1 0 1 1]\t1.0060\t\t0.0008\n",
            "[0 0 0 0 1 1 0 1]\t1.0062\t\t0.0008\n",
            "[1 1 1 0 0 0 1 1]\t1.0060\t\t0.0008\n",
            "[0 0 1 0 0 1 1 0]\t1.0063\t\t0.0008\n",
            "[0 0 1 0 1 1 0 0]\t1.0065\t\t0.0008\n",
            "[1 1 1 0 1 0 0 1]\t1.0061\t\t0.0008\n",
            "[0 0 1 0 1 0 1 0]\t1.0062\t\t0.0008\n",
            "[0 0 0 1 0 0 1 1]\t1.0056\t\t0.0008\n",
            "[0 0 0 1 0 1 0 1]\t1.0059\t\t0.0008\n",
            "[1 1 1 1 0 0 1 0]\t1.0061\t\t0.0008\n",
            "[1 1 1 0 0 1 0 1]\t1.0062\t\t0.0008\n",
            "[0 0 0 1 1 0 0 1]\t1.0057\t\t0.0008\n",
            "[1 1 1 1 1 0 0 0]\t1.0063\t\t0.0008\n",
            "[1 1 0 1 0 0 1 1]\t1.0058\t\t0.0008\n",
            "[0 0 1 1 0 0 1 0]\t1.0059\t\t0.0008\n",
            "[0 0 1 1 0 1 0 0]\t1.0061\t\t0.0008\n",
            "[1 1 0 1 1 0 0 1]\t1.0060\t\t0.0008\n",
            "[1 1 1 1 0 1 0 0]\t1.0064\t\t0.0008\n",
            "[0 0 1 1 1 0 0 0]\t1.0060\t\t0.0008\n",
            "[0 0 1 0 0 0 1 1]\t1.0057\t\t0.0008\n",
            "[1 1 0 1 0 1 0 1]\t1.0061\t\t0.0008\n",
            "[0 0 1 0 0 1 0 1]\t1.0059\t\t0.0008\n",
            "[0 0 1 0 1 0 0 1]\t1.0058\t\t0.0008\n",
            "[0 0 1 1 0 0 0 1]\t1.0055\t\t0.0008\n",
            "[1 1 0 0 1 0 1 1]\t1.0061\t\t0.0008\n",
            "[1 1 1 0 1 0 1 0]\t1.0064\t\t0.0008\n",
            "[1 0 1 1 0 0 1 1]\t1.0051\t\t0.0008\n",
            "[1 1 1 0 1 1 0 0]\t1.0067\t\t0.0008\n",
            "[1 1 0 0 1 1 0 1]\t1.0064\t\t0.0008\n",
            "[1 1 0 0 0 1 1 1]\t1.0063\t\t0.0008\n",
            "[1 0 1 1 1 0 0 1]\t1.0052\t\t0.0008\n",
            "[1 1 1 0 0 1 1 0]\t1.0065\t\t0.0008\n",
            "[0 1 1 1 0 0 1 1]\t1.0055\t\t0.0008\n",
            "[1 0 0 0 1 1 0 0]\t1.0067\t\t0.0008\n",
            "[1 1 0 1 1 0 1 0]\t1.0063\t\t0.0008\n",
            "[1 0 1 1 0 1 0 1]\t1.0054\t\t0.0008\n",
            "[1 0 0 0 0 1 1 0]\t1.0066\t\t0.0008\n",
            "[0 1 0 0 1 1 0 0]\t1.0071\t\t0.0008\n",
            "[1 0 0 0 1 0 1 0]\t1.0064\t\t0.0008\n",
            "[0 1 0 0 0 1 1 0]\t1.0069\t\t0.0008\n",
            "[0 1 1 1 1 0 0 1]\t1.0056\t\t0.0008\n",
            "[0 1 0 0 1 0 1 0]\t1.0068\t\t0.0008\n",
            "[1 1 0 1 1 1 0 0]\t1.0065\t\t0.0008\n",
            "[1 1 0 1 0 1 1 0]\t1.0064\t\t0.0008\n",
            "[0 1 1 1 0 1 0 1]\t1.0057\t\t0.0008\n",
            "[1 0 1 0 1 0 1 1]\t1.0054\t\t0.0008\n",
            "[1 0 0 1 0 1 0 0]\t1.0064\t\t0.0008\n",
            "[0 1 0 1 0 1 0 0]\t1.0067\t\t0.0008\n",
            "[1 0 0 1 0 0 1 0]\t1.0061\t\t0.0008\n",
            "[0 0 1 1 1 0 1 1]\t1.0050\t\t0.0008\n",
            "[0 1 0 1 0 0 1 0]\t1.0065\t\t0.0008\n",
            "[1 0 0 0 0 1 0 1]\t1.0062\t\t0.0008\n",
            "[1 0 0 0 0 0 1 1]\t1.0059\t\t0.0008\n",
            "[1 0 0 1 1 0 0 0]\t1.0062\t\t0.0008\n",
            "[1 0 0 0 1 0 0 1]\t1.0061\t\t0.0008\n",
            "[0 1 0 1 1 0 0 0]\t1.0066\t\t0.0008\n",
            "[0 1 0 0 0 1 0 1]\t1.0065\t\t0.0008\n",
            "[1 0 0 1 1 0 1 1]\t1.0053\t\t0.0008\n",
            "[0 1 0 0 0 0 1 1]\t1.0063\t\t0.0008\n",
            "[1 0 1 0 0 1 1 1]\t1.0055\t\t0.0008\n",
            "[1 0 1 0 1 1 0 1]\t1.0057\t\t0.0008\n",
            "[0 1 0 0 1 0 0 1]\t1.0064\t\t0.0008\n",
            "[1 0 1 1 1 0 1 0]\t1.0056\t\t0.0008\n",
            "[0 1 1 0 1 0 1 1]\t1.0057\t\t0.0008\n",
            "[0 0 1 1 0 1 1 1]\t1.0052\t\t0.0008\n",
            "[1 0 1 0 0 1 0 0]\t1.0065\t\t0.0008\n",
            "[1 1 0 0 1 1 1 0]\t1.0067\t\t0.0008\n",
            "[1 0 0 1 0 0 0 1]\t1.0057\t\t0.0008\n",
            "[0 1 1 0 0 1 0 0]\t1.0068\t\t0.0008\n",
            "[1 0 1 0 0 0 1 0]\t1.0062\t\t0.0008\n",
            "[1 0 1 0 1 0 0 0]\t1.0063\t\t0.0008\n",
            "[0 1 0 1 0 0 0 1]\t1.0061\t\t0.0008\n",
            "[1 0 0 1 0 1 1 1]\t1.0054\t\t0.0008\n",
            "[0 1 1 0 0 0 1 0]\t1.0065\t\t0.0008\n",
            "[0 1 0 1 1 0 1 1]\t1.0056\t\t0.0008\n",
            "[1 0 1 1 0 0 0 0]\t1.0060\t\t0.0008\n",
            "[0 1 1 0 1 0 0 0]\t1.0067\t\t0.0008\n",
            "[0 0 1 1 1 1 0 1]\t1.0053\t\t0.0008\n",
            "[1 0 1 1 0 1 1 0]\t1.0057\t\t0.0008\n",
            "[0 1 1 1 0 0 0 0]\t1.0064\t\t0.0008\n",
            "[0 1 1 0 0 1 1 1]\t1.0059\t\t0.0008\n",
            "[0 1 1 1 1 0 1 0]\t1.0059\t\t0.0008\n",
            "[1 0 0 1 1 1 0 1]\t1.0056\t\t0.0008\n",
            "[1 0 1 1 1 1 0 0]\t1.0058\t\t0.0008\n",
            "[1 1 0 0 0 1 0 0]\t1.0072\t\t0.0008\n",
            "[0 1 1 0 1 1 0 1]\t1.0060\t\t0.0008\n",
            "[1 1 0 0 1 0 0 0]\t1.0070\t\t0.0008\n",
            "[0 1 0 1 0 1 1 1]\t1.0058\t\t0.0008\n",
            "[1 0 1 0 0 0 0 1]\t1.0058\t\t0.0008\n",
            "[0 0 1 0 1 1 1 1]\t1.0055\t\t0.0008\n",
            "[0 1 1 1 0 1 1 0]\t1.0060\t\t0.0008\n",
            "[1 1 0 0 0 0 1 0]\t1.0069\t\t0.0008\n",
            "[1 1 0 1 0 0 0 0]\t1.0067\t\t0.0008\n",
            "[1 0 0 0 1 1 1 1]\t1.0058\t\t0.0008\n",
            "[0 0 0 1 1 1 1 1]\t1.0054\t\t0.0008\n",
            "[0 1 1 0 0 0 0 1]\t1.0062\t\t0.0008\n",
            "[0 1 1 1 1 1 0 0]\t1.0062\t\t0.0008\n",
            "[0 1 0 1 1 1 0 1]\t1.0059\t\t0.0008\n",
            "[1 1 0 0 0 0 0 1]\t1.0065\t\t0.0008\n",
            "[1 1 1 0 0 0 0 0]\t1.0068\t\t0.0008\n",
            "[0 0 1 1 1 1 1 0]\t1.0056\t\t0.0008\n",
            "[1 0 1 0 1 1 1 0]\t1.0060\t\t0.0008\n",
            "[0 1 0 0 1 1 1 1]\t1.0061\t\t0.0008\n",
            "[1 0 0 1 1 1 1 0]\t1.0059\t\t0.0008\n",
            "[0 1 1 0 1 1 1 0]\t1.0063\t\t0.0008\n",
            "[0 1 0 1 1 1 1 0]\t1.0062\t\t0.0008\n",
            "[1 0 0 0 0 0 0 1]\t4.0289\t\t0.0001\n",
            "[1 0 1 0 0 0 0 0]\t4.0291\t\t0.0001\n",
            "[1 1 0 0 0 0 0 0]\t4.0298\t\t0.0001\n",
            "[0 1 0 0 0 0 0 1]\t4.0292\t\t0.0001\n",
            "[1 0 0 1 0 0 0 0]\t4.0291\t\t0.0001\n",
            "[0 1 1 0 0 0 0 0]\t4.0295\t\t0.0001\n",
            "[0 0 1 0 0 0 0 1]\t4.0286\t\t0.0001\n",
            "[0 1 0 1 0 0 0 0]\t4.0294\t\t0.0001\n",
            "[1 0 0 0 0 0 1 0]\t4.0293\t\t0.0001\n",
            "[1 0 0 0 1 0 0 0]\t4.0294\t\t0.0001\n",
            "[0 0 0 1 0 0 0 1]\t4.0286\t\t0.0001\n",
            "[0 0 1 1 0 0 0 0]\t4.0288\t\t0.0001\n",
            "[0 1 0 0 0 0 1 0]\t4.0296\t\t0.0001\n",
            "[1 0 0 0 0 1 0 0]\t4.0296\t\t0.0001\n",
            "[0 1 0 0 1 0 0 0]\t4.0298\t\t0.0001\n",
            "[0 1 0 0 0 1 0 0]\t4.0299\t\t0.0001\n",
            "[0 0 0 0 0 0 1 1]\t4.0288\t\t0.0001\n",
            "[0 0 1 0 0 0 1 0]\t4.0290\t\t0.0001\n",
            "[0 0 0 0 1 0 0 1]\t4.0289\t\t0.0001\n",
            "[0 0 1 0 1 0 0 0]\t4.0292\t\t0.0001\n",
            "[0 0 0 0 0 1 0 1]\t4.0291\t\t0.0001\n",
            "[0 0 0 1 0 0 1 0]\t4.0290\t\t0.0001\n",
            "[0 0 1 0 0 1 0 0]\t4.0293\t\t0.0001\n",
            "[0 0 0 1 1 0 0 0]\t4.0291\t\t0.0001\n",
            "[0 0 0 1 0 1 0 0]\t4.0293\t\t0.0001\n",
            "[0 0 1 1 1 1 1 1]\t4.0277\t\t0.0001\n",
            "[0 0 0 0 1 0 1 0]\t4.0293\t\t0.0001\n",
            "[0 0 0 0 0 1 1 0]\t4.0295\t\t0.0001\n",
            "[0 0 0 0 1 1 0 0]\t4.0296\t\t0.0001\n",
            "[1 0 0 1 1 1 1 1]\t4.0279\t\t0.0001\n",
            "[0 1 0 1 1 1 1 1]\t4.0283\t\t0.0001\n",
            "[1 0 1 1 1 1 1 0]\t4.0282\t\t0.0001\n",
            "[0 1 1 1 1 1 1 0]\t4.0285\t\t0.0001\n",
            "[1 0 1 0 1 1 1 1]\t4.0281\t\t0.0001\n",
            "[0 1 1 0 1 1 1 1]\t4.0284\t\t0.0001\n",
            "[1 0 1 1 0 1 1 1]\t4.0278\t\t0.0001\n",
            "[1 0 1 1 1 1 0 1]\t4.0279\t\t0.0001\n",
            "[1 0 1 1 1 0 1 1]\t4.0277\t\t0.0001\n",
            "[0 1 1 1 0 1 1 1]\t4.0281\t\t0.0001\n",
            "[0 1 1 1 1 1 0 1]\t4.0282\t\t0.0001\n",
            "[0 1 1 1 1 0 1 1]\t4.0280\t\t0.0001\n",
            "[1 1 0 1 1 1 1 0]\t4.0289\t\t0.0001\n",
            "[1 1 0 0 1 1 1 1]\t4.0288\t\t0.0001\n",
            "[1 1 0 1 0 1 1 1]\t4.0285\t\t0.0001\n",
            "[1 1 1 0 1 1 1 0]\t4.0290\t\t0.0001\n",
            "[1 1 0 1 1 1 0 1]\t4.0286\t\t0.0001\n",
            "[1 1 0 1 1 0 1 1]\t4.0284\t\t0.0001\n",
            "[1 1 1 1 0 1 1 0]\t4.0288\t\t0.0001\n",
            "[1 1 1 1 1 0 1 0]\t4.0287\t\t0.0001\n",
            "[1 1 1 1 1 1 0 0]\t4.0289\t\t0.0001\n",
            "[1 1 1 0 0 1 1 1]\t4.0286\t\t0.0001\n",
            "[1 1 1 0 1 0 1 1]\t4.0285\t\t0.0001\n",
            "[1 1 1 0 1 1 0 1]\t4.0288\t\t0.0001\n",
            "[1 1 1 1 0 1 0 1]\t4.0285\t\t0.0001\n",
            "[1 1 1 1 0 0 1 1]\t4.0282\t\t0.0001\n",
            "[1 1 1 1 1 0 0 1]\t4.0284\t\t0.0001\n",
            "[0 0 0 0 0 0 0 1]\t9.0669\t\t0.0001\n",
            "[0 0 0 1 0 0 0 0]\t9.0671\t\t0.0001\n",
            "[0 0 1 0 0 0 0 0]\t9.0671\t\t0.0001\n",
            "[1 0 0 0 0 0 0 0]\t9.0674\t\t0.0001\n",
            "[0 0 0 0 0 0 1 0]\t9.0673\t\t0.0001\n",
            "[0 0 0 0 1 0 0 0]\t9.0675\t\t0.0000\n",
            "[0 1 0 0 0 0 0 0]\t9.0677\t\t0.0000\n",
            "[0 0 0 0 0 1 0 0]\t9.0676\t\t0.0000\n",
            "[1 0 1 1 1 1 1 1]\t9.0654\t\t0.0000\n",
            "[0 1 1 1 1 1 1 1]\t9.0657\t\t0.0000\n",
            "[1 1 1 1 1 0 1 1]\t9.0659\t\t0.0000\n",
            "[1 1 1 1 0 1 1 1]\t9.0660\t\t0.0000\n",
            "[1 1 0 1 1 1 1 1]\t9.0661\t\t0.0000\n",
            "[1 1 1 1 1 1 0 1]\t9.0661\t\t0.0000\n",
            "[1 1 1 0 1 1 1 1]\t9.0663\t\t0.0000\n",
            "[1 1 1 1 1 1 1 0]\t9.0664\t\t0.0000\n"
          ]
        }
      ],
      "source": [
        "# QAOA solution\n",
        "#provide fname ='complete address/location of your .csv file'\n",
        "\n",
        "algorithm_globals.random_seed = 1234\n",
        "backend = Aer.get_backend(\"statevector_simulator\")\n",
        "\n",
        "cobyla = COBYLA()\n",
        "cobyla.set_options(maxiter=250)\n",
        "quantum_instance = QuantumInstance(backend=backend, shots=8192, seed_simulator=seed, seed_transpiler=seed)\n",
        "qaoa_mes = QAOA(optimizer=cobyla, reps=3, quantum_instance=quantum_instance)\n",
        "qaoa = MinimumEigenOptimizer(qaoa_mes)\n",
        "result = qaoa.solve(qp)\n",
        "\n",
        "fname = 'qaoa1.csv' #change the location and name of .csv file\n",
        "print_result(result, fname)\n",
        "\n",
        "# [0. 0. 1. 1. 0. 1.] -numpy exact solver"
      ]
    },
    {
      "cell_type": "markdown",
      "source": [
        "### here also VQE doesn' performs well. \n",
        "### QAOA and exact solver produces same result. [0, 0, 1, 1, 0, 0, 1, 1] this is solution given by QAOA and Exact solver. "
      ],
      "metadata": {
        "id": "UtaD8VHTz6WI"
      },
      "id": "UtaD8VHTz6WI"
    },
    {
      "cell_type": "markdown",
      "source": [
        "#### weight allocation part after asset selection using quantum"
      ],
      "metadata": {
        "id": "4-NjMNcEnsTz"
      },
      "id": "4-NjMNcEnsTz"
    },
    {
      "cell_type": "code",
      "execution_count": null,
      "id": "9c0de3f5",
      "metadata": {
        "colab": {
          "base_uri": "https://localhost:8080/"
        },
        "id": "9c0de3f5",
        "outputId": "a95ff3a8-54a5-4d63-dd37-1664cd1f7651"
      },
      "outputs": [
        {
          "output_type": "stream",
          "name": "stdout",
          "text": [
            "your lucky assets are  ['MSFT', 'AAPL', 'MCD', 'NKE']\n"
          ]
        }
      ],
      "source": [
        "selected_assets = [0, 0, 1, 1, 0, 0, 1, 1]\n",
        "assets = [\"JPM\", \"GS\", \"MSFT\", \"AAPL\", \"KO\", \"WMT\", \"MCD\", \"NKE\"]\n",
        "\n",
        "selected_bitstring = [i for i, e in enumerate(selected_assets) if e == 1]\n",
        "# print(selected_bitstring)\n",
        "my_assets = [assets[i] for i in selected_bitstring]\n",
        "print(\"your lucky assets are \",my_assets)"
      ]
    },
    {
      "cell_type": "code",
      "execution_count": null,
      "id": "Avqhq9mOaevq",
      "metadata": {
        "colab": {
          "base_uri": "https://localhost:8080/",
          "height": 256
        },
        "id": "Avqhq9mOaevq",
        "outputId": "867416a2-cd14-41e6-8e82-e70f55960611"
      },
      "outputs": [
        {
          "output_type": "stream",
          "name": "stdout",
          "text": [
            "[*********************100%***********************]  4 of 4 completed\n"
          ]
        },
        {
          "output_type": "execute_result",
          "data": {
            "text/plain": [
              "                 AAPL        MCD       MSFT        NKE\n",
              "Date                                                  \n",
              "2011-01-03  10.049907  55.079620  21.917925  18.765165\n",
              "2011-01-04  10.102355  53.432983  22.004097  18.303072\n",
              "2011-01-05  10.184993  53.684643  21.933592  18.422956\n",
              "2011-01-06  10.176763  53.361088  22.575943  18.257296\n",
              "2011-01-07  10.249644  53.476116  22.403599  18.207161"
            ],
            "text/html": [
              "\n",
              "  <div id=\"df-52ca2103-29a4-4196-a8a6-da88c42fbb16\">\n",
              "    <div class=\"colab-df-container\">\n",
              "      <div>\n",
              "<style scoped>\n",
              "    .dataframe tbody tr th:only-of-type {\n",
              "        vertical-align: middle;\n",
              "    }\n",
              "\n",
              "    .dataframe tbody tr th {\n",
              "        vertical-align: top;\n",
              "    }\n",
              "\n",
              "    .dataframe thead th {\n",
              "        text-align: right;\n",
              "    }\n",
              "</style>\n",
              "<table border=\"1\" class=\"dataframe\">\n",
              "  <thead>\n",
              "    <tr style=\"text-align: right;\">\n",
              "      <th></th>\n",
              "      <th>AAPL</th>\n",
              "      <th>MCD</th>\n",
              "      <th>MSFT</th>\n",
              "      <th>NKE</th>\n",
              "    </tr>\n",
              "    <tr>\n",
              "      <th>Date</th>\n",
              "      <th></th>\n",
              "      <th></th>\n",
              "      <th></th>\n",
              "      <th></th>\n",
              "    </tr>\n",
              "  </thead>\n",
              "  <tbody>\n",
              "    <tr>\n",
              "      <th>2011-01-03</th>\n",
              "      <td>10.049907</td>\n",
              "      <td>55.079620</td>\n",
              "      <td>21.917925</td>\n",
              "      <td>18.765165</td>\n",
              "    </tr>\n",
              "    <tr>\n",
              "      <th>2011-01-04</th>\n",
              "      <td>10.102355</td>\n",
              "      <td>53.432983</td>\n",
              "      <td>22.004097</td>\n",
              "      <td>18.303072</td>\n",
              "    </tr>\n",
              "    <tr>\n",
              "      <th>2011-01-05</th>\n",
              "      <td>10.184993</td>\n",
              "      <td>53.684643</td>\n",
              "      <td>21.933592</td>\n",
              "      <td>18.422956</td>\n",
              "    </tr>\n",
              "    <tr>\n",
              "      <th>2011-01-06</th>\n",
              "      <td>10.176763</td>\n",
              "      <td>53.361088</td>\n",
              "      <td>22.575943</td>\n",
              "      <td>18.257296</td>\n",
              "    </tr>\n",
              "    <tr>\n",
              "      <th>2011-01-07</th>\n",
              "      <td>10.249644</td>\n",
              "      <td>53.476116</td>\n",
              "      <td>22.403599</td>\n",
              "      <td>18.207161</td>\n",
              "    </tr>\n",
              "  </tbody>\n",
              "</table>\n",
              "</div>\n",
              "      <button class=\"colab-df-convert\" onclick=\"convertToInteractive('df-52ca2103-29a4-4196-a8a6-da88c42fbb16')\"\n",
              "              title=\"Convert this dataframe to an interactive table.\"\n",
              "              style=\"display:none;\">\n",
              "        \n",
              "  <svg xmlns=\"http://www.w3.org/2000/svg\" height=\"24px\"viewBox=\"0 0 24 24\"\n",
              "       width=\"24px\">\n",
              "    <path d=\"M0 0h24v24H0V0z\" fill=\"none\"/>\n",
              "    <path d=\"M18.56 5.44l.94 2.06.94-2.06 2.06-.94-2.06-.94-.94-2.06-.94 2.06-2.06.94zm-11 1L8.5 8.5l.94-2.06 2.06-.94-2.06-.94L8.5 2.5l-.94 2.06-2.06.94zm10 10l.94 2.06.94-2.06 2.06-.94-2.06-.94-.94-2.06-.94 2.06-2.06.94z\"/><path d=\"M17.41 7.96l-1.37-1.37c-.4-.4-.92-.59-1.43-.59-.52 0-1.04.2-1.43.59L10.3 9.45l-7.72 7.72c-.78.78-.78 2.05 0 2.83L4 21.41c.39.39.9.59 1.41.59.51 0 1.02-.2 1.41-.59l7.78-7.78 2.81-2.81c.8-.78.8-2.07 0-2.86zM5.41 20L4 18.59l7.72-7.72 1.47 1.35L5.41 20z\"/>\n",
              "  </svg>\n",
              "      </button>\n",
              "      \n",
              "  <style>\n",
              "    .colab-df-container {\n",
              "      display:flex;\n",
              "      flex-wrap:wrap;\n",
              "      gap: 12px;\n",
              "    }\n",
              "\n",
              "    .colab-df-convert {\n",
              "      background-color: #E8F0FE;\n",
              "      border: none;\n",
              "      border-radius: 50%;\n",
              "      cursor: pointer;\n",
              "      display: none;\n",
              "      fill: #1967D2;\n",
              "      height: 32px;\n",
              "      padding: 0 0 0 0;\n",
              "      width: 32px;\n",
              "    }\n",
              "\n",
              "    .colab-df-convert:hover {\n",
              "      background-color: #E2EBFA;\n",
              "      box-shadow: 0px 1px 2px rgba(60, 64, 67, 0.3), 0px 1px 3px 1px rgba(60, 64, 67, 0.15);\n",
              "      fill: #174EA6;\n",
              "    }\n",
              "\n",
              "    [theme=dark] .colab-df-convert {\n",
              "      background-color: #3B4455;\n",
              "      fill: #D2E3FC;\n",
              "    }\n",
              "\n",
              "    [theme=dark] .colab-df-convert:hover {\n",
              "      background-color: #434B5C;\n",
              "      box-shadow: 0px 1px 3px 1px rgba(0, 0, 0, 0.15);\n",
              "      filter: drop-shadow(0px 1px 2px rgba(0, 0, 0, 0.3));\n",
              "      fill: #FFFFFF;\n",
              "    }\n",
              "  </style>\n",
              "\n",
              "      <script>\n",
              "        const buttonEl =\n",
              "          document.querySelector('#df-52ca2103-29a4-4196-a8a6-da88c42fbb16 button.colab-df-convert');\n",
              "        buttonEl.style.display =\n",
              "          google.colab.kernel.accessAllowed ? 'block' : 'none';\n",
              "\n",
              "        async function convertToInteractive(key) {\n",
              "          const element = document.querySelector('#df-52ca2103-29a4-4196-a8a6-da88c42fbb16');\n",
              "          const dataTable =\n",
              "            await google.colab.kernel.invokeFunction('convertToInteractive',\n",
              "                                                     [key], {});\n",
              "          if (!dataTable) return;\n",
              "\n",
              "          const docLinkHtml = 'Like what you see? Visit the ' +\n",
              "            '<a target=\"_blank\" href=https://colab.research.google.com/notebooks/data_table.ipynb>data table notebook</a>'\n",
              "            + ' to learn more about interactive tables.';\n",
              "          element.innerHTML = '';\n",
              "          dataTable['output_type'] = 'display_data';\n",
              "          await google.colab.output.renderOutput(dataTable, element);\n",
              "          const docLink = document.createElement('div');\n",
              "          docLink.innerHTML = docLinkHtml;\n",
              "          element.appendChild(docLink);\n",
              "        }\n",
              "      </script>\n",
              "    </div>\n",
              "  </div>\n",
              "  "
            ]
          },
          "metadata": {},
          "execution_count": 20
        }
      ],
      "source": [
        "import yfinance as yf\n",
        "import numpy as np\n",
        "selected_stocks_data = yf.download(my_assets, start = '2011-1-1', end = '2015-12-31')['Adj Close']\n",
        "selected_stocks_data.head()"
      ]
    },
    {
      "cell_type": "code",
      "source": [],
      "metadata": {
        "id": "BJAkqlo--Bgv"
      },
      "id": "BJAkqlo--Bgv",
      "execution_count": null,
      "outputs": []
    },
    {
      "cell_type": "code",
      "execution_count": null,
      "id": "88f6494d",
      "metadata": {
        "id": "88f6494d"
      },
      "outputs": [],
      "source": []
    },
    {
      "cell_type": "code",
      "execution_count": null,
      "id": "Wycd2cona3uF",
      "metadata": {
        "colab": {
          "base_uri": "https://localhost:8080/",
          "height": 237
        },
        "id": "Wycd2cona3uF",
        "outputId": "f411dc07-ad1b-4b8e-c896-b758a5091865"
      },
      "outputs": [
        {
          "output_type": "execute_result",
          "data": {
            "text/plain": [
              "                AAPL       MCD      MSFT       NKE\n",
              "Date                                              \n",
              "2011-01-03       NaN       NaN       NaN       NaN\n",
              "2011-01-04  0.005205 -0.030352  0.003924 -0.024933\n",
              "2011-01-05  0.008147  0.004699 -0.003209  0.006529\n",
              "2011-01-06 -0.000808 -0.006045  0.028866 -0.009033\n",
              "2011-01-07  0.007136  0.002153 -0.007663 -0.002750"
            ],
            "text/html": [
              "\n",
              "  <div id=\"df-439ad278-e75e-4544-b85d-286d28ee83d5\">\n",
              "    <div class=\"colab-df-container\">\n",
              "      <div>\n",
              "<style scoped>\n",
              "    .dataframe tbody tr th:only-of-type {\n",
              "        vertical-align: middle;\n",
              "    }\n",
              "\n",
              "    .dataframe tbody tr th {\n",
              "        vertical-align: top;\n",
              "    }\n",
              "\n",
              "    .dataframe thead th {\n",
              "        text-align: right;\n",
              "    }\n",
              "</style>\n",
              "<table border=\"1\" class=\"dataframe\">\n",
              "  <thead>\n",
              "    <tr style=\"text-align: right;\">\n",
              "      <th></th>\n",
              "      <th>AAPL</th>\n",
              "      <th>MCD</th>\n",
              "      <th>MSFT</th>\n",
              "      <th>NKE</th>\n",
              "    </tr>\n",
              "    <tr>\n",
              "      <th>Date</th>\n",
              "      <th></th>\n",
              "      <th></th>\n",
              "      <th></th>\n",
              "      <th></th>\n",
              "    </tr>\n",
              "  </thead>\n",
              "  <tbody>\n",
              "    <tr>\n",
              "      <th>2011-01-03</th>\n",
              "      <td>NaN</td>\n",
              "      <td>NaN</td>\n",
              "      <td>NaN</td>\n",
              "      <td>NaN</td>\n",
              "    </tr>\n",
              "    <tr>\n",
              "      <th>2011-01-04</th>\n",
              "      <td>0.005205</td>\n",
              "      <td>-0.030352</td>\n",
              "      <td>0.003924</td>\n",
              "      <td>-0.024933</td>\n",
              "    </tr>\n",
              "    <tr>\n",
              "      <th>2011-01-05</th>\n",
              "      <td>0.008147</td>\n",
              "      <td>0.004699</td>\n",
              "      <td>-0.003209</td>\n",
              "      <td>0.006529</td>\n",
              "    </tr>\n",
              "    <tr>\n",
              "      <th>2011-01-06</th>\n",
              "      <td>-0.000808</td>\n",
              "      <td>-0.006045</td>\n",
              "      <td>0.028866</td>\n",
              "      <td>-0.009033</td>\n",
              "    </tr>\n",
              "    <tr>\n",
              "      <th>2011-01-07</th>\n",
              "      <td>0.007136</td>\n",
              "      <td>0.002153</td>\n",
              "      <td>-0.007663</td>\n",
              "      <td>-0.002750</td>\n",
              "    </tr>\n",
              "  </tbody>\n",
              "</table>\n",
              "</div>\n",
              "      <button class=\"colab-df-convert\" onclick=\"convertToInteractive('df-439ad278-e75e-4544-b85d-286d28ee83d5')\"\n",
              "              title=\"Convert this dataframe to an interactive table.\"\n",
              "              style=\"display:none;\">\n",
              "        \n",
              "  <svg xmlns=\"http://www.w3.org/2000/svg\" height=\"24px\"viewBox=\"0 0 24 24\"\n",
              "       width=\"24px\">\n",
              "    <path d=\"M0 0h24v24H0V0z\" fill=\"none\"/>\n",
              "    <path d=\"M18.56 5.44l.94 2.06.94-2.06 2.06-.94-2.06-.94-.94-2.06-.94 2.06-2.06.94zm-11 1L8.5 8.5l.94-2.06 2.06-.94-2.06-.94L8.5 2.5l-.94 2.06-2.06.94zm10 10l.94 2.06.94-2.06 2.06-.94-2.06-.94-.94-2.06-.94 2.06-2.06.94z\"/><path d=\"M17.41 7.96l-1.37-1.37c-.4-.4-.92-.59-1.43-.59-.52 0-1.04.2-1.43.59L10.3 9.45l-7.72 7.72c-.78.78-.78 2.05 0 2.83L4 21.41c.39.39.9.59 1.41.59.51 0 1.02-.2 1.41-.59l7.78-7.78 2.81-2.81c.8-.78.8-2.07 0-2.86zM5.41 20L4 18.59l7.72-7.72 1.47 1.35L5.41 20z\"/>\n",
              "  </svg>\n",
              "      </button>\n",
              "      \n",
              "  <style>\n",
              "    .colab-df-container {\n",
              "      display:flex;\n",
              "      flex-wrap:wrap;\n",
              "      gap: 12px;\n",
              "    }\n",
              "\n",
              "    .colab-df-convert {\n",
              "      background-color: #E8F0FE;\n",
              "      border: none;\n",
              "      border-radius: 50%;\n",
              "      cursor: pointer;\n",
              "      display: none;\n",
              "      fill: #1967D2;\n",
              "      height: 32px;\n",
              "      padding: 0 0 0 0;\n",
              "      width: 32px;\n",
              "    }\n",
              "\n",
              "    .colab-df-convert:hover {\n",
              "      background-color: #E2EBFA;\n",
              "      box-shadow: 0px 1px 2px rgba(60, 64, 67, 0.3), 0px 1px 3px 1px rgba(60, 64, 67, 0.15);\n",
              "      fill: #174EA6;\n",
              "    }\n",
              "\n",
              "    [theme=dark] .colab-df-convert {\n",
              "      background-color: #3B4455;\n",
              "      fill: #D2E3FC;\n",
              "    }\n",
              "\n",
              "    [theme=dark] .colab-df-convert:hover {\n",
              "      background-color: #434B5C;\n",
              "      box-shadow: 0px 1px 3px 1px rgba(0, 0, 0, 0.15);\n",
              "      filter: drop-shadow(0px 1px 2px rgba(0, 0, 0, 0.3));\n",
              "      fill: #FFFFFF;\n",
              "    }\n",
              "  </style>\n",
              "\n",
              "      <script>\n",
              "        const buttonEl =\n",
              "          document.querySelector('#df-439ad278-e75e-4544-b85d-286d28ee83d5 button.colab-df-convert');\n",
              "        buttonEl.style.display =\n",
              "          google.colab.kernel.accessAllowed ? 'block' : 'none';\n",
              "\n",
              "        async function convertToInteractive(key) {\n",
              "          const element = document.querySelector('#df-439ad278-e75e-4544-b85d-286d28ee83d5');\n",
              "          const dataTable =\n",
              "            await google.colab.kernel.invokeFunction('convertToInteractive',\n",
              "                                                     [key], {});\n",
              "          if (!dataTable) return;\n",
              "\n",
              "          const docLinkHtml = 'Like what you see? Visit the ' +\n",
              "            '<a target=\"_blank\" href=https://colab.research.google.com/notebooks/data_table.ipynb>data table notebook</a>'\n",
              "            + ' to learn more about interactive tables.';\n",
              "          element.innerHTML = '';\n",
              "          dataTable['output_type'] = 'display_data';\n",
              "          await google.colab.output.renderOutput(dataTable, element);\n",
              "          const docLink = document.createElement('div');\n",
              "          docLink.innerHTML = docLinkHtml;\n",
              "          element.appendChild(docLink);\n",
              "        }\n",
              "      </script>\n",
              "    </div>\n",
              "  </div>\n",
              "  "
            ]
          },
          "metadata": {},
          "execution_count": 21
        }
      ],
      "source": [
        "log_return = np.log(selected_stocks_data/selected_stocks_data.shift(1))\n",
        "log_return.head()"
      ]
    },
    {
      "cell_type": "code",
      "execution_count": null,
      "id": "Z777wklLKMii",
      "metadata": {
        "colab": {
          "base_uri": "https://localhost:8080/"
        },
        "id": "Z777wklLKMii",
        "outputId": "bf00946e-2b4a-4324-ed4b-af3ee4735b17"
      },
      "outputs": [
        {
          "output_type": "stream",
          "name": "stdout",
          "text": [
            "normalised weights :\n",
            "[0.00990211 0.030995   0.34187302 0.61722987]\n"
          ]
        }
      ],
      "source": [
        "import numpy as np\n",
        "weights = np.array(np.random.random(len(my_assets)))\n",
        "\n",
        "print('normalised weights :')\n",
        "weights = weights/np.sum(weights)\n",
        "print(weights)"
      ]
    },
    {
      "cell_type": "code",
      "execution_count": null,
      "id": "73zSFkttOq9_",
      "metadata": {
        "id": "73zSFkttOq9_"
      },
      "outputs": [],
      "source": [
        "from scipy.optimize import minimize\n",
        "\n",
        "def get_ret_vol_sr(weights): \n",
        "    weights = np.array(weights)\n",
        "    ret = np.sum(log_return.mean() * weights) * 252\n",
        "    vol = np.sqrt(np.dot(weights.T,np.dot(log_return.cov()*252,weights)))\n",
        "    sr = ret/vol \n",
        "    return np.array(sr)\n",
        "    \n",
        "\n",
        "# minimize negative Sharpe Ratio\n",
        "def neg_sharpe(weights): \n",
        "    return get_ret_vol_sr(weights)*-1\n",
        "\n",
        "# check allocation sums to 1\n",
        "def check_sum(weights): \n",
        "    return np.sum(weights) - 1"
      ]
    },
    {
      "cell_type": "code",
      "execution_count": null,
      "id": "VxR0DeiePMwW",
      "metadata": {
        "id": "VxR0DeiePMwW"
      },
      "outputs": [],
      "source": [
        "# create constraint variable\n",
        "cons = ({'type':'eq','fun':check_sum})"
      ]
    },
    {
      "cell_type": "code",
      "execution_count": null,
      "id": "N7fr03-cPcSt",
      "metadata": {
        "id": "N7fr03-cPcSt"
      },
      "outputs": [],
      "source": [
        "# create weight boundaries\n",
        "bounds = tuple((0, 1) for stocks in range(len(my_assets)))"
      ]
    },
    {
      "cell_type": "markdown",
      "source": [],
      "metadata": {
        "id": "7lng5xbPvXH-"
      },
      "id": "7lng5xbPvXH-"
    },
    {
      "cell_type": "code",
      "execution_count": null,
      "id": "w9tCkv_cQ6Xr",
      "metadata": {
        "id": "w9tCkv_cQ6Xr"
      },
      "outputs": [],
      "source": [
        "# initial guess\n",
        "# init_guess = [0.1 for stocks in range(len(my_assets))]\n",
        "init_guess = [0.3, 0.4, 0.2, 0.1]\n",
        "# tuple((0, 1) for stocks in range(len(my_assets)))"
      ]
    },
    {
      "cell_type": "code",
      "execution_count": null,
      "id": "1XtwTtMMSmeL",
      "metadata": {
        "colab": {
          "base_uri": "https://localhost:8080/"
        },
        "id": "1XtwTtMMSmeL",
        "outputId": "f1faf01f-38d9-4af4-f9bb-50e560a1bd93"
      },
      "outputs": [
        {
          "output_type": "execute_result",
          "data": {
            "text/plain": [
              "-1.0503080948286814"
            ]
          },
          "metadata": {},
          "execution_count": 27
        }
      ],
      "source": [
        "neg_sharpe(weights)"
      ]
    },
    {
      "cell_type": "code",
      "execution_count": null,
      "id": "azJ6BBaOQ943",
      "metadata": {
        "id": "azJ6BBaOQ943",
        "colab": {
          "base_uri": "https://localhost:8080/"
        },
        "outputId": "d66703e4-2a1c-487f-deb2-1ca6cb43b7e9"
      },
      "outputs": [
        {
          "output_type": "execute_result",
          "data": {
            "text/plain": [
              "     fun: -1.1193099828521158\n",
              "     jac: array([ 1.18255615e-04, -7.23749399e-04,  7.59810209e-05,  4.80681658e-04])\n",
              " message: 'Optimization terminated successfully'\n",
              "    nfev: 31\n",
              "     nit: 6\n",
              "    njev: 6\n",
              "  status: 0\n",
              " success: True\n",
              "       x: array([0.15858723, 0.30258205, 0.14801449, 0.39081623])"
            ]
          },
          "metadata": {},
          "execution_count": 28
        }
      ],
      "source": [
        "# from scipy.optimize import minimize\n",
        "opt_results = minimize(neg_sharpe, init_guess, method='SLSQP', bounds=bounds, constraints=cons)\n",
        "opt_results"
      ]
    },
    {
      "cell_type": "code",
      "execution_count": null,
      "id": "KXW0qoxzbdin",
      "metadata": {
        "id": "KXW0qoxzbdin"
      },
      "outputs": [],
      "source": [
        "my_weights = np.array(opt_results.x)\n",
        "my_weights = my_weights.tolist()"
      ]
    },
    {
      "cell_type": "code",
      "execution_count": null,
      "id": "LzzQFJCpRBLh",
      "metadata": {
        "colab": {
          "base_uri": "https://localhost:8080/"
        },
        "id": "LzzQFJCpRBLh",
        "outputId": "024bd971-0d71-4856-e709-7c4c5a1a81d7"
      },
      "outputs": [
        {
          "output_type": "execute_result",
          "data": {
            "text/plain": [
              "1.0"
            ]
          },
          "metadata": {},
          "execution_count": 30
        }
      ],
      "source": [
        "tot_weights = np.sum(my_weights)\n",
        "tot_weights"
      ]
    },
    {
      "cell_type": "code",
      "execution_count": null,
      "id": "8rIfmjrMbZJJ",
      "metadata": {
        "colab": {
          "base_uri": "https://localhost:8080/"
        },
        "id": "8rIfmjrMbZJJ",
        "outputId": "c12c4754-8f03-4f12-b13b-bfb73300832b"
      },
      "outputs": [
        {
          "output_type": "execute_result",
          "data": {
            "text/plain": [
              "{'MSFT': 0.158587228563664,\n",
              " 'AAPL': 0.30258204946634426,\n",
              " 'MCD': 0.1480144881818856,\n",
              " 'NKE': 0.3908162337881062}"
            ]
          },
          "metadata": {},
          "execution_count": 31
        }
      ],
      "source": [
        "weights_alloc = dict(zip(my_assets, my_weights))\n",
        "weights_alloc"
      ]
    },
    {
      "cell_type": "code",
      "execution_count": null,
      "id": "83scUJt0fhBp",
      "metadata": {
        "colab": {
          "base_uri": "https://localhost:8080/"
        },
        "id": "83scUJt0fhBp",
        "outputId": "b468e5a9-edd8-49c3-bbc7-0a817a21099a"
      },
      "outputs": [
        {
          "output_type": "execute_result",
          "data": {
            "text/plain": [
              "['MSFT', 'AAPL', 'MCD', 'NKE']"
            ]
          },
          "metadata": {},
          "execution_count": 32
        }
      ],
      "source": [
        "my_assets"
      ]
    },
    {
      "cell_type": "code",
      "execution_count": null,
      "id": "3qXicxqgfesq",
      "metadata": {
        "colab": {
          "base_uri": "https://localhost:8080/"
        },
        "id": "3qXicxqgfesq",
        "outputId": "a410369b-e8ff-4468-d5c3-24fb86e24cbc"
      },
      "outputs": [
        {
          "output_type": "stream",
          "name": "stdout",
          "text": [
            "sharpe ratio of your porrtfolio after optimization is  1.0492638822770528\n"
          ]
        }
      ],
      "source": [
        "ret = np.sum(log_return.mean() * my_weights) * 252 # returns of a portfolio after optimum weight allocation\n",
        "vol = np.sqrt(np.dot(weights.T,np.dot(log_return.cov()*252,my_weights))) # risk of a portfolio after optimum weight allocation\n",
        "sharpe_ratio = ret/vol # sharpe ratio of a portfolio after optimum weight allocation\n",
        "print(\"sharpe ratio of your porrtfolio after optimization is \", sharpe_ratio)\n",
        "\n",
        "risk_ret_dict_of_quantum = {\n",
        "    'returns' : ret*100,\n",
        "    'risk' : vol*100, \n",
        "    'sharpe_ratio' : sharpe_ratio \n",
        "}"
      ]
    },
    {
      "cell_type": "code",
      "execution_count": null,
      "id": "c286190f",
      "metadata": {
        "colab": {
          "base_uri": "https://localhost:8080/"
        },
        "id": "c286190f",
        "outputId": "01b0dec6-c5f1-4b82-dc4a-02694cc79f2f"
      },
      "outputs": [
        {
          "output_type": "execute_result",
          "data": {
            "text/plain": [
              "{'returns': 17.97788918527313,\n",
              " 'risk': 17.133811130769637,\n",
              " 'sharpe_ratio': 1.0492638822770528}"
            ]
          },
          "metadata": {},
          "execution_count": 34
        }
      ],
      "source": [
        "risk_ret_dict_of_quantum"
      ]
    },
    {
      "cell_type": "code",
      "execution_count": null,
      "id": "OphZn6Dwf8xY",
      "metadata": {
        "colab": {
          "base_uri": "https://localhost:8080/",
          "height": 248
        },
        "id": "OphZn6Dwf8xY",
        "outputId": "cdf51adc-730c-4b77-8399-d8fdf3026f65"
      },
      "outputs": [
        {
          "output_type": "display_data",
          "data": {
            "text/plain": [
              "<Figure size 432x288 with 1 Axes>"
            ],
            "image/png": "[encoded data removed]"
          },
          "metadata": {}
        }
      ],
      "source": [
        "import matplotlib.pyplot as plt\n",
        "import numpy as np\n",
        "\n",
        "y = np.array(weights)\n",
        "mylabels = my_assets\n",
        "\n",
        "plt.pie(y, labels = mylabels)\n",
        "plt.show()"
      ]
    },
    {
      "cell_type": "code",
      "execution_count": null,
      "id": "AphQCFMkgFW8",
      "metadata": {
        "id": "AphQCFMkgFW8"
      },
      "outputs": [],
      "source": [
        "# 4_stocks= [\"JPM\", \"GS\", \"MSFT\", \"WMT\"]\n",
        "# 6_stocks= [\"JPM\", \"GS\", \"MSFT\", \"AAPL\", \"WMT\", \"MCD\"]\n",
        "# 8_stocks= [\"JPM\", \"GS\", \"MSFT\", \"AAPL\", \"KO\", \"WMT\", \"MCD\", \"NKE\"]\n",
        "# 10_stocks=[\"JPM\", \"GS\", \"MSFT\", \"AAPL\", \"KO\", \"WMT\", \"DIS\", \"BA\", \"MCD\", \"NKE\"]"
      ]
    },
    {
      "cell_type": "markdown",
      "id": "edeb8003",
      "metadata": {
        "id": "edeb8003"
      },
      "source": []
    },
    {
      "cell_type": "markdown",
      "id": "4dc63729",
      "metadata": {
        "id": "4dc63729"
      },
      "source": [
        "## MPT CODE to benchmark "
      ]
    },
    {
      "cell_type": "markdown",
      "id": "029a01f8",
      "metadata": {
        "id": "029a01f8"
      },
      "source": []
    },
    {
      "cell_type": "code",
      "execution_count": null,
      "id": "d86fcc3b",
      "metadata": {
        "id": "d86fcc3b"
      },
      "outputs": [],
      "source": []
    },
    {
      "cell_type": "code",
      "execution_count": null,
      "id": "0b89224d",
      "metadata": {
        "id": "0b89224d"
      },
      "outputs": [],
      "source": []
    },
    {
      "cell_type": "code",
      "execution_count": null,
      "id": "3908c9eb",
      "metadata": {
        "id": "3908c9eb"
      },
      "outputs": [],
      "source": [
        "import numpy as np\n",
        "import yfinance as yf\n",
        "import pandas as pd\n",
        "import matplotlib.pyplot as plt\n",
        "import scipy.optimize as optimization"
      ]
    },
    {
      "cell_type": "code",
      "execution_count": null,
      "id": "3e35d96d",
      "metadata": {
        "id": "3e35d96d"
      },
      "outputs": [],
      "source": [
        "NUM_TRADING_DAYS = 252 #252*5 cosnidered previously, now I'm just taing for 1 year\n",
        "NUM_PORTFOLIOS = 10000\n",
        "stocks =  [\"JPM\", \"GS\", \"MSFT\", \"AAPL\", \"KO\", \"WMT\", \"MCD\", \"NKE\"]"
      ]
    },
    {
      "cell_type": "code",
      "execution_count": null,
      "id": "9afa958f",
      "metadata": {
        "id": "9afa958f"
      },
      "outputs": [],
      "source": [
        "# start_date = '2011-01-01' # YY/MM/DD\n",
        "# end_date = '2015-12-31'   # YY/MM/DD"
      ]
    },
    {
      "cell_type": "code",
      "execution_count": null,
      "id": "b9817251",
      "metadata": {
        "id": "b9817251"
      },
      "outputs": [],
      "source": [
        "## this is previously defined download_data function, Which need to change, as dataset values of this funtion and Weight allocation part were not same. even after dates were same.\n",
        "\n",
        "# def download_data():\n",
        "#     stock_data = {}\n",
        "#     for stock in stocks:\n",
        "#         ticker = yf.Ticker(stock)\n",
        "#         stock_data[stock] = ticker.download(start=start_date, end=end_date )['Close']\n",
        "#     df = pd.DataFrame(stock_data)\n",
        "#     df.head()\n",
        "#     return pd.DataFrame(stock_data)"
      ]
    },
    {
      "cell_type": "code",
      "source": [
        "def download_data():\n",
        "    stocks_data = yf.download(stocks, start = '2011-1-1', end = '2015-12-31')['Adj Close']\n",
        "    # stocks_data.head()\n",
        "    return pd.DataFrame(stocks_data)"
      ],
      "metadata": {
        "id": "ylnzPsF5-_FV"
      },
      "id": "ylnzPsF5-_FV",
      "execution_count": null,
      "outputs": []
    },
    {
      "cell_type": "code",
      "execution_count": null,
      "id": "d7b68df6",
      "metadata": {
        "id": "d7b68df6"
      },
      "outputs": [],
      "source": [
        "def show_data(data):\n",
        "    data.plot(figsize=(8, 5))\n",
        "    plt.show()\n",
        "\n",
        "# show_data(data)"
      ]
    },
    {
      "cell_type": "code",
      "execution_count": null,
      "id": "a1a9ee73",
      "metadata": {
        "id": "a1a9ee73"
      },
      "outputs": [],
      "source": [
        "def calculate_return(data):\n",
        "    log_return = np.log(data / data.shift(1))\n",
        "    return log_return[1:]"
      ]
    },
    {
      "cell_type": "code",
      "execution_count": null,
      "id": "12ffb68c",
      "metadata": {
        "id": "12ffb68c"
      },
      "outputs": [],
      "source": [
        "def show_statistics(returns):\n",
        "    print(returns.mean() * NUM_TRADING_DAYS)\n",
        "    print(returns.cov() * NUM_TRADING_DAYS)"
      ]
    },
    {
      "cell_type": "code",
      "execution_count": null,
      "id": "d67fd74b",
      "metadata": {
        "id": "d67fd74b"
      },
      "outputs": [],
      "source": [
        "def show_mean_variance(returns, weights):\n",
        "    portfolio_return = np.sum(returns.mean() * weights) * NUM_TRADING_DAYS\n",
        "    portfolio_volatility = np.sqrt(np.dot(weights, np.dot(returns.cov() * NUM_TRADING_DAYS, weights)))\n",
        "    print('Expected portfolio mean: ', portfolio_return)\n",
        "    print('Expected portfolio volatility: ', portfolio_volatility)\n",
        "    print(\"sharpe ratio of a portfolio is \", portfolio_return/portfolio_volatility)"
      ]
    },
    {
      "cell_type": "code",
      "execution_count": null,
      "id": "6bfb8545",
      "metadata": {
        "id": "6bfb8545"
      },
      "outputs": [],
      "source": [
        "def show_portfolios(returns, volatilities):\n",
        "    plt.figure(figsize=(8, 5))\n",
        "    plt.scatter(volatilities, returns, c=returns / volatilities, marker='o')\n",
        "    plt.grid(True)\n",
        "    plt.xlabel('Expected Volatility')\n",
        "    plt.ylabel('Expected Return')\n",
        "    plt.colorbar(label='Sharpe Ratio')\n",
        "    plt.show()"
      ]
    },
    {
      "cell_type": "code",
      "execution_count": null,
      "id": "272e2b8f",
      "metadata": {
        "id": "272e2b8f"
      },
      "outputs": [],
      "source": [
        "def generate_portfolios(returns):\n",
        "    portfolio_means = []\n",
        "    portfolio_risks = []\n",
        "    portfolio_weights = []"
      ]
    },
    {
      "cell_type": "code",
      "execution_count": null,
      "id": "3a425e98",
      "metadata": {
        "id": "3a425e98"
      },
      "outputs": [],
      "source": [
        "def generate_portfolios(returns):\n",
        "    portfolio_means = []\n",
        "    portfolio_risks = []\n",
        "    portfolio_weights = []\n",
        "\n",
        "    for _ in range(NUM_PORTFOLIOS):\n",
        "        w = np.random.random(len(stocks))\n",
        "        w /= np.sum(w)\n",
        "        portfolio_weights.append(w)\n",
        "        portfolio_means.append(np.sum(returns.mean() * w) * NUM_TRADING_DAYS)\n",
        "        portfolio_risks.append(np.sqrt(np.dot(w.T, np.dot(returns.cov() * NUM_TRADING_DAYS, w))))\n",
        "\n",
        "    return np.array(portfolio_weights), np.array(portfolio_means), np.array(portfolio_risks)"
      ]
    },
    {
      "cell_type": "code",
      "execution_count": null,
      "id": "7d1e8c11",
      "metadata": {
        "id": "7d1e8c11"
      },
      "outputs": [],
      "source": [
        "def statistics(weights, returns):\n",
        "    portfolio_return = np.sum(returns.mean() * weights) * NUM_TRADING_DAYS\n",
        "    portfolio_volatility = np.sqrt(np.dot(weights.T, np.dot(returns.cov() * NUM_TRADING_DAYS, weights)))\n",
        "\n",
        "    return np.array([portfolio_return, portfolio_volatility, portfolio_return / portfolio_volatility])"
      ]
    },
    {
      "cell_type": "code",
      "execution_count": null,
      "id": "0c3d9392",
      "metadata": {
        "id": "0c3d9392"
      },
      "outputs": [],
      "source": [
        "def min_function_sharpe(weights, returns):\n",
        "    return -statistics(weights, returns)[2]"
      ]
    },
    {
      "cell_type": "code",
      "execution_count": null,
      "id": "33a6fa02",
      "metadata": {
        "id": "33a6fa02"
      },
      "outputs": [],
      "source": [
        "def optimize_portfolio(weights, returns):\n",
        "    constraints = {'type': 'eq', 'fun': lambda x: np.sum(x) - 1}\n",
        "    bounds = tuple((0, 1) for _ in range(len(stocks)))\n",
        "    return optimization.minimize(fun=min_function_sharpe, x0=weights[0], args=returns, method='SLSQP',\n",
        "                                 bounds=bounds, constraints=constraints)\n"
      ]
    },
    {
      "cell_type": "code",
      "execution_count": null,
      "id": "38b881aa",
      "metadata": {
        "id": "38b881aa"
      },
      "outputs": [],
      "source": [
        "def print_optimal_portfolio(optimum, returns):\n",
        "    print('Optimal Portfolio: ', optimum['x'].round(3))\n",
        "    print('Expected return, volatility and sharpe ratio: ', statistics(optimum['x'].round(3), returns))\n"
      ]
    },
    {
      "cell_type": "code",
      "execution_count": null,
      "id": "ccc92332",
      "metadata": {
        "id": "ccc92332"
      },
      "outputs": [],
      "source": [
        "def show_optimal_portfolio(opt, rets, portfolio_rets, portfolio_vols):\n",
        "    plt.figure(figsize=(8, 5))\n",
        "    plt.scatter(portfolio_vols, portfolio_rets, c=portfolio_rets / portfolio_vols, marker='o')\n",
        "    plt.grid(True)\n",
        "    plt.xlabel('Expected Volatility')\n",
        "    plt.ylabel('Expected Return')\n",
        "    plt.colorbar(label='Sharpe Ratio')\n",
        "    plt.plot(statistics(opt['x'], rets)[1], statistics(opt['x'], rets)[0], 'g*', markersize=20.0)\n",
        "    plt.show()"
      ]
    },
    {
      "cell_type": "code",
      "execution_count": null,
      "id": "bfc3a6c3",
      "metadata": {
        "colab": {
          "base_uri": "https://localhost:8080/",
          "height": 1000
        },
        "id": "bfc3a6c3",
        "outputId": "4241aa0e-1a8f-4e21-9fb5-32700fcb0911"
      },
      "outputs": [
        {
          "output_type": "stream",
          "name": "stdout",
          "text": [
            "[*********************100%***********************]  8 of 8 completed\n"
          ]
        },
        {
          "output_type": "display_data",
          "data": {
            "text/plain": [
              "<Figure size 576x360 with 1 Axes>"
            ],
            "image/png": "[encoded data removed]"
          },
          "metadata": {
            "needs_background": "light"
          }
        },
        {
          "output_type": "display_data",
          "data": {
            "text/plain": [
              "<Figure size 576x360 with 2 Axes>"
            ],
            "image/png": "[encoded data removed]"
          },
          "metadata": {
            "needs_background": "light"
          }
        },
        {
          "output_type": "stream",
          "name": "stdout",
          "text": [
            "Optimal Portfolio:  [0.158 0.    0.    0.    0.303 0.148 0.391 0.   ]\n",
            "Expected return, volatility and sharpe ratio:  [0.17976393 0.16060256 1.1193092 ]\n"
          ]
        },
        {
          "output_type": "display_data",
          "data": {
            "text/plain": [
              "<Figure size 576x360 with 2 Axes>"
            ],
            "image/png": "[encoded data removed]"
          },
          "metadata": {
            "needs_background": "light"
          }
        }
      ],
      "source": [
        "if __name__ == '__main__':\n",
        "    # print(download_data())\n",
        "    dataset = download_data()\n",
        "    show_data(dataset)\n",
        "    log_daily_returns = calculate_return(dataset)\n",
        "    # show_statistics(log_daily_returns)\n",
        "    # show_mean_variance(log_daily_returns, [0.1, 0.2, 0.3, 0.2, 0.1, 0.1])\n",
        "    pweights, means, risks = generate_portfolios(log_daily_returns)\n",
        "    show_portfolios(means, risks)\n",
        "    optimum = optimize_portfolio(pweights, log_daily_returns)\n",
        "    print_optimal_portfolio(optimum, log_daily_returns)\n",
        "    show_optimal_portfolio(optimum, log_daily_returns, means, risks)"
      ]
    },
    {
      "cell_type": "markdown",
      "source": [
        "## this cell has too much importance, cause I have been using this cell to verify that 2 datsets which I'm getting are coreect or not. \n",
        "## finally after changing the download_data() function, it'd have fixed in proper way. "
      ],
      "metadata": {
        "id": "WE5pPqvDBM9I"
      },
      "id": "WE5pPqvDBM9I"
    },
    {
      "cell_type": "code",
      "source": [
        "#selected_stocks_data.head() "
      ],
      "metadata": {
        "id": "lNJx0Tnr80Iq"
      },
      "id": "lNJx0Tnr80Iq",
      "execution_count": null,
      "outputs": []
    },
    {
      "cell_type": "code",
      "source": [
        "risk_ret_dict_of_quantum"
      ],
      "metadata": {
        "colab": {
          "base_uri": "https://localhost:8080/"
        },
        "id": "NRfI43gtrj9z",
        "outputId": "f71bdfd2-b28a-4bd1-9ec7-28046736f3c7"
      },
      "id": "NRfI43gtrj9z",
      "execution_count": null,
      "outputs": [
        {
          "output_type": "execute_result",
          "data": {
            "text/plain": [
              "{'returns': 17.97788918527313,\n",
              " 'risk': 17.133811130769637,\n",
              " 'sharpe_ratio': 1.0492638822770528}"
            ]
          },
          "metadata": {},
          "execution_count": 56
        }
      ]
    },
    {
      "cell_type": "code",
      "source": [],
      "metadata": {
        "id": "NIUzraWRpITm"
      },
      "id": "NIUzraWRpITm",
      "execution_count": null,
      "outputs": []
    },
    {
      "cell_type": "markdown",
      "source": [],
      "metadata": {
        "id": "sQ_ZhkA-v8FP"
      },
      "id": "sQ_ZhkA-v8FP"
    },
    {
      "cell_type": "markdown",
      "source": [
        "## To benchmark with pypfopt"
      ],
      "metadata": {
        "id": "416NZrW0v8RV"
      },
      "id": "416NZrW0v8RV"
    },
    {
      "cell_type": "code",
      "source": [
        "stocks_df = yf.download(stocks, start = '2011-1-1', end = '2015-12-31')['Adj Close']\n",
        "stocks_df.head()\n",
        "\n",
        "\n",
        "!pip install pyportfolioopt\n",
        "\n",
        "\n",
        "# from pandas_datareader.data import DataReader\n",
        "import yfinance as yf\n",
        "from pypfopt.discrete_allocation import DiscreteAllocation, get_latest_prices\n",
        "from pypfopt import EfficientFrontier\n",
        "from pypfopt import risk_models\n",
        "from pypfopt import expected_returns\n",
        "from pypfopt import plotting\n",
        "import copy\n",
        "import numpy as np\n",
        "import pandas as pd\n",
        "import plotly.express as px\n",
        "import matplotlib.pyplot as plt\n",
        "import seaborn as sns\n",
        "\n",
        "\n",
        "\n",
        "mu = expected_returns.mean_historical_return(stocks_df)\n",
        "S = risk_models.sample_cov(stocks_df)\n",
        "print(mu)\n",
        "\n",
        "def plot_cum_returns(data, title):    \n",
        "    daily_cum_returns = 1 + data.dropna().pct_change()\n",
        "    daily_cum_returns = daily_cum_returns.cumprod()*100\n",
        "    fig = px.line(daily_cum_returns, title=title)\n",
        "    return fig\n",
        "    \n",
        "fig_cum_returns = plot_cum_returns(stocks_df, 'Cumulative Returns of Individual Stocks Starting with $100')\n",
        "# fig_cum_returns.show()\n",
        "\n",
        "corr_df = stocks_df.corr().round(2) # round to 2 decimal places\n",
        "fig_corr = px.imshow(corr_df, text_auto=True, title = 'Correlation between Stocks')\n",
        "# fig_corr.show()\n",
        "\n",
        "def plot_efficient_frontier_and_max_sharpe(mu, S):  \n",
        "    # Optimize portfolio for maximal Sharpe ratio \n",
        "    ef = EfficientFrontier(mu, S)\n",
        "    fig, ax = plt.subplots(figsize=(8,6))\n",
        "    ef_max_sharpe = copy.deepcopy(ef)\n",
        "    plotting.plot_efficient_frontier(ef, ax=ax, show_assets=False)\n",
        "    # Find the max sharpe portfolio\n",
        "    ef_max_sharpe.max_sharpe(risk_free_rate=0.02)\n",
        "    ret_tangent, std_tangent, _ =   ef_max_sharpe.portfolio_performance()\n",
        "    ax.scatter(std_tangent, ret_tangent, marker=\"*\", s=100, c=\"r\",     label=\"Max Sharpe\")\n",
        "# Generate random portfolios\n",
        "    n_samples = 1000\n",
        "    w = np.random.dirichlet(np.ones(ef.n_assets), n_samples)\n",
        "    rets = w.dot(ef.expected_returns)\n",
        "    stds = np.sqrt(np.diag(w @ ef.cov_matrix @ w.T))\n",
        "    sharpes = rets / stds\n",
        "    ax.scatter(stds, rets, marker=\".\", c=sharpes, cmap=\"viridis_r\")\n",
        "# Output\n",
        "    ax.set_title(\"Efficient Frontier with Random Portfolios\")\n",
        "    ax.legend()\n",
        "    plt.tight_layout()\n",
        "    plt.show()\n",
        "    \n",
        "plot_efficient_frontier_and_max_sharpe(mu, S)\n",
        "\n",
        "ef = EfficientFrontier(mu, S)\n",
        "ef.max_sharpe(risk_free_rate=0.02)\n",
        "weights = ef.clean_weights()\n",
        "print(weights)\n",
        "\n",
        "expected_annual_return, annual_volatility, sharpe_ratio = ef.portfolio_performance()\n",
        "print('Expected annual return: {}%'.format((expected_annual_return*100).round(2)))\n",
        "print('Annual volatility: {}%'.format((annual_volatility*100).round(2)))\n",
        "print('Sharpe ratio: {}'.format(sharpe_ratio.round(2)))"
      ],
      "metadata": {
        "colab": {
          "base_uri": "https://localhost:8080/",
          "height": 934
        },
        "id": "MvLJBYSBv_hu",
        "outputId": "149a543c-0a78-4fc4-8b8c-8ed653c1a020"
      },
      "id": "MvLJBYSBv_hu",
      "execution_count": null,
      "outputs": [
        {
          "output_type": "stream",
          "name": "stdout",
          "text": [
            "[*********************100%***********************]  8 of 8 completed\n",
            "Looking in indexes: https://pypi.org/simple, https://us-python.pkg.dev/colab-wheels/public/simple/\n",
            "Requirement already satisfied: pyportfolioopt in /usr/local/lib/python3.7/dist-packages (1.5.2)\n",
            "Requirement already satisfied: pandas>=0.19 in /usr/local/lib/python3.7/dist-packages (from pyportfolioopt) (1.3.5)\n",
            "Requirement already satisfied: numpy<2.0,>=1.12 in /usr/local/lib/python3.7/dist-packages (from pyportfolioopt) (1.21.6)\n",
            "Requirement already satisfied: cvxpy<2.0.0,>=1.1.10 in /usr/local/lib/python3.7/dist-packages (from pyportfolioopt) (1.2.1)\n",
            "Requirement already satisfied: scipy<2.0,>=1.3 in /usr/local/lib/python3.7/dist-packages (from pyportfolioopt) (1.7.3)\n",
            "Requirement already satisfied: ecos>=2 in /usr/local/lib/python3.7/dist-packages (from cvxpy<2.0.0,>=1.1.10->pyportfolioopt) (2.0.10)\n",
            "Requirement already satisfied: scs>=1.1.6 in /usr/local/lib/python3.7/dist-packages (from cvxpy<2.0.0,>=1.1.10->pyportfolioopt) (3.2.0)\n",
            "Requirement already satisfied: osqp>=0.4.1 in /usr/local/lib/python3.7/dist-packages (from cvxpy<2.0.0,>=1.1.10->pyportfolioopt) (0.6.2.post0)\n",
            "Requirement already satisfied: qdldl in /usr/local/lib/python3.7/dist-packages (from osqp>=0.4.1->cvxpy<2.0.0,>=1.1.10->pyportfolioopt) (0.1.5.post2)\n",
            "Requirement already satisfied: pytz>=2017.3 in /usr/local/lib/python3.7/dist-packages (from pandas>=0.19->pyportfolioopt) (2022.2.1)\n",
            "Requirement already satisfied: python-dateutil>=2.7.3 in /usr/local/lib/python3.7/dist-packages (from pandas>=0.19->pyportfolioopt) (2.8.2)\n",
            "Requirement already satisfied: six>=1.5 in /usr/local/lib/python3.7/dist-packages (from python-dateutil>=2.7.3->pandas>=0.19->pyportfolioopt) (1.15.0)\n",
            "AAPL    0.196777\n",
            "GS      0.023900\n",
            "JPM     0.117940\n",
            "KO      0.091537\n",
            "MCD     0.129168\n",
            "MSFT    0.182899\n",
            "NKE     0.257904\n",
            "WMT     0.051538\n",
            "dtype: float64\n"
          ]
        },
        {
          "output_type": "display_data",
          "data": {
            "text/plain": [
              "<Figure size 576x432 with 1 Axes>"
            ],
            "image/png": "[encoded data removed]"
          },
          "metadata": {
            "needs_background": "light"
          }
        },
        {
          "output_type": "stream",
          "name": "stdout",
          "text": [
            "OrderedDict([('AAPL', 0.17201), ('GS', 0.0), ('JPM', 0.0), ('KO', 0.0), ('MCD', 0.20207), ('MSFT', 0.15598), ('NKE', 0.46994), ('WMT', 0.0)])\n",
            "Expected annual return: 20.97%\n",
            "Annual volatility: 17.05%\n",
            "Sharpe ratio: 1.11\n"
          ]
        }
      ]
    },
    {
      "cell_type": "code",
      "source": [],
      "metadata": {
        "id": "JuETqhW2wCJH"
      },
      "id": "JuETqhW2wCJH",
      "execution_count": null,
      "outputs": []
    }
  ],
  "metadata": {
    "colab": {
      "collapsed_sections": [],
      "provenance": []
    },
    "kernelspec": {
      "display_name": "Python 3.8.0 ('quantum-qiskit')",
      "language": "python",
      "name": "python3"
    },
    "language_info": {
      "codemirror_mode": {
        "name": "ipython",
        "version": 3
      },
      "file_extension": ".py",
      "mimetype": "text/x-python",
      "name": "python",
      "nbconvert_exporter": "python",
      "pygments_lexer": "ipython3",
      "version": "3.8.0"
    },
    "vscode": {
      "interpreter": {
        "hash": "22cb6fd05822f170cc2b76bad925994d7e6c545045ad3bc53e0ea083a8e23cc4"
      }
    }
  },
  "nbformat": 4,
  "nbformat_minor": 5
}