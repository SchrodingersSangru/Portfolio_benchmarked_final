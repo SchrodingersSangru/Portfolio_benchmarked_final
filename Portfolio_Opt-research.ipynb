{
  "cells": [
    {
      "cell_type": "code",
      "execution_count": 1,
      "id": "a3ca350e",
      "metadata": {
        "id": "a3ca350e"
      },
      "outputs": [],
      "source": [
        "#importing the required stuff\n",
        "from qiskit import Aer\n",
        "from qiskit.algorithms import VQE, QAOA, NumPyMinimumEigensolver\n",
        "from qiskit.algorithms.optimizers import COBYLA, SPSA\n",
        "from qiskit.circuit.library import TwoLocal\n",
        "from qiskit.utils import QuantumInstance\n",
        "from qiskit_finance.applications.optimization import PortfolioOptimization\n",
        "from qiskit_finance.data_providers import *\n",
        "from qiskit_finance import QiskitFinanceError\n",
        "from qiskit_optimization.algorithms import MinimumEigenOptimizer\n",
        "from qiskit_optimization.applications import OptimizationApplication\n",
        "from qiskit_optimization.converters import QuadraticProgramToQubo\n",
        "import numpy as np\n",
        "import matplotlib.pyplot as plt\n",
        "\n",
        "import datetime\n",
        "import pandas as pd\n",
        "from pandas.plotting import register_matplotlib_converters\n",
        "register_matplotlib_converters()\n",
        "import csv\n",
        "import yfinance as yf\n",
        "import pandas_datareader.data as web\n",
        "from qiskit_finance.applications.optimization import PortfolioDiversification"
      ]
    },
    {
      "cell_type": "code",
      "execution_count": 2,
      "id": "1b6ad0d8",
      "metadata": {
        "id": "1b6ad0d8"
      },
      "outputs": [],
      "source": [
        "%matplotlib inline"
      ]
    },
    {
      "cell_type": "code",
      "execution_count": 3,
      "id": "QaeRmlsKmbRt",
      "metadata": {
        "id": "QaeRmlsKmbRt"
      },
      "outputs": [],
      "source": [
        "# assets = [\"AAPL\", \"GS\", \"JPM\", \"MSFT\", \"MCD\", \"WMT\"]\n",
        "# assets = [\"AMZN\", \"BAC\", \"CVX\", \"SPY\"]"
      ]
    },
    {
      "cell_type": "code",
      "execution_count": 4,
      "id": "25cdcbc2",
      "metadata": {
        "colab": {
          "base_uri": "https://localhost:8080/"
        },
        "id": "25cdcbc2",
        "outputId": "96a85d67-3fbe-49ae-e398-a101dad6bd32"
      },
      "outputs": [
        {
          "name": "stdout",
          "output_type": "stream",
          "text": [
            "[*********************100%***********************]  4 of 4 completed\n"
          ]
        }
      ],
      "source": [
        "# set number of assets (= number of qubits)\n",
        "\n",
        "seed = 123\n",
        "\n",
        "assets = [\"AAPL\", \"MSFT\", \"MCD\", \"WMT\"]\n",
        "\n",
        "# Using data from yahoo finance\n",
        "# use the name listed for particular company that you wish to add\n",
        "\n",
        "import yfinance as yf\n",
        "import numpy as np\n",
        "stocks_data_csv= yf.download(assets, start = '2013-01-01', end = '2021-12-31')['Adj Close']\n",
        "stocks_data_csv.to_csv(\"Stocks_data.csv\")"
      ]
    },
    {
      "cell_type": "code",
      "execution_count": 5,
      "id": "8a931426",
      "metadata": {},
      "outputs": [
        {
          "data": {
            "text/html": [
              "<div>\n",
              "<style scoped>\n",
              "    .dataframe tbody tr th:only-of-type {\n",
              "        vertical-align: middle;\n",
              "    }\n",
              "\n",
              "    .dataframe tbody tr th {\n",
              "        vertical-align: top;\n",
              "    }\n",
              "\n",
              "    .dataframe thead th {\n",
              "        text-align: right;\n",
              "    }\n",
              "</style>\n",
              "<table border=\"1\" class=\"dataframe\">\n",
              "  <thead>\n",
              "    <tr style=\"text-align: right;\">\n",
              "      <th></th>\n",
              "      <th>Date</th>\n",
              "      <th>AAPL</th>\n",
              "      <th>MCD</th>\n",
              "      <th>MSFT</th>\n",
              "      <th>WMT</th>\n",
              "    </tr>\n",
              "  </thead>\n",
              "  <tbody>\n",
              "    <tr>\n",
              "      <th>0</th>\n",
              "      <td>2012-12-31</td>\n",
              "      <td>16.344986</td>\n",
              "      <td>67.065506</td>\n",
              "      <td>22.024326</td>\n",
              "      <td>54.645313</td>\n",
              "    </tr>\n",
              "    <tr>\n",
              "      <th>1</th>\n",
              "      <td>2013-01-02</td>\n",
              "      <td>16.862822</td>\n",
              "      <td>68.517677</td>\n",
              "      <td>22.774689</td>\n",
              "      <td>55.454205</td>\n",
              "    </tr>\n",
              "    <tr>\n",
              "      <th>2</th>\n",
              "      <td>2013-01-03</td>\n",
              "      <td>16.649977</td>\n",
              "      <td>68.905411</td>\n",
              "      <td>22.469595</td>\n",
              "      <td>55.101818</td>\n",
              "    </tr>\n",
              "    <tr>\n",
              "      <th>3</th>\n",
              "      <td>2013-01-04</td>\n",
              "      <td>16.186203</td>\n",
              "      <td>68.312386</td>\n",
              "      <td>22.049063</td>\n",
              "      <td>55.310051</td>\n",
              "    </tr>\n",
              "    <tr>\n",
              "      <th>4</th>\n",
              "      <td>2013-01-07</td>\n",
              "      <td>16.090992</td>\n",
              "      <td>69.118309</td>\n",
              "      <td>22.007832</td>\n",
              "      <td>54.781460</td>\n",
              "    </tr>\n",
              "    <tr>\n",
              "      <th>...</th>\n",
              "      <td>...</td>\n",
              "      <td>...</td>\n",
              "      <td>...</td>\n",
              "      <td>...</td>\n",
              "      <td>...</td>\n",
              "    </tr>\n",
              "    <tr>\n",
              "      <th>2262</th>\n",
              "      <td>2021-12-23</td>\n",
              "      <td>175.262817</td>\n",
              "      <td>260.124146</td>\n",
              "      <td>331.583008</td>\n",
              "      <td>137.331253</td>\n",
              "    </tr>\n",
              "    <tr>\n",
              "      <th>2263</th>\n",
              "      <td>2021-12-27</td>\n",
              "      <td>179.289444</td>\n",
              "      <td>262.363922</td>\n",
              "      <td>339.270996</td>\n",
              "      <td>138.581573</td>\n",
              "    </tr>\n",
              "    <tr>\n",
              "      <th>2264</th>\n",
              "      <td>2021-12-28</td>\n",
              "      <td>178.255432</td>\n",
              "      <td>262.011841</td>\n",
              "      <td>338.082123</td>\n",
              "      <td>140.570328</td>\n",
              "    </tr>\n",
              "    <tr>\n",
              "      <th>2265</th>\n",
              "      <td>2021-12-29</td>\n",
              "      <td>178.344925</td>\n",
              "      <td>262.608459</td>\n",
              "      <td>338.775665</td>\n",
              "      <td>140.501419</td>\n",
              "    </tr>\n",
              "    <tr>\n",
              "      <th>2266</th>\n",
              "      <td>2021-12-30</td>\n",
              "      <td>177.171738</td>\n",
              "      <td>261.356506</td>\n",
              "      <td>336.170044</td>\n",
              "      <td>140.954300</td>\n",
              "    </tr>\n",
              "  </tbody>\n",
              "</table>\n",
              "<p>2267 rows × 5 columns</p>\n",
              "</div>"
            ],
            "text/plain": [
              "            Date        AAPL         MCD        MSFT         WMT\n",
              "0     2012-12-31   16.344986   67.065506   22.024326   54.645313\n",
              "1     2013-01-02   16.862822   68.517677   22.774689   55.454205\n",
              "2     2013-01-03   16.649977   68.905411   22.469595   55.101818\n",
              "3     2013-01-04   16.186203   68.312386   22.049063   55.310051\n",
              "4     2013-01-07   16.090992   69.118309   22.007832   54.781460\n",
              "...          ...         ...         ...         ...         ...\n",
              "2262  2021-12-23  175.262817  260.124146  331.583008  137.331253\n",
              "2263  2021-12-27  179.289444  262.363922  339.270996  138.581573\n",
              "2264  2021-12-28  178.255432  262.011841  338.082123  140.570328\n",
              "2265  2021-12-29  178.344925  262.608459  338.775665  140.501419\n",
              "2266  2021-12-30  177.171738  261.356506  336.170044  140.954300\n",
              "\n",
              "[2267 rows x 5 columns]"
            ]
          },
          "execution_count": 5,
          "metadata": {},
          "output_type": "execute_result"
        }
      ],
      "source": [
        "read_stocks_data = pd.read_csv(\"Stocks_data.csv\", index_col=False)\n",
        "read_stocks_data"
      ]
    },
    {
      "cell_type": "code",
      "execution_count": 6,
      "id": "08243ca3",
      "metadata": {},
      "outputs": [
        {
          "data": {
            "text/html": [
              "<div>\n",
              "<style scoped>\n",
              "    .dataframe tbody tr th:only-of-type {\n",
              "        vertical-align: middle;\n",
              "    }\n",
              "\n",
              "    .dataframe tbody tr th {\n",
              "        vertical-align: top;\n",
              "    }\n",
              "\n",
              "    .dataframe thead th {\n",
              "        text-align: right;\n",
              "    }\n",
              "</style>\n",
              "<table border=\"1\" class=\"dataframe\">\n",
              "  <thead>\n",
              "    <tr style=\"text-align: right;\">\n",
              "      <th></th>\n",
              "      <th>AAPL</th>\n",
              "      <th>MCD</th>\n",
              "      <th>MSFT</th>\n",
              "      <th>WMT</th>\n",
              "    </tr>\n",
              "  </thead>\n",
              "  <tbody>\n",
              "    <tr>\n",
              "      <th>0</th>\n",
              "      <td>16.344986</td>\n",
              "      <td>67.065506</td>\n",
              "      <td>22.024326</td>\n",
              "      <td>54.645313</td>\n",
              "    </tr>\n",
              "    <tr>\n",
              "      <th>1</th>\n",
              "      <td>16.862822</td>\n",
              "      <td>68.517677</td>\n",
              "      <td>22.774689</td>\n",
              "      <td>55.454205</td>\n",
              "    </tr>\n",
              "    <tr>\n",
              "      <th>2</th>\n",
              "      <td>16.649977</td>\n",
              "      <td>68.905411</td>\n",
              "      <td>22.469595</td>\n",
              "      <td>55.101818</td>\n",
              "    </tr>\n",
              "    <tr>\n",
              "      <th>3</th>\n",
              "      <td>16.186203</td>\n",
              "      <td>68.312386</td>\n",
              "      <td>22.049063</td>\n",
              "      <td>55.310051</td>\n",
              "    </tr>\n",
              "    <tr>\n",
              "      <th>4</th>\n",
              "      <td>16.090992</td>\n",
              "      <td>69.118309</td>\n",
              "      <td>22.007832</td>\n",
              "      <td>54.781460</td>\n",
              "    </tr>\n",
              "    <tr>\n",
              "      <th>...</th>\n",
              "      <td>...</td>\n",
              "      <td>...</td>\n",
              "      <td>...</td>\n",
              "      <td>...</td>\n",
              "    </tr>\n",
              "    <tr>\n",
              "      <th>2262</th>\n",
              "      <td>175.262817</td>\n",
              "      <td>260.124146</td>\n",
              "      <td>331.583008</td>\n",
              "      <td>137.331253</td>\n",
              "    </tr>\n",
              "    <tr>\n",
              "      <th>2263</th>\n",
              "      <td>179.289444</td>\n",
              "      <td>262.363922</td>\n",
              "      <td>339.270996</td>\n",
              "      <td>138.581573</td>\n",
              "    </tr>\n",
              "    <tr>\n",
              "      <th>2264</th>\n",
              "      <td>178.255432</td>\n",
              "      <td>262.011841</td>\n",
              "      <td>338.082123</td>\n",
              "      <td>140.570328</td>\n",
              "    </tr>\n",
              "    <tr>\n",
              "      <th>2265</th>\n",
              "      <td>178.344925</td>\n",
              "      <td>262.608459</td>\n",
              "      <td>338.775665</td>\n",
              "      <td>140.501419</td>\n",
              "    </tr>\n",
              "    <tr>\n",
              "      <th>2266</th>\n",
              "      <td>177.171738</td>\n",
              "      <td>261.356506</td>\n",
              "      <td>336.170044</td>\n",
              "      <td>140.954300</td>\n",
              "    </tr>\n",
              "  </tbody>\n",
              "</table>\n",
              "<p>2267 rows × 4 columns</p>\n",
              "</div>"
            ],
            "text/plain": [
              "            AAPL         MCD        MSFT         WMT\n",
              "0      16.344986   67.065506   22.024326   54.645313\n",
              "1      16.862822   68.517677   22.774689   55.454205\n",
              "2      16.649977   68.905411   22.469595   55.101818\n",
              "3      16.186203   68.312386   22.049063   55.310051\n",
              "4      16.090992   69.118309   22.007832   54.781460\n",
              "...          ...         ...         ...         ...\n",
              "2262  175.262817  260.124146  331.583008  137.331253\n",
              "2263  179.289444  262.363922  339.270996  138.581573\n",
              "2264  178.255432  262.011841  338.082123  140.570328\n",
              "2265  178.344925  262.608459  338.775665  140.501419\n",
              "2266  177.171738  261.356506  336.170044  140.954300\n",
              "\n",
              "[2267 rows x 4 columns]"
            ]
          },
          "execution_count": 6,
          "metadata": {},
          "output_type": "execute_result"
        }
      ],
      "source": [
        "stocks_data = read_stocks_data.drop(['Date'], axis=1)\n",
        "stocks_data\n"
      ]
    },
    {
      "cell_type": "code",
      "execution_count": 7,
      "id": "081db01a",
      "metadata": {},
      "outputs": [],
      "source": [
        "log_return = np.log(stocks_data/stocks_data.shift(1))\n",
        "trading_days = log_return.shape[0]\n",
        "\n",
        "\n",
        "num_assets = len(assets)\n",
        "mu = log_return.mean()*trading_days\n",
        "sigma = log_return.cov()*trading_days\n",
        "sigma = np.array(sigma)\n",
        "mu = np.array(mu)"
      ]
    },
    {
      "cell_type": "code",
      "execution_count": 8,
      "id": "ddf86a8e",
      "metadata": {},
      "outputs": [
        {
          "data": {
            "text/html": [
              "<div>\n",
              "<style scoped>\n",
              "    .dataframe tbody tr th:only-of-type {\n",
              "        vertical-align: middle;\n",
              "    }\n",
              "\n",
              "    .dataframe tbody tr th {\n",
              "        vertical-align: top;\n",
              "    }\n",
              "\n",
              "    .dataframe thead th {\n",
              "        text-align: right;\n",
              "    }\n",
              "</style>\n",
              "<table border=\"1\" class=\"dataframe\">\n",
              "  <thead>\n",
              "    <tr style=\"text-align: right;\">\n",
              "      <th></th>\n",
              "      <th>AAPL</th>\n",
              "      <th>MCD</th>\n",
              "      <th>MSFT</th>\n",
              "      <th>WMT</th>\n",
              "    </tr>\n",
              "  </thead>\n",
              "  <tbody>\n",
              "    <tr>\n",
              "      <th>0</th>\n",
              "      <td>NaN</td>\n",
              "      <td>NaN</td>\n",
              "      <td>NaN</td>\n",
              "      <td>NaN</td>\n",
              "    </tr>\n",
              "    <tr>\n",
              "      <th>1</th>\n",
              "      <td>0.031190</td>\n",
              "      <td>0.021422</td>\n",
              "      <td>0.033502</td>\n",
              "      <td>0.014694</td>\n",
              "    </tr>\n",
              "    <tr>\n",
              "      <th>2</th>\n",
              "      <td>-0.012702</td>\n",
              "      <td>0.005643</td>\n",
              "      <td>-0.013487</td>\n",
              "      <td>-0.006375</td>\n",
              "    </tr>\n",
              "    <tr>\n",
              "      <th>3</th>\n",
              "      <td>-0.028250</td>\n",
              "      <td>-0.008644</td>\n",
              "      <td>-0.018893</td>\n",
              "      <td>0.003772</td>\n",
              "    </tr>\n",
              "    <tr>\n",
              "      <th>4</th>\n",
              "      <td>-0.005900</td>\n",
              "      <td>0.011729</td>\n",
              "      <td>-0.001872</td>\n",
              "      <td>-0.009603</td>\n",
              "    </tr>\n",
              "  </tbody>\n",
              "</table>\n",
              "</div>"
            ],
            "text/plain": [
              "       AAPL       MCD      MSFT       WMT\n",
              "0       NaN       NaN       NaN       NaN\n",
              "1  0.031190  0.021422  0.033502  0.014694\n",
              "2 -0.012702  0.005643 -0.013487 -0.006375\n",
              "3 -0.028250 -0.008644 -0.018893  0.003772\n",
              "4 -0.005900  0.011729 -0.001872 -0.009603"
            ]
          },
          "execution_count": 8,
          "metadata": {},
          "output_type": "execute_result"
        }
      ],
      "source": [
        "log_return.head()"
      ]
    },
    {
      "cell_type": "code",
      "execution_count": 9,
      "id": "xLIv34V4uxK4",
      "metadata": {
        "colab": {
          "base_uri": "https://localhost:8080/",
          "height": 455
        },
        "id": "xLIv34V4uxK4",
        "outputId": "b756da5d-db4e-4df6-f8f6-0a00ba50b835"
      },
      "outputs": [
        {
          "data": {
            "text/html": [
              "<div>\n",
              "<style scoped>\n",
              "    .dataframe tbody tr th:only-of-type {\n",
              "        vertical-align: middle;\n",
              "    }\n",
              "\n",
              "    .dataframe tbody tr th {\n",
              "        vertical-align: top;\n",
              "    }\n",
              "\n",
              "    .dataframe thead th {\n",
              "        text-align: right;\n",
              "    }\n",
              "</style>\n",
              "<table border=\"1\" class=\"dataframe\">\n",
              "  <thead>\n",
              "    <tr style=\"text-align: right;\">\n",
              "      <th></th>\n",
              "      <th>AAPL</th>\n",
              "      <th>MCD</th>\n",
              "      <th>MSFT</th>\n",
              "      <th>WMT</th>\n",
              "    </tr>\n",
              "  </thead>\n",
              "  <tbody>\n",
              "    <tr>\n",
              "      <th>0</th>\n",
              "      <td>NaN</td>\n",
              "      <td>NaN</td>\n",
              "      <td>NaN</td>\n",
              "      <td>NaN</td>\n",
              "    </tr>\n",
              "    <tr>\n",
              "      <th>1</th>\n",
              "      <td>0.031682</td>\n",
              "      <td>0.021653</td>\n",
              "      <td>0.034070</td>\n",
              "      <td>0.014803</td>\n",
              "    </tr>\n",
              "    <tr>\n",
              "      <th>2</th>\n",
              "      <td>-0.012622</td>\n",
              "      <td>0.005659</td>\n",
              "      <td>-0.013396</td>\n",
              "      <td>-0.006355</td>\n",
              "    </tr>\n",
              "    <tr>\n",
              "      <th>3</th>\n",
              "      <td>-0.027854</td>\n",
              "      <td>-0.008606</td>\n",
              "      <td>-0.018716</td>\n",
              "      <td>0.003779</td>\n",
              "    </tr>\n",
              "    <tr>\n",
              "      <th>4</th>\n",
              "      <td>-0.005882</td>\n",
              "      <td>0.011798</td>\n",
              "      <td>-0.001870</td>\n",
              "      <td>-0.009557</td>\n",
              "    </tr>\n",
              "  </tbody>\n",
              "</table>\n",
              "</div>"
            ],
            "text/plain": [
              "       AAPL       MCD      MSFT       WMT\n",
              "0       NaN       NaN       NaN       NaN\n",
              "1  0.031682  0.021653  0.034070  0.014803\n",
              "2 -0.012622  0.005659 -0.013396 -0.006355\n",
              "3 -0.027854 -0.008606 -0.018716  0.003779\n",
              "4 -0.005882  0.011798 -0.001870 -0.009557"
            ]
          },
          "execution_count": 9,
          "metadata": {},
          "output_type": "execute_result"
        }
      ],
      "source": [
        "percetn_return = stocks_data.pct_change()\n",
        "percetn_return.head()"
      ]
    },
    {
      "cell_type": "markdown",
      "id": "9fabb229",
      "metadata": {},
      "source": [
        "### Conclusion 1 - log returns n percet change returns give the same value as an output.."
      ]
    },
    {
      "cell_type": "code",
      "execution_count": 10,
      "id": "VR86tVuvrAoo",
      "metadata": {
        "colab": {
          "base_uri": "https://localhost:8080/",
          "height": 237
        },
        "id": "VR86tVuvrAoo",
        "outputId": "69ba7bdb-63ff-45a6-8624-2ebe3967aa01"
      },
      "outputs": [
        {
          "data": {
            "text/html": [
              "<div>\n",
              "<style scoped>\n",
              "    .dataframe tbody tr th:only-of-type {\n",
              "        vertical-align: middle;\n",
              "    }\n",
              "\n",
              "    .dataframe tbody tr th {\n",
              "        vertical-align: top;\n",
              "    }\n",
              "\n",
              "    .dataframe thead th {\n",
              "        text-align: right;\n",
              "    }\n",
              "</style>\n",
              "<table border=\"1\" class=\"dataframe\">\n",
              "  <thead>\n",
              "    <tr style=\"text-align: right;\">\n",
              "      <th></th>\n",
              "      <th>AAPL</th>\n",
              "      <th>MCD</th>\n",
              "      <th>MSFT</th>\n",
              "      <th>WMT</th>\n",
              "    </tr>\n",
              "  </thead>\n",
              "  <tbody>\n",
              "    <tr>\n",
              "      <th>0</th>\n",
              "      <td>16.344986</td>\n",
              "      <td>67.065506</td>\n",
              "      <td>22.024326</td>\n",
              "      <td>54.645313</td>\n",
              "    </tr>\n",
              "    <tr>\n",
              "      <th>1</th>\n",
              "      <td>16.862822</td>\n",
              "      <td>68.517677</td>\n",
              "      <td>22.774689</td>\n",
              "      <td>55.454205</td>\n",
              "    </tr>\n",
              "    <tr>\n",
              "      <th>2</th>\n",
              "      <td>16.649977</td>\n",
              "      <td>68.905411</td>\n",
              "      <td>22.469595</td>\n",
              "      <td>55.101818</td>\n",
              "    </tr>\n",
              "    <tr>\n",
              "      <th>3</th>\n",
              "      <td>16.186203</td>\n",
              "      <td>68.312386</td>\n",
              "      <td>22.049063</td>\n",
              "      <td>55.310051</td>\n",
              "    </tr>\n",
              "    <tr>\n",
              "      <th>4</th>\n",
              "      <td>16.090992</td>\n",
              "      <td>69.118309</td>\n",
              "      <td>22.007832</td>\n",
              "      <td>54.781460</td>\n",
              "    </tr>\n",
              "  </tbody>\n",
              "</table>\n",
              "</div>"
            ],
            "text/plain": [
              "        AAPL        MCD       MSFT        WMT\n",
              "0  16.344986  67.065506  22.024326  54.645313\n",
              "1  16.862822  68.517677  22.774689  55.454205\n",
              "2  16.649977  68.905411  22.469595  55.101818\n",
              "3  16.186203  68.312386  22.049063  55.310051\n",
              "4  16.090992  69.118309  22.007832  54.781460"
            ]
          },
          "execution_count": 10,
          "metadata": {},
          "output_type": "execute_result"
        }
      ],
      "source": [
        "stocks_data.head() # yf"
      ]
    },
    {
      "cell_type": "code",
      "execution_count": 11,
      "id": "Jc6agQmnm6rS",
      "metadata": {
        "colab": {
          "base_uri": "https://localhost:8080/"
        },
        "id": "Jc6agQmnm6rS",
        "outputId": "91084c9a-e8f7-4b97-a057-7c087431e766"
      },
      "outputs": [],
      "source": [
        "# print(\"returns \", mu)\n",
        "# print(\"cov \", sigma)"
      ]
    },
    {
      "cell_type": "code",
      "execution_count": 12,
      "id": "50530cf1",
      "metadata": {
        "colab": {
          "base_uri": "https://localhost:8080/",
          "height": 265
        },
        "id": "50530cf1",
        "outputId": "ed403021-9020-4a9d-cd5a-e0dd369428e4"
      },
      "outputs": [
        {
          "data": {
            "image/png": "[encoded data removed]",
            "text/plain": [
              "<Figure size 640x480 with 1 Axes>"
            ]
          },
          "metadata": {},
          "output_type": "display_data"
        }
      ],
      "source": [
        "# plot sigma\n",
        "plt.imshow(sigma, interpolation=\"nearest\")\n",
        "plt.show()"
      ]
    },
    {
      "cell_type": "code",
      "execution_count": 13,
      "id": "14567144",
      "metadata": {
        "colab": {
          "base_uri": "https://localhost:8080/"
        },
        "id": "14567144",
        "outputId": "7d8501ee-632d-46cf-9e50-04e5f8a3edeb"
      },
      "outputs": [
        {
          "data": {
            "text/plain": [
              "<QuadraticProgram: minimize 0.3602088740073782*x_0^2 + 0.193978922332834*x_0*x..., 4 variables, 1 constraints, 'Portfolio optimization'>"
            ]
          },
          "execution_count": 13,
          "metadata": {},
          "output_type": "execute_result"
        }
      ],
      "source": [
        "q = 0.5 # set risk factor\n",
        "budget = num_assets // 2  # set budget\n",
        "penalty = num_assets  # set parameter to scale the budget penalty term\n",
        "\n",
        "portfolio = PortfolioOptimization(\n",
        "    expected_returns=mu, covariances=sigma, risk_factor=q, budget=budget,\n",
        ")\n",
        "qp = portfolio.to_quadratic_program()\n",
        "qp"
      ]
    },
    {
      "cell_type": "code",
      "execution_count": 14,
      "id": "3fdb11f6",
      "metadata": {},
      "outputs": [],
      "source": [
        "def index_to_selection(i, num_assets):\n",
        "    s = \"{0:b}\".format(i).rjust(num_assets)\n",
        "    x = np.array([1 if s[i] == \"1\" else 0 for i in reversed(range(num_assets))])\n",
        "    return x\n",
        "\n",
        "\n",
        "iterations = []\n",
        "bitstring = []\n",
        "values = []\n",
        "probabilityy = []\n",
        "\n",
        "\n",
        "\n",
        "def store_results_nes(result, iter):\n",
        "# for j in range(maxiter):\n",
        "    selection = result.x\n",
        "    value = result.fval\n",
        "    # print(\"Optimal: selection {}, value {:.4f}\".format(selection, value))\n",
        "\n",
        "    eigenstate = result.min_eigen_solver_result.eigenstate\n",
        "    eigenvector = eigenstate if isinstance(eigenstate, np.ndarray) else eigenstate.to_matrix()\n",
        "    \n",
        "    probabilities = np.abs(eigenvector) ** 2\n",
        "    i_sorted = list(reversed(np.argsort(eigenvector)))\n",
        "    for i in i_sorted:\n",
        "        x = index_to_selection(i, num_assets)\n",
        "        \n",
        "        value = QuadraticProgramToQubo().convert(qp).objective.evaluate(x)\n",
        "        value = portfolio.to_quadratic_program().objective.evaluate(x)\n",
        "        \n",
        "        iterations.append(iter)\n",
        "        bitstring.append(selection)\n",
        "        values.append(value)\n",
        "        # probability = probabilities[i]\n",
        "        probabilityy.append(probabilities[i])\n",
        "        \n",
        "        df_input={'iterations ':iterations}\n",
        "        df = pd.DataFrame(df_input)\n",
        "        df['optimal_bitstring']=pd.Series(list(bitstring))\n",
        "        df['values']=pd.Series(values)\n",
        "        df['probability'] = pd.Series(probabilityy)\n",
        "        \n",
        "        df.to_csv(\"portfolio_intermediate_results-nes.csv\", index=False)\n",
        "    "
      ]
    },
    {
      "cell_type": "code",
      "execution_count": 15,
      "id": "95721b99",
      "metadata": {
        "colab": {
          "base_uri": "https://localhost:8080/"
        },
        "id": "95721b99",
        "outputId": "420b7090-02b1-4057-ac4f-96e8d56a99d9"
      },
      "outputs": [
        {
          "data": {
            "text/plain": [
              "array([1., 0., 1., 0.])"
            ]
          },
          "execution_count": 15,
          "metadata": {},
          "output_type": "execute_result"
        }
      ],
      "source": [
        "exact = MinimumEigenOptimizer(NumPyMinimumEigensolver())\n",
        "result = exact.solve(qp)\n",
        "best_sample = result.x\n",
        "best_sample\n",
        "# [1. 0. 0. 1]"
      ]
    },
    {
      "cell_type": "code",
      "execution_count": 16,
      "id": "9700aea0",
      "metadata": {},
      "outputs": [],
      "source": [
        "maxiter = 1\n",
        "\n",
        "for iter in range(maxiter):\n",
        "    exact_mes = NumPyMinimumEigensolver()\n",
        "    exact_eigensolver = MinimumEigenOptimizer(exact_mes)\n",
        "\n",
        "    result = exact_eigensolver.solve(qp)\n",
        "    algo = \"nes\"\n",
        "    store_results_nes(result, iter)"
      ]
    },
    {
      "cell_type": "code",
      "execution_count": null,
      "id": "0bd7d654",
      "metadata": {},
      "outputs": [],
      "source": []
    },
    {
      "cell_type": "markdown",
      "id": "bfb56467",
      "metadata": {},
      "source": []
    },
    {
      "cell_type": "code",
      "execution_count": 17,
      "id": "7093a627",
      "metadata": {},
      "outputs": [],
      "source": [
        "def index_to_selection(i, num_assets):\n",
        "    s = \"{0:b}\".format(i).rjust(num_assets)\n",
        "    x = np.array([1 if s[i] == \"1\" else 0 for i in reversed(range(num_assets))])\n",
        "    return x\n",
        "\n",
        "iterations = []\n",
        "bitstring = []\n",
        "values = []\n",
        "probabilityy = []\n",
        "\n",
        "def store_results_vqe_cobyla(result, iter):\n",
        "# for j in range(maxiter):\n",
        "    selection = result.x\n",
        "    value = result.fval\n",
        "\n",
        "    #clear the df as its giving the values of previous run into the next run.. \n",
        "    ## i.e. previoous nes into vqe algo\n",
        "    # hence we need to copy this function seperatelly for every run\n",
        "\n",
        "    eigenstate = result.min_eigen_solver_result.eigenstate\n",
        "    eigenvector = eigenstate if isinstance(eigenstate, np.ndarray) else eigenstate.to_matrix()\n",
        "    \n",
        "    probabilities = np.abs(eigenvector) ** 2\n",
        "    i_sorted = list(reversed(np.argsort(eigenvector)))\n",
        "    for i in i_sorted:\n",
        "        x = index_to_selection(i, num_assets)\n",
        "        # print(x)\n",
        "        value = QuadraticProgramToQubo().convert(qp).objective.evaluate(x)\n",
        "        value = portfolio.to_quadratic_program().objective.evaluate(x)\n",
        "        \n",
        "        iterations.append(iter)\n",
        "        bitstring.append(selection)\n",
        "        values.append(value)\n",
        "        # probability = probabilities[i]\n",
        "        probabilityy.append(probabilities[i])\n",
        "        \n",
        "        df_input={'iterations ':iterations}\n",
        "        df = pd.DataFrame(df_input)\n",
        "        df['optimal_bitstring']=pd.Series(list(bitstring))\n",
        "        df['values']=pd.Series(values)\n",
        "        df['probability'] = pd.Series(probabilityy)\n",
        "        \n",
        "        df.to_csv(\"portfolio_intermediate_results-Vqe_cobyla.csv\", index=False)"
      ]
    },
    {
      "cell_type": "code",
      "execution_count": 18,
      "id": "f0d47626",
      "metadata": {
        "colab": {
          "base_uri": "https://localhost:8080/"
        },
        "id": "f0d47626",
        "outputId": "4d3ee6f9-aae0-48e7-db48-a2a48aac56e6"
      },
      "outputs": [
        {
          "name": "stdout",
          "output_type": "stream",
          "text": [
            "[1 0 0 1]\n",
            "[0 0 0 1]\n",
            "[0 0 0 0]\n",
            "[1 1 1 1]\n",
            "[0 1 1 1]\n",
            "[0 0 1 0]\n",
            "[1 0 0 0]\n",
            "[1 1 0 0]\n",
            "[0 0 1 1]\n",
            "[1 0 1 0]\n",
            "[1 0 1 1]\n",
            "[0 1 1 0]\n",
            "[1 1 1 0]\n",
            "[1 1 0 1]\n",
            "[0 1 0 0]\n",
            "[0 1 0 1]\n",
            "[1 0 0 1]\n",
            "[0 0 0 1]\n",
            "[0 0 0 0]\n",
            "[1 1 1 1]\n",
            "[0 1 1 1]\n",
            "[0 0 1 0]\n",
            "[1 0 0 0]\n",
            "[1 1 0 0]\n",
            "[0 0 1 1]\n",
            "[1 0 1 0]\n",
            "[1 0 1 1]\n",
            "[0 1 1 0]\n",
            "[1 1 1 0]\n",
            "[1 1 0 1]\n",
            "[0 1 0 0]\n",
            "[0 1 0 1]\n",
            "[1 0 0 1]\n",
            "[0 0 0 1]\n",
            "[0 0 0 0]\n",
            "[1 1 1 1]\n",
            "[0 1 1 1]\n",
            "[0 0 1 0]\n",
            "[1 0 0 0]\n",
            "[1 1 0 0]\n",
            "[0 0 1 1]\n",
            "[1 0 1 0]\n",
            "[1 0 1 1]\n",
            "[0 1 1 0]\n",
            "[1 1 1 0]\n",
            "[1 1 0 1]\n",
            "[0 1 0 0]\n",
            "[0 1 0 1]\n",
            "[1 0 0 1]\n",
            "[0 0 0 1]\n",
            "[0 1 1 1]\n",
            "[1 1 1 1]\n",
            "[0 0 1 1]\n",
            "[1 1 1 0]\n",
            "[0 0 0 0]\n",
            "[1 0 1 0]\n",
            "[1 0 1 1]\n",
            "[1 1 0 0]\n",
            "[0 0 1 0]\n",
            "[0 1 1 0]\n",
            "[1 1 0 1]\n",
            "[1 0 0 0]\n",
            "[0 1 0 1]\n",
            "[0 1 0 0]\n",
            "[1 0 0 1]\n",
            "[0 0 0 1]\n",
            "[0 1 1 1]\n",
            "[1 1 1 1]\n",
            "[0 0 1 1]\n",
            "[1 1 1 0]\n",
            "[0 0 0 0]\n",
            "[1 0 1 0]\n",
            "[1 0 1 1]\n",
            "[1 1 0 0]\n",
            "[0 0 1 0]\n",
            "[0 1 1 0]\n",
            "[1 1 0 1]\n",
            "[1 0 0 0]\n",
            "[0 1 0 1]\n",
            "[0 1 0 0]\n",
            "[1 0 0 1]\n",
            "[0 0 0 1]\n",
            "[0 1 1 1]\n",
            "[1 1 1 1]\n",
            "[0 0 1 1]\n",
            "[1 1 1 0]\n",
            "[0 0 0 0]\n",
            "[1 0 1 0]\n",
            "[1 0 1 1]\n",
            "[1 1 0 0]\n",
            "[0 0 1 0]\n",
            "[0 1 1 0]\n",
            "[1 1 0 1]\n",
            "[1 0 0 0]\n",
            "[0 1 0 1]\n",
            "[0 1 0 0]\n",
            "[1 0 0 1]\n",
            "[0 1 1 1]\n",
            "[1 1 0 0]\n",
            "[0 0 0 0]\n",
            "[1 0 1 1]\n",
            "[0 0 0 1]\n",
            "[0 1 1 0]\n",
            "[0 0 1 0]\n",
            "[0 0 1 1]\n",
            "[1 1 0 1]\n",
            "[1 1 1 1]\n",
            "[1 0 1 0]\n",
            "[1 1 1 0]\n",
            "[1 0 0 0]\n",
            "[0 1 0 1]\n",
            "[0 1 0 0]\n",
            "[1 0 0 1]\n",
            "[0 1 1 1]\n",
            "[1 1 0 0]\n",
            "[0 0 0 0]\n",
            "[1 0 1 1]\n",
            "[0 0 0 1]\n",
            "[0 1 1 0]\n",
            "[0 0 1 0]\n",
            "[0 0 1 1]\n",
            "[1 1 0 1]\n",
            "[1 1 1 1]\n",
            "[1 0 1 0]\n",
            "[1 1 1 0]\n",
            "[1 0 0 0]\n",
            "[0 1 0 1]\n",
            "[0 1 0 0]\n",
            "[1 0 0 1]\n",
            "[0 1 1 1]\n",
            "[1 1 0 0]\n",
            "[0 0 0 0]\n",
            "[1 0 1 1]\n",
            "[0 0 0 1]\n",
            "[0 1 1 0]\n",
            "[0 0 1 0]\n",
            "[0 0 1 1]\n",
            "[1 1 0 1]\n",
            "[1 1 1 1]\n",
            "[1 0 1 0]\n",
            "[1 1 1 0]\n",
            "[1 0 0 0]\n",
            "[0 1 0 1]\n",
            "[0 1 0 0]\n",
            "[1 0 0 1]\n",
            "[1 1 0 0]\n",
            "[0 0 0 0]\n",
            "[0 1 1 0]\n",
            "[1 1 1 1]\n",
            "[0 0 1 0]\n",
            "[1 0 1 1]\n",
            "[0 1 0 1]\n",
            "[0 0 1 1]\n",
            "[0 0 0 1]\n",
            "[1 1 1 0]\n",
            "[0 1 1 1]\n",
            "[1 1 0 1]\n",
            "[1 0 1 0]\n",
            "[1 0 0 0]\n",
            "[0 1 0 0]\n"
          ]
        }
      ],
      "source": [
        "# VQE + Cobyla\n",
        "from qiskit.utils import algorithm_globals\n",
        "maxiter=10\n",
        "\n",
        "for iter in range(maxiter):\n",
        "    algorithm_globals.random_seed = 1234\n",
        "    backend = Aer.get_backend(\"statevector_simulator\")\n",
        "    optimizer = COBYLA(maxiter=iter)\n",
        "    ry = TwoLocal(num_assets, \"ry\", \"cz\", reps=3, entanglement=\"full\")\n",
        "    quantum_instance = QuantumInstance(backend=backend, shots=8192, seed_simulator=seed, seed_transpiler=seed)\n",
        "    vqe_mes = VQE(ry, optimizer=optimizer, quantum_instance=quantum_instance)\n",
        "    vqe = MinimumEigenOptimizer(vqe_mes)\n",
        "    # print(np.array(vqe))\n",
        "    # VQE.construct_circuit(ry, qp.qubit_op())\n",
        "    result = vqe.solve(qp)\n",
        "    store_results_vqe_cobyla(result, iter)"
      ]
    },
    {
      "cell_type": "code",
      "execution_count": 19,
      "id": "f4d7b634",
      "metadata": {},
      "outputs": [],
      "source": [
        "def index_to_selection(i, num_assets):\n",
        "    s = \"{0:b}\".format(i).rjust(num_assets)\n",
        "    x = np.array([1 if s[i] == \"1\" else 0 for i in reversed(range(num_assets))])\n",
        "    return x\n",
        "\n",
        "iterations = []\n",
        "bitstring = []\n",
        "values = []\n",
        "probabilityy = []\n",
        "\n",
        "def store_results_vqe_spsa(result, iter):\n",
        "# for j in range(maxiter):\n",
        "    selection = result.x\n",
        "    value = result.fval\n",
        "\n",
        "    #clear the df as its giving the values of previous run into the next run.. \n",
        "    ## i.e. previoous nes into vqe algo\n",
        "    # hence we need to copy this function seperatelly for every run\n",
        "\n",
        "    eigenstate = result.min_eigen_solver_result.eigenstate\n",
        "    eigenvector = eigenstate if isinstance(eigenstate, np.ndarray) else eigenstate.to_matrix()\n",
        "    \n",
        "    probabilities = np.abs(eigenvector) ** 2\n",
        "    i_sorted = list(reversed(np.argsort(eigenvector)))\n",
        "    for i in i_sorted:\n",
        "        x = index_to_selection(i, num_assets)\n",
        "        \n",
        "        value = QuadraticProgramToQubo().convert(qp).objective.evaluate(x)\n",
        "        value = portfolio.to_quadratic_program().objective.evaluate(x)\n",
        "        \n",
        "        iterations.append(iter)\n",
        "        bitstring.append(selection)\n",
        "        values.append(value)\n",
        "        # probability = probabilities[i]\n",
        "        probabilityy.append(probabilities[i])\n",
        "        \n",
        "        df_input={'iterations ':iterations}\n",
        "        df = pd.DataFrame(df_input)\n",
        "        df['optimal_bitstring']=pd.Series(list(bitstring))\n",
        "        df['values']=pd.Series(values)\n",
        "        df['probability'] = pd.Series(probabilityy)\n",
        "        \n",
        "        df.to_csv(\"portfolio_intermediate_results-Vqe_spsa.csv\", index=False)"
      ]
    },
    {
      "cell_type": "code",
      "execution_count": 20,
      "id": "fWFm8CEdTrVC",
      "metadata": {
        "colab": {
          "base_uri": "https://localhost:8080/"
        },
        "id": "fWFm8CEdTrVC",
        "outputId": "cfc5f722-0e61-407e-cfe5-0202b57602ee"
      },
      "outputs": [],
      "source": [
        "##  VQE+SPSA\n",
        "from qiskit.utils import algorithm_globals\n",
        "maxiter=10\n",
        "for iter in range(maxiter):\n",
        "    algorithm_globals.random_seed = 1234\n",
        "    backend = Aer.get_backend(\"statevector_simulator\")\n",
        "    optimizer = SPSA(maxiter=iter)\n",
        "    ry = TwoLocal(num_assets, \"ry\", \"cz\", reps=3, entanglement=\"full\")\n",
        "    quantum_instance = QuantumInstance(backend=backend, shots=8192, seed_simulator=seed, seed_transpiler=seed)\n",
        "    vqe_mes = VQE(ry, optimizer=optimizer, quantum_instance=quantum_instance)\n",
        "    vqe = MinimumEigenOptimizer(vqe_mes)\n",
        "    result = vqe.solve(qp)\n",
        "    # algo = \"vqe-spsa\"\n",
        "    store_results_vqe_spsa(result, iter)"
      ]
    },
    {
      "cell_type": "markdown",
      "id": "fa57c427",
      "metadata": {},
      "source": [
        "### QAOA"
      ]
    },
    {
      "cell_type": "code",
      "execution_count": 32,
      "id": "5X9in801WL8D",
      "metadata": {
        "id": "5X9in801WL8D"
      },
      "outputs": [],
      "source": [
        "def index_to_selection(i, num_assets):\n",
        "    s = \"{0:b}\".format(i).rjust(num_assets)\n",
        "    x = np.array([1 if s[i] == \"1\" else 0 for i in reversed(range(num_assets))])\n",
        "    return x\n",
        "\n",
        "iterations = []\n",
        "bitstring = []\n",
        "values = []\n",
        "probabilityy = []\n",
        "\n",
        "def store_results_qaoa_cobyla(result, iter):\n",
        "# for j in range(maxiter):\n",
        "    selection = result.x\n",
        "    value = result.fval\n",
        "\n",
        "    #clear the df as its giving the values of previous run into the next run.. \n",
        "    ## i.e. previoous nes into vqe algo\n",
        "    # hence we need to copy this function seperatelly for every run\n",
        "\n",
        "    eigenstate = result.min_eigen_solver_result.eigenstate\n",
        "    eigenvector = eigenstate if isinstance(eigenstate, np.ndarray) else eigenstate.to_matrix()\n",
        "    \n",
        "    probabilities = np.abs(eigenvector) ** 2\n",
        "    i_sorted = list(reversed(np.argsort(eigenvector)))\n",
        "    for i in i_sorted:\n",
        "        x = index_to_selection(i, num_assets)\n",
        "        \n",
        "        value = QuadraticProgramToQubo().convert(qp).objective.evaluate(x)\n",
        "        value = portfolio.to_quadratic_program().objective.evaluate(x)\n",
        "        \n",
        "        iterations.append(iter)\n",
        "        bitstring.append(selection)\n",
        "        values.append(value)\n",
        "        # probability = probabilities[i]\n",
        "        probabilityy.append(probabilities[i])\n",
        "        \n",
        "        df_input={'iterations ':iterations}\n",
        "        df = pd.DataFrame(df_input)\n",
        "        df['optimal_bitstring']=pd.Series(list(bitstring))\n",
        "        df['values']=pd.Series(values)\n",
        "        df['probability'] = pd.Series(probabilityy)\n",
        "        \n",
        "        df.to_csv(\"portfolio_intermediate_results-qaoa_cobyla.csv\", index=False)\n",
        "        # df_lst = [df]\n",
        "        # del df"
      ]
    },
    {
      "cell_type": "code",
      "execution_count": 33,
      "id": "e1e17bcb",
      "metadata": {
        "colab": {
          "base_uri": "https://localhost:8080/"
        },
        "id": "e1e17bcb",
        "outputId": "fe00c29f-9be5-41b0-89a7-58e79a8bcb99"
      },
      "outputs": [],
      "source": [
        "## QAOA + Cobyla\n",
        "from qiskit.utils import algorithm_globals\n",
        "maxiter=10\n",
        "algo = \"qaoa-cobyla\"\n",
        "for iter in range(maxiter):\n",
        "    algorithm_globals.random_seed = 1234\n",
        "    backend = Aer.get_backend(\"statevector_simulator\")\n",
        "    optimizer = COBYLA(maxiter=iter)\n",
        "    quantum_instance = QuantumInstance(backend=backend, shots=8192) \n",
        "    qaoa_mes = QAOA(optimizer=optimizer, reps=3, quantum_instance=quantum_instance)\n",
        "    qaoa = MinimumEigenOptimizer(qaoa_mes)\n",
        "    result = qaoa.solve(qp)\n",
        "    store_results_qaoa_cobyla(result, iter)"
      ]
    },
    {
      "cell_type": "code",
      "execution_count": 34,
      "id": "061aef65",
      "metadata": {},
      "outputs": [],
      "source": [
        "def index_to_selection(i, num_assets):\n",
        "    s = \"{0:b}\".format(i).rjust(num_assets)\n",
        "    x = np.array([1 if s[i] == \"1\" else 0 for i in reversed(range(num_assets))])\n",
        "    return x\n",
        "\n",
        "iterations = []\n",
        "bitstring = []\n",
        "values = []\n",
        "probabilityy = []\n",
        "\n",
        "def store_results_qaoa_spsa(result, iter):\n",
        "# for j in range(maxiter):\n",
        "    selection = result.x\n",
        "    value = result.fval\n",
        "\n",
        "    #clear the df as its giving the values of previous run into the next run.. \n",
        "    ## i.e. previoous nes into vqe algo\n",
        "    # hence we need to copy this function seperatelly for every run\n",
        "\n",
        "    eigenstate = result.min_eigen_solver_result.eigenstate\n",
        "    eigenvector = eigenstate if isinstance(eigenstate, np.ndarray) else eigenstate.to_matrix()\n",
        "    \n",
        "    probabilities = np.abs(eigenvector) ** 2\n",
        "    i_sorted = list(reversed(np.argsort(eigenvector)))\n",
        "    for i in i_sorted:\n",
        "        x = index_to_selection(i, num_assets)\n",
        "        \n",
        "        value = QuadraticProgramToQubo().convert(qp).objective.evaluate(x)\n",
        "        value = portfolio.to_quadratic_program().objective.evaluate(x)\n",
        "        \n",
        "        iterations.append(iter)\n",
        "        bitstring.append(selection)\n",
        "        values.append(value)\n",
        "        # probability = probabilities[i]\n",
        "        probabilityy.append(probabilities[i])\n",
        "        \n",
        "        df_input={'iterations ':iterations}\n",
        "        df = pd.DataFrame(df_input)\n",
        "        df['optimal_bitstring']=pd.Series(list(bitstring))\n",
        "        df['values']=pd.Series(values)\n",
        "        df['probability'] = pd.Series(probabilityy)\n",
        "        \n",
        "        df.to_csv(\"portfolio_intermediate_results-qaoa_spsa.csv\", index=False)"
      ]
    },
    {
      "cell_type": "code",
      "execution_count": 35,
      "id": "NOAb2-n4WPjl",
      "metadata": {
        "colab": {
          "base_uri": "https://localhost:8080/"
        },
        "id": "NOAb2-n4WPjl",
        "outputId": "06f0b51d-d3f2-44f3-edf0-db0b19444710"
      },
      "outputs": [],
      "source": [
        "## QAOA + SPSA\n",
        "from qiskit.utils import algorithm_globals\n",
        "maxiter=10\n",
        "for j in range(maxiter):\n",
        "    algorithm_globals.random_seed = 1234\n",
        "    backend = Aer.get_backend(\"statevector_simulator\")\n",
        "    optimizer = SPSA(maxiter=j)\n",
        "    quantum_instance = QuantumInstance(backend=backend, shots=8192) \n",
        "    qaoa_mes = QAOA(optimizer=optimizer, reps=3, quantum_instance=quantum_instance)\n",
        "    qaoa = MinimumEigenOptimizer(qaoa_mes)\n",
        "    result = qaoa.solve(qp)\n",
        "    # algo = \"qaoa-spsa\"\n",
        "    store_results_qaoa_spsa(result, maxiter)"
      ]
    },
    {
      "cell_type": "code",
      "execution_count": 39,
      "id": "3f593566",
      "metadata": {},
      "outputs": [
        {
          "data": {
            "text/html": [
              "<div>\n",
              "<style scoped>\n",
              "    .dataframe tbody tr th:only-of-type {\n",
              "        vertical-align: middle;\n",
              "    }\n",
              "\n",
              "    .dataframe tbody tr th {\n",
              "        vertical-align: top;\n",
              "    }\n",
              "\n",
              "    .dataframe thead th {\n",
              "        text-align: right;\n",
              "    }\n",
              "</style>\n",
              "<table border=\"1\" class=\"dataframe\">\n",
              "  <thead>\n",
              "    <tr style=\"text-align: right;\">\n",
              "      <th></th>\n",
              "      <th>iterations</th>\n",
              "      <th>optimal_bitstring</th>\n",
              "      <th>values</th>\n",
              "      <th>probability</th>\n",
              "    </tr>\n",
              "  </thead>\n",
              "  <tbody>\n",
              "    <tr>\n",
              "      <th>0</th>\n",
              "      <td>0</td>\n",
              "      <td>[1. 0. 1. 0.]</td>\n",
              "      <td>-2.643301</td>\n",
              "      <td>0.423773</td>\n",
              "    </tr>\n",
              "    <tr>\n",
              "      <th>1</th>\n",
              "      <td>0</td>\n",
              "      <td>[1. 0. 1. 0.]</td>\n",
              "      <td>-0.773496</td>\n",
              "      <td>0.183462</td>\n",
              "    </tr>\n",
              "    <tr>\n",
              "      <th>2</th>\n",
              "      <td>0</td>\n",
              "      <td>[1. 0. 1. 0.]</td>\n",
              "      <td>0.000000</td>\n",
              "      <td>0.135737</td>\n",
              "    </tr>\n",
              "    <tr>\n",
              "      <th>3</th>\n",
              "      <td>0</td>\n",
              "      <td>[1. 0. 1. 0.]</td>\n",
              "      <td>-5.168635</td>\n",
              "      <td>0.055928</td>\n",
              "    </tr>\n",
              "    <tr>\n",
              "      <th>4</th>\n",
              "      <td>0</td>\n",
              "      <td>[1. 0. 1. 0.]</td>\n",
              "      <td>-3.884513</td>\n",
              "      <td>0.029931</td>\n",
              "    </tr>\n",
              "    <tr>\n",
              "      <th>...</th>\n",
              "      <td>...</td>\n",
              "      <td>...</td>\n",
              "      <td>...</td>\n",
              "      <td>...</td>\n",
              "    </tr>\n",
              "    <tr>\n",
              "      <th>155</th>\n",
              "      <td>9</td>\n",
              "      <td>[1. 0. 1. 0.]</td>\n",
              "      <td>-4.509002</td>\n",
              "      <td>0.000012</td>\n",
              "    </tr>\n",
              "    <tr>\n",
              "      <th>156</th>\n",
              "      <td>9</td>\n",
              "      <td>[1. 0. 1. 0.]</td>\n",
              "      <td>-5.168635</td>\n",
              "      <td>0.000018</td>\n",
              "    </tr>\n",
              "    <tr>\n",
              "      <th>157</th>\n",
              "      <td>9</td>\n",
              "      <td>[1. 0. 1. 0.]</td>\n",
              "      <td>-4.055699</td>\n",
              "      <td>0.000046</td>\n",
              "    </tr>\n",
              "    <tr>\n",
              "      <th>158</th>\n",
              "      <td>9</td>\n",
              "      <td>[1. 0. 1. 0.]</td>\n",
              "      <td>-3.884513</td>\n",
              "      <td>0.000838</td>\n",
              "    </tr>\n",
              "    <tr>\n",
              "      <th>159</th>\n",
              "      <td>9</td>\n",
              "      <td>[1. 0. 1. 0.]</td>\n",
              "      <td>-3.519450</td>\n",
              "      <td>0.005768</td>\n",
              "    </tr>\n",
              "  </tbody>\n",
              "</table>\n",
              "<p>160 rows × 4 columns</p>\n",
              "</div>"
            ],
            "text/plain": [
              "     iterations  optimal_bitstring    values  probability\n",
              "0              0     [1. 0. 1. 0.] -2.643301     0.423773\n",
              "1              0     [1. 0. 1. 0.] -0.773496     0.183462\n",
              "2              0     [1. 0. 1. 0.]  0.000000     0.135737\n",
              "3              0     [1. 0. 1. 0.] -5.168635     0.055928\n",
              "4              0     [1. 0. 1. 0.] -3.884513     0.029931\n",
              "..           ...               ...       ...          ...\n",
              "155            9     [1. 0. 1. 0.] -4.509002     0.000012\n",
              "156            9     [1. 0. 1. 0.] -5.168635     0.000018\n",
              "157            9     [1. 0. 1. 0.] -4.055699     0.000046\n",
              "158            9     [1. 0. 1. 0.] -3.884513     0.000838\n",
              "159            9     [1. 0. 1. 0.] -3.519450     0.005768\n",
              "\n",
              "[160 rows x 4 columns]"
            ]
          },
          "execution_count": 39,
          "metadata": {},
          "output_type": "execute_result"
        }
      ],
      "source": [
        "vqe_cobyla_file = pd.read_csv(\"portfolio_intermediate_results-Vqe_spsa.csv\")\n",
        "vqe_cobyla_file"
      ]
    },
    {
      "cell_type": "markdown",
      "id": "WalJkbNDosqI",
      "metadata": {
        "id": "WalJkbNDosqI"
      },
      "source": []
    },
    {
      "cell_type": "markdown",
      "id": "4-NjMNcEnsTz",
      "metadata": {
        "id": "4-NjMNcEnsTz"
      },
      "source": [
        "#### weight allocation part after asset selection using quantum"
      ]
    },
    {
      "cell_type": "code",
      "execution_count": 40,
      "id": "9c0de3f5",
      "metadata": {
        "colab": {
          "base_uri": "https://localhost:8080/"
        },
        "id": "9c0de3f5",
        "outputId": "26ff6601-60d6-4cab-8da3-39922437193d"
      },
      "outputs": [
        {
          "name": "stdout",
          "output_type": "stream",
          "text": [
            "your lucky assets are  ['AAPL', 'MCD']\n"
          ]
        }
      ],
      "source": [
        "# selected_assets = [1, 0, 0, 1, 1, 0] #, 0, 0, 1, 1, 1, 1]\n",
        "selected_assets = best_sample\n",
        "\n",
        "selected_bitstring = [i for i, e in enumerate(selected_assets) if e == 1]\n",
        "my_assets = [assets[i] for i in selected_bitstring]\n",
        "print(\"your lucky assets are \",my_assets)"
      ]
    },
    {
      "cell_type": "code",
      "execution_count": 41,
      "id": "99ab4251",
      "metadata": {},
      "outputs": [
        {
          "data": {
            "text/html": [
              "<div>\n",
              "<style scoped>\n",
              "    .dataframe tbody tr th:only-of-type {\n",
              "        vertical-align: middle;\n",
              "    }\n",
              "\n",
              "    .dataframe tbody tr th {\n",
              "        vertical-align: top;\n",
              "    }\n",
              "\n",
              "    .dataframe thead th {\n",
              "        text-align: right;\n",
              "    }\n",
              "</style>\n",
              "<table border=\"1\" class=\"dataframe\">\n",
              "  <thead>\n",
              "    <tr style=\"text-align: right;\">\n",
              "      <th></th>\n",
              "      <th>AAPL</th>\n",
              "      <th>MCD</th>\n",
              "    </tr>\n",
              "  </thead>\n",
              "  <tbody>\n",
              "    <tr>\n",
              "      <th>0</th>\n",
              "      <td>NaN</td>\n",
              "      <td>NaN</td>\n",
              "    </tr>\n",
              "    <tr>\n",
              "      <th>1</th>\n",
              "      <td>0.031190</td>\n",
              "      <td>0.021422</td>\n",
              "    </tr>\n",
              "    <tr>\n",
              "      <th>2</th>\n",
              "      <td>-0.012702</td>\n",
              "      <td>0.005643</td>\n",
              "    </tr>\n",
              "    <tr>\n",
              "      <th>3</th>\n",
              "      <td>-0.028251</td>\n",
              "      <td>-0.008644</td>\n",
              "    </tr>\n",
              "    <tr>\n",
              "      <th>4</th>\n",
              "      <td>-0.005899</td>\n",
              "      <td>0.011728</td>\n",
              "    </tr>\n",
              "  </tbody>\n",
              "</table>\n",
              "</div>"
            ],
            "text/plain": [
              "       AAPL       MCD\n",
              "0       NaN       NaN\n",
              "1  0.031190  0.021422\n",
              "2 -0.012702  0.005643\n",
              "3 -0.028251 -0.008644\n",
              "4 -0.005899  0.011728"
            ]
          },
          "execution_count": 41,
          "metadata": {},
          "output_type": "execute_result"
        }
      ],
      "source": [
        "log_return = log_return[my_assets]\n",
        "log_return.head()"
      ]
    },
    {
      "cell_type": "code",
      "execution_count": 42,
      "id": "73zSFkttOq9_",
      "metadata": {
        "id": "73zSFkttOq9_"
      },
      "outputs": [],
      "source": [
        "from scipy.optimize import minimize\n",
        "\n",
        "def get_ret_vol_sr(weights): \n",
        "    weights = np.array(weights)\n",
        "    ret = np.sum(log_return.mean() * weights) * trading_days\n",
        "    vol = np.sqrt(np.dot(weights.T,np.dot(log_return.cov()*trading_days,weights)))\n",
        "    sr = ret/vol \n",
        "    return np.array(sr)\n",
        "    \n",
        "\n",
        "# minimize negative Sharpe Ratio\n",
        "def neg_sharpe(weights): \n",
        "    return get_ret_vol_sr(weights)*-1\n",
        "\n",
        "# check allocation sums to 1\n",
        "def check_sum(weights): \n",
        "    return np.sum(weights) - 1"
      ]
    },
    {
      "cell_type": "code",
      "execution_count": 43,
      "id": "VxR0DeiePMwW",
      "metadata": {
        "id": "VxR0DeiePMwW"
      },
      "outputs": [],
      "source": [
        "# create constraint variable\n",
        "cons = ({'type':'eq','fun':check_sum})"
      ]
    },
    {
      "cell_type": "code",
      "execution_count": 44,
      "id": "N7fr03-cPcSt",
      "metadata": {
        "id": "N7fr03-cPcSt"
      },
      "outputs": [],
      "source": [
        "# create weight boundaries\n",
        "bounds = tuple((0, 1) for stocks in range(len(my_assets))) \n",
        "init_guess = np.random.dirichlet(np.ones(len(my_assets)),size=1)"
      ]
    },
    {
      "cell_type": "code",
      "execution_count": 45,
      "id": "0aae3bb9",
      "metadata": {},
      "outputs": [],
      "source": [
        "# # weights_array = dict(('w'+str(i), []) for i in range(len(my_assets)) )#['A','B','C','D'])\n",
        "# # weights_list = list(weights_array.keys())\n",
        "# # weights_list[0]\n",
        "\n",
        "\n",
        "# import numpy as np\n",
        "# # from scipy.optimize import fmin_bfgs;\n",
        "\n",
        "# iterations = []\n",
        "# weights_listt = []\n",
        "# function_list = []\n",
        "# Nfeval = 1\n",
        "\n",
        "# def callbackF(weights):\n",
        "#     global Nfeval\n",
        "#     iterations.append(Nfeval)\n",
        "#     print(iterations)\n",
        "#     weights_listt.append([weights[j] for j in range(len(my_assets))])\n",
        "    \n",
        "#     print(weights_listt)\n",
        "#     function_list.append(neg_sharpe(weights_listt[-1]))\n",
        "#     print(function_list[-1])\n",
        "#     data={'Iterations ':iterations}\n",
        "#     df1 = pd.DataFrame(data)\n",
        "#     df1['weights array']=pd.Series(weights_listt) #newly added\n",
        "#     df1['shape ratio']=pd.Series(function_list)\n",
        "#     df1.to_csv('portfolio_weights_iteration.csv', index=False)\n",
        "#     Nfeval += 1\n",
        "\n",
        "\n",
        "# opt_results = minimize(neg_sharpe, init_guess, callback=callbackF, method='SLSQP', bounds=bounds, constraints=cons, options= {'maxiter' : 2000, 'disp':True})"
      ]
    },
    {
      "cell_type": "code",
      "execution_count": 46,
      "id": "722bf87d",
      "metadata": {},
      "outputs": [
        {
          "name": "stdout",
          "output_type": "stream",
          "text": [
            "Optimization terminated successfully    (Exit mode 0)\n",
            "            Current function value: -3.0974090557404423\n",
            "            Iterations: 5\n",
            "            Function evaluations: 16\n",
            "            Gradient evaluations: 5\n"
          ]
        },
        {
          "name": "stderr",
          "output_type": "stream",
          "text": [
            "/tmp/ipykernel_19752/3622933343.py:38: DeprecationWarning: Use of `minimize` with `x0.ndim != 1` is deprecated. Currently, singleton dimensions will be removed from `x0`, but an error will be raised in SciPy 1.11.0.\n",
            "  opt_results = minimize(neg_sharpe, init_guess, callback=callbackF, method='SLSQP', bounds=bounds, constraints=cons, options= {'maxiter' : 2000, 'disp':True})\n"
          ]
        }
      ],
      "source": [
        "import numpy as np\n",
        "\n",
        "iterations = []\n",
        "weights_listt = []\n",
        "function = []\n",
        "returns = []\n",
        "risk = []\n",
        "sharpe_ratio = []\n",
        "\n",
        "Nfeval = 1\n",
        "\n",
        "def callbackF(weights):\n",
        "    global Nfeval\n",
        "    iterations.append(Nfeval)\n",
        "    # print(iterations)\n",
        "    weights_listt.append([weights[j] for j in range(len(my_assets))])\n",
        "    \n",
        "    my_weights = np.array(weights_listt[-1])\n",
        "    \n",
        "    ret = np.sum(log_return.mean() * my_weights) * trading_days # returns of a portfolio after optimum weight allocation\n",
        "    returns.append(ret)\n",
        "    vol = np.sqrt(np.dot(my_weights.T,np.dot(log_return.cov()*trading_days,my_weights))) # risk of a portfolio after optimum weight allocation\n",
        "    risk.append(vol)\n",
        "    sharpe_ratio.append(ret/vol)    # print(weights_listt[-1])\n",
        "    function.append(neg_sharpe(weights_listt[-1]))\n",
        "    # print(function_list[-1])\n",
        "    data={'Iterations ':iterations}\n",
        "    df1 = pd.DataFrame(data)\n",
        "    df1['weights array']=pd.Series(weights_listt) \n",
        "    df1['function']=pd.Series(function)#newly added\n",
        "    df1['returns']=pd.Series(returns)\n",
        "    df1['risk']=pd.Series(risk)\n",
        "    df1['shape ratio']=pd.Series(sharpe_ratio)\n",
        "    df1.to_csv('portfolio_weights_iter.csv', index=False)\n",
        "    Nfeval += 1\n",
        "\n",
        "\n",
        "opt_results = minimize(neg_sharpe, init_guess, callback=callbackF, method='SLSQP', bounds=bounds, constraints=cons, options= {'maxiter' : 2000, 'disp':True})"
      ]
    },
    {
      "cell_type": "code",
      "execution_count": 47,
      "id": "42dc2824",
      "metadata": {},
      "outputs": [
        {
          "data": {
            "text/plain": [
              "array([0.53009938, 0.46990062])"
            ]
          },
          "execution_count": 47,
          "metadata": {},
          "output_type": "execute_result"
        }
      ],
      "source": [
        "opt_results.x"
      ]
    },
    {
      "cell_type": "code",
      "execution_count": 48,
      "id": "23e2724d",
      "metadata": {},
      "outputs": [
        {
          "data": {
            "text/html": [
              "<div>\n",
              "<style scoped>\n",
              "    .dataframe tbody tr th:only-of-type {\n",
              "        vertical-align: middle;\n",
              "    }\n",
              "\n",
              "    .dataframe tbody tr th {\n",
              "        vertical-align: top;\n",
              "    }\n",
              "\n",
              "    .dataframe thead th {\n",
              "        text-align: right;\n",
              "    }\n",
              "</style>\n",
              "<table border=\"1\" class=\"dataframe\">\n",
              "  <thead>\n",
              "    <tr style=\"text-align: right;\">\n",
              "      <th></th>\n",
              "      <th>Iterations</th>\n",
              "      <th>weights array</th>\n",
              "      <th>function</th>\n",
              "      <th>returns</th>\n",
              "      <th>risk</th>\n",
              "      <th>shape ratio</th>\n",
              "    </tr>\n",
              "  </thead>\n",
              "  <tbody>\n",
              "    <tr>\n",
              "      <th>0</th>\n",
              "      <td>1</td>\n",
              "      <td>[1.0, 0.0]</td>\n",
              "      <td>-2.809049</td>\n",
              "      <td>2.384250</td>\n",
              "      <td>0.848775</td>\n",
              "      <td>2.809049</td>\n",
              "    </tr>\n",
              "    <tr>\n",
              "      <th>1</th>\n",
              "      <td>2</td>\n",
              "      <td>[0.5519864313249373, 0.4480135686750627]</td>\n",
              "      <td>-3.096286</td>\n",
              "      <td>1.925737</td>\n",
              "      <td>0.621951</td>\n",
              "      <td>3.096286</td>\n",
              "    </tr>\n",
              "    <tr>\n",
              "      <th>2</th>\n",
              "      <td>3</td>\n",
              "      <td>[0.5265761720239132, 0.4734238279760869]</td>\n",
              "      <td>-3.097382</td>\n",
              "      <td>1.899732</td>\n",
              "      <td>0.613335</td>\n",
              "      <td>3.097382</td>\n",
              "    </tr>\n",
              "    <tr>\n",
              "      <th>3</th>\n",
              "      <td>4</td>\n",
              "      <td>[0.5300993797880628, 0.46990062021193735]</td>\n",
              "      <td>-3.097409</td>\n",
              "      <td>1.903337</td>\n",
              "      <td>0.614493</td>\n",
              "      <td>3.097409</td>\n",
              "    </tr>\n",
              "    <tr>\n",
              "      <th>4</th>\n",
              "      <td>5</td>\n",
              "      <td>[0.5300993797880628, 0.46990062021193735]</td>\n",
              "      <td>-3.097409</td>\n",
              "      <td>1.903337</td>\n",
              "      <td>0.614493</td>\n",
              "      <td>3.097409</td>\n",
              "    </tr>\n",
              "  </tbody>\n",
              "</table>\n",
              "</div>"
            ],
            "text/plain": [
              "   Iterations                               weights array  function   returns  \\\n",
              "0            1                                 [1.0, 0.0] -2.809049  2.384250   \n",
              "1            2   [0.5519864313249373, 0.4480135686750627] -3.096286  1.925737   \n",
              "2            3   [0.5265761720239132, 0.4734238279760869] -3.097382  1.899732   \n",
              "3            4  [0.5300993797880628, 0.46990062021193735] -3.097409  1.903337   \n",
              "4            5  [0.5300993797880628, 0.46990062021193735] -3.097409  1.903337   \n",
              "\n",
              "       risk  shape ratio  \n",
              "0  0.848775     2.809049  \n",
              "1  0.621951     3.096286  \n",
              "2  0.613335     3.097382  \n",
              "3  0.614493     3.097409  \n",
              "4  0.614493     3.097409  "
            ]
          },
          "execution_count": 48,
          "metadata": {},
          "output_type": "execute_result"
        }
      ],
      "source": [
        "df =pd.read_csv(\"portfolio_weights_iter.csv\")\n",
        "# df = df[\"weights array\"]\n",
        "df "
      ]
    },
    {
      "cell_type": "code",
      "execution_count": 49,
      "id": "KXW0qoxzbdin",
      "metadata": {
        "id": "KXW0qoxzbdin"
      },
      "outputs": [],
      "source": [
        "my_weights = np.array(opt_results.x)\n",
        "my_weights = my_weights.tolist()"
      ]
    },
    {
      "cell_type": "code",
      "execution_count": 50,
      "id": "LzzQFJCpRBLh",
      "metadata": {
        "colab": {
          "base_uri": "https://localhost:8080/"
        },
        "id": "LzzQFJCpRBLh",
        "outputId": "bc2a5965-98de-4625-b759-0c1430dc5d4d"
      },
      "outputs": [
        {
          "data": {
            "text/plain": [
              "1.0"
            ]
          },
          "execution_count": 50,
          "metadata": {},
          "output_type": "execute_result"
        }
      ],
      "source": [
        "tot_weights = np.sum(my_weights)\n",
        "tot_weights"
      ]
    },
    {
      "cell_type": "code",
      "execution_count": 51,
      "id": "8rIfmjrMbZJJ",
      "metadata": {
        "colab": {
          "base_uri": "https://localhost:8080/"
        },
        "id": "8rIfmjrMbZJJ",
        "outputId": "feabebf1-094a-42ba-d5b6-62dafcfed21b"
      },
      "outputs": [
        {
          "data": {
            "text/plain": [
              "{'AAPL': 0.5300993797880628, 'MCD': 0.46990062021193735}"
            ]
          },
          "execution_count": 51,
          "metadata": {},
          "output_type": "execute_result"
        }
      ],
      "source": [
        "weights_alloc = dict(zip(my_assets, my_weights))\n",
        "weights_alloc"
      ]
    },
    {
      "cell_type": "code",
      "execution_count": 52,
      "id": "6a9bb981",
      "metadata": {},
      "outputs": [],
      "source": [
        "# weights_alloc.values()"
      ]
    },
    {
      "cell_type": "code",
      "execution_count": 53,
      "id": "13d31fef",
      "metadata": {},
      "outputs": [
        {
          "data": {
            "text/plain": [
              "[0.5300993797880628, 0.46990062021193735]"
            ]
          },
          "execution_count": 53,
          "metadata": {},
          "output_type": "execute_result"
        }
      ],
      "source": [
        "my_weights"
      ]
    },
    {
      "cell_type": "code",
      "execution_count": 54,
      "id": "7297f8a2",
      "metadata": {},
      "outputs": [
        {
          "data": {
            "image/png": "[encoded data removed]",
            "text/plain": [
              "<Figure size 640x480 with 1 Axes>"
            ]
          },
          "metadata": {},
          "output_type": "display_data"
        }
      ],
      "source": [
        "import matplotlib.pyplot as plt\n",
        "import numpy as np\n",
        "\n",
        "y = np.array(my_weights)\n",
        "mylabels = my_assets\n",
        "\n",
        "plt.pie(y, labels = mylabels)\n",
        "plt.show()"
      ]
    },
    {
      "cell_type": "markdown",
      "id": "1175c4d3",
      "metadata": {},
      "source": [
        "## return risk n sharpe ratio \n",
        "#### annual_returns vs daily_returns"
      ]
    },
    {
      "cell_type": "code",
      "execution_count": 55,
      "id": "5b74cf0b",
      "metadata": {},
      "outputs": [
        {
          "data": {
            "text/plain": [
              "{'returns': 21.157520934681123,\n",
              " 'risk': 20.487629192614392,\n",
              " 'sharpe_ratio': 1.032697377318222}"
            ]
          },
          "execution_count": 55,
          "metadata": {},
          "output_type": "execute_result"
        }
      ],
      "source": [
        "# annual returns\n",
        "ret = np.sum(log_return.mean() * my_weights) * 252\n",
        "vol = np.sqrt(np.dot(np.array(my_weights).T,np.dot(log_return.cov()*252,my_weights)))\n",
        "sr = ret/vol \n",
        "\n",
        "risk_ret_dict = {\n",
        "    'returns' : ret*100,\n",
        "    'risk' : vol*100, \n",
        "    'sharpe_ratio' : sr \n",
        "}\n",
        "\n",
        "risk_ret_dict"
      ]
    },
    {
      "cell_type": "code",
      "execution_count": 56,
      "id": "3cce53e6",
      "metadata": {},
      "outputs": [
        {
          "data": {
            "text/plain": [
              "{'returns': 190.33372999572265,\n",
              " 'risk': 61.449336064597695,\n",
              " 'sharpe_ratio': 3.0974090557404423}"
            ]
          },
          "execution_count": 56,
          "metadata": {},
          "output_type": "execute_result"
        }
      ],
      "source": [
        "# daily_returns*number of days in dataframe\n",
        "ret = np.sum(log_return.mean() * my_weights) * trading_days\n",
        "vol = np.sqrt(np.dot(np.array(my_weights).T,np.dot(log_return.cov()*trading_days,my_weights)))\n",
        "sr = ret/vol \n",
        "\n",
        "risk_ret_dict = {\n",
        "    'returns' : ret*100,\n",
        "    'risk' : vol*100, \n",
        "    'sharpe_ratio' : sr \n",
        "}\n",
        "\n",
        "risk_ret_dict"
      ]
    },
    {
      "cell_type": "markdown",
      "id": "3f0759ee",
      "metadata": {},
      "source": []
    },
    {
      "cell_type": "markdown",
      "id": "cd62be52",
      "metadata": {},
      "source": [
        "## How our portfolio beats index.."
      ]
    },
    {
      "cell_type": "code",
      "execution_count": 59,
      "id": "cd975f86",
      "metadata": {},
      "outputs": [
        {
          "name": "stdout",
          "output_type": "stream",
          "text": [
            "[*********************100%***********************]  1 of 1 completed\n"
          ]
        }
      ],
      "source": [
        "index_data = yf.download(\"^DJI\", start = '2013-01-01', end = '2021-12-31')[\"Adj Close\"]\n",
        "index_data  = pd.Series(index_data, name = \"index_vals\")"
      ]
    },
    {
      "cell_type": "code",
      "execution_count": 60,
      "id": "d83ca321",
      "metadata": {},
      "outputs": [
        {
          "name": "stderr",
          "output_type": "stream",
          "text": [
            "/tmp/ipykernel_19752/3694130034.py:3: SettingWithCopyWarning: \n",
            "A value is trying to be set on a copy of a slice from a DataFrame.\n",
            "Try using .loc[row_indexer,col_indexer] = value instead\n",
            "\n",
            "See the caveats in the documentation: https://pandas.pydata.org/pandas-docs/stable/user_guide/indexing.html#returning-a-view-versus-a-copy\n",
            "  portfolio_data[\"portfolio_vals\"] = portfolio_data.mean(axis =1)\n"
          ]
        },
        {
          "data": {
            "text/html": [
              "<div>\n",
              "<style scoped>\n",
              "    .dataframe tbody tr th:only-of-type {\n",
              "        vertical-align: middle;\n",
              "    }\n",
              "\n",
              "    .dataframe tbody tr th {\n",
              "        vertical-align: top;\n",
              "    }\n",
              "\n",
              "    .dataframe thead th {\n",
              "        text-align: right;\n",
              "    }\n",
              "</style>\n",
              "<table border=\"1\" class=\"dataframe\">\n",
              "  <thead>\n",
              "    <tr style=\"text-align: right;\">\n",
              "      <th>Dates</th>\n",
              "      <th>portfolio_vals</th>\n",
              "    </tr>\n",
              "    <tr>\n",
              "      <th>Date</th>\n",
              "      <th></th>\n",
              "    </tr>\n",
              "  </thead>\n",
              "  <tbody>\n",
              "    <tr>\n",
              "      <th>2012-12-31</th>\n",
              "      <td>41.894115</td>\n",
              "    </tr>\n",
              "    <tr>\n",
              "      <th>2013-01-02</th>\n",
              "      <td>42.883198</td>\n",
              "    </tr>\n",
              "    <tr>\n",
              "      <th>2013-01-03</th>\n",
              "      <td>42.971755</td>\n",
              "    </tr>\n",
              "    <tr>\n",
              "      <th>2013-01-04</th>\n",
              "      <td>42.441669</td>\n",
              "    </tr>\n",
              "    <tr>\n",
              "      <th>2013-01-07</th>\n",
              "      <td>42.799282</td>\n",
              "    </tr>\n",
              "    <tr>\n",
              "      <th>...</th>\n",
              "      <td>...</td>\n",
              "    </tr>\n",
              "    <tr>\n",
              "      <th>2021-12-23</th>\n",
              "      <td>218.425972</td>\n",
              "    </tr>\n",
              "    <tr>\n",
              "      <th>2021-12-27</th>\n",
              "      <td>221.565498</td>\n",
              "    </tr>\n",
              "    <tr>\n",
              "      <th>2021-12-28</th>\n",
              "      <td>220.871468</td>\n",
              "    </tr>\n",
              "    <tr>\n",
              "      <th>2021-12-29</th>\n",
              "      <td>221.216194</td>\n",
              "    </tr>\n",
              "    <tr>\n",
              "      <th>2021-12-30</th>\n",
              "      <td>220.000099</td>\n",
              "    </tr>\n",
              "  </tbody>\n",
              "</table>\n",
              "<p>2267 rows × 1 columns</p>\n",
              "</div>"
            ],
            "text/plain": [
              "Dates       portfolio_vals\n",
              "Date                      \n",
              "2012-12-31       41.894115\n",
              "2013-01-02       42.883198\n",
              "2013-01-03       42.971755\n",
              "2013-01-04       42.441669\n",
              "2013-01-07       42.799282\n",
              "...                    ...\n",
              "2021-12-23      218.425972\n",
              "2021-12-27      221.565498\n",
              "2021-12-28      220.871468\n",
              "2021-12-29      221.216194\n",
              "2021-12-30      220.000099\n",
              "\n",
              "[2267 rows x 1 columns]"
            ]
          },
          "execution_count": 60,
          "metadata": {},
          "output_type": "execute_result"
        }
      ],
      "source": [
        "# portfolio_data = yf.download(my_assets, start = '2013-01-01', end = '2021-12-31')[\"Adj Close\"]\n",
        "portfolio_data = stocks_data_csv[my_assets]\n",
        "portfolio_data[\"portfolio_vals\"] = portfolio_data.mean(axis =1)\n",
        "portfolio_data = portfolio_data[\"portfolio_vals\"]\n",
        "portfolio_df = portfolio_data.to_frame(name = \"portfolio_vals\")\n",
        "portfolio_df = portfolio_df.rename_axis('Dates', axis=1)\n",
        "portfolio_df"
      ]
    },
    {
      "cell_type": "code",
      "execution_count": null,
      "id": "0c6a3da4",
      "metadata": {},
      "outputs": [],
      "source": []
    },
    {
      "cell_type": "code",
      "execution_count": 61,
      "id": "91f1c2cd",
      "metadata": {},
      "outputs": [
        {
          "data": {
            "text/html": [
              "<div>\n",
              "<style scoped>\n",
              "    .dataframe tbody tr th:only-of-type {\n",
              "        vertical-align: middle;\n",
              "    }\n",
              "\n",
              "    .dataframe tbody tr th {\n",
              "        vertical-align: top;\n",
              "    }\n",
              "\n",
              "    .dataframe thead th {\n",
              "        text-align: right;\n",
              "    }\n",
              "</style>\n",
              "<table border=\"1\" class=\"dataframe\">\n",
              "  <thead>\n",
              "    <tr style=\"text-align: right;\">\n",
              "      <th>Dates</th>\n",
              "      <th>index_vals</th>\n",
              "    </tr>\n",
              "    <tr>\n",
              "      <th>Date</th>\n",
              "      <th></th>\n",
              "    </tr>\n",
              "  </thead>\n",
              "  <tbody>\n",
              "    <tr>\n",
              "      <th>2021-12-23</th>\n",
              "      <td>114.934432</td>\n",
              "    </tr>\n",
              "    <tr>\n",
              "      <th>2021-12-27</th>\n",
              "      <td>116.059207</td>\n",
              "    </tr>\n",
              "    <tr>\n",
              "      <th>2021-12-28</th>\n",
              "      <td>116.365583</td>\n",
              "    </tr>\n",
              "    <tr>\n",
              "      <th>2021-12-29</th>\n",
              "      <td>116.654651</td>\n",
              "    </tr>\n",
              "    <tr>\n",
              "      <th>2021-12-30</th>\n",
              "      <td>116.365158</td>\n",
              "    </tr>\n",
              "  </tbody>\n",
              "</table>\n",
              "</div>"
            ],
            "text/plain": [
              "Dates       index_vals\n",
              "Date                  \n",
              "2021-12-23  114.934432\n",
              "2021-12-27  116.059207\n",
              "2021-12-28  116.365583\n",
              "2021-12-29  116.654651\n",
              "2021-12-30  116.365158"
            ]
          },
          "execution_count": 61,
          "metadata": {},
          "output_type": "execute_result"
        }
      ],
      "source": [
        "index_first = index_data.iloc[0]\n",
        "portfolio_first = portfolio_data.iloc[0]\n",
        "\n",
        "index_data  = index_data.multiply(portfolio_first/index_first)\n",
        "\n",
        "index_df = index_data.to_frame(name = \"index_vals\")\n",
        "index_df = index_df.rename_axis('Dates', axis=1)\n",
        "# print(type(index_df)\n",
        "index_df.tail()"
      ]
    },
    {
      "cell_type": "code",
      "execution_count": 62,
      "id": "e41c0afe",
      "metadata": {},
      "outputs": [
        {
          "data": {
            "text/plain": [
              "Index(['portfolio_vals'], dtype='object', name='Dates')"
            ]
          },
          "execution_count": 62,
          "metadata": {},
          "output_type": "execute_result"
        }
      ],
      "source": [
        "portfolio_df.columns"
      ]
    },
    {
      "cell_type": "code",
      "execution_count": 65,
      "id": "4c3a2a52",
      "metadata": {},
      "outputs": [
        {
          "name": "stdout",
          "output_type": "stream",
          "text": [
            " effective ratio  1.8906011218357686\n"
          ]
        }
      ],
      "source": [
        "#portfolio to index effecive ratio \n",
        "\n",
        "portfolio_index_effective_ratio = float(portfolio_df.values[-1] / index_df.values[-1])\n",
        "print(\" effective ratio \", portfolio_index_effective_ratio)"
      ]
    },
    {
      "cell_type": "code",
      "execution_count": 66,
      "id": "9af64c56",
      "metadata": {},
      "outputs": [
        {
          "name": "stdout",
          "output_type": "stream",
          "text": [
            " avearge ratio  1.3004912592989912\n"
          ]
        }
      ],
      "source": [
        "#portfolio to index average ratio \n",
        "\n",
        "portfolio_val = portfolio_data.mean()\n",
        "index_val = index_data.mean()\n",
        "\n",
        "portfolio_index_avg_ratio = portfolio_val / index_val\n",
        "print(\" avearge ratio \", portfolio_index_avg_ratio)"
      ]
    },
    {
      "cell_type": "code",
      "execution_count": 67,
      "id": "4eff7b3f",
      "metadata": {},
      "outputs": [
        {
          "data": {
            "text/html": [
              "<div>\n",
              "<style scoped>\n",
              "    .dataframe tbody tr th:only-of-type {\n",
              "        vertical-align: middle;\n",
              "    }\n",
              "\n",
              "    .dataframe tbody tr th {\n",
              "        vertical-align: top;\n",
              "    }\n",
              "\n",
              "    .dataframe thead th {\n",
              "        text-align: right;\n",
              "    }\n",
              "</style>\n",
              "<table border=\"1\" class=\"dataframe\">\n",
              "  <thead>\n",
              "    <tr style=\"text-align: right;\">\n",
              "      <th>Dates</th>\n",
              "      <th>portfolio_vals</th>\n",
              "    </tr>\n",
              "    <tr>\n",
              "      <th>Date</th>\n",
              "      <th></th>\n",
              "    </tr>\n",
              "  </thead>\n",
              "  <tbody>\n",
              "    <tr>\n",
              "      <th>2021-12-23</th>\n",
              "      <td>218.425972</td>\n",
              "    </tr>\n",
              "    <tr>\n",
              "      <th>2021-12-27</th>\n",
              "      <td>221.565498</td>\n",
              "    </tr>\n",
              "    <tr>\n",
              "      <th>2021-12-28</th>\n",
              "      <td>220.871468</td>\n",
              "    </tr>\n",
              "    <tr>\n",
              "      <th>2021-12-29</th>\n",
              "      <td>221.216194</td>\n",
              "    </tr>\n",
              "    <tr>\n",
              "      <th>2021-12-30</th>\n",
              "      <td>220.000099</td>\n",
              "    </tr>\n",
              "  </tbody>\n",
              "</table>\n",
              "</div>"
            ],
            "text/plain": [
              "Dates       portfolio_vals\n",
              "Date                      \n",
              "2021-12-23      218.425972\n",
              "2021-12-27      221.565498\n",
              "2021-12-28      220.871468\n",
              "2021-12-29      221.216194\n",
              "2021-12-30      220.000099"
            ]
          },
          "execution_count": 67,
          "metadata": {},
          "output_type": "execute_result"
        }
      ],
      "source": [
        "portfolio_df.tail()"
      ]
    },
    {
      "cell_type": "code",
      "execution_count": 68,
      "id": "3da2cf92",
      "metadata": {},
      "outputs": [
        {
          "data": {
            "text/plain": [
              "Index(['Date', 'index_vals', 'portfolio_vals'], dtype='object', name='Dates')"
            ]
          },
          "execution_count": 68,
          "metadata": {},
          "output_type": "execute_result"
        }
      ],
      "source": [
        "df = pd.concat([index_df, portfolio_df], axis=1).reset_index()\n",
        "df.columns"
      ]
    },
    {
      "cell_type": "code",
      "execution_count": 69,
      "id": "aef1a755",
      "metadata": {},
      "outputs": [
        {
          "data": {
            "image/png": "[encoded data removed]",
            "text/plain": [
              "<Figure size 640x480 with 1 Axes>"
            ]
          },
          "metadata": {},
          "output_type": "display_data"
        }
      ],
      "source": [
        "df.plot(x=\"Date\", y=[\"portfolio_vals\", \"index_vals\"])\n",
        "plt.show()"
      ]
    },
    {
      "cell_type": "code",
      "execution_count": 70,
      "id": "38dd0c5c",
      "metadata": {},
      "outputs": [
        {
          "data": {
            "text/plain": [
              "['AAPL', 'MCD']"
            ]
          },
          "execution_count": 70,
          "metadata": {},
          "output_type": "execute_result"
        }
      ],
      "source": [
        "my_assets"
      ]
    },
    {
      "cell_type": "markdown",
      "id": "edeb8003",
      "metadata": {
        "id": "edeb8003"
      },
      "source": []
    },
    {
      "cell_type": "markdown",
      "id": "029a01f8",
      "metadata": {
        "id": "029a01f8"
      },
      "source": []
    }
  ],
  "metadata": {
    "colab": {
      "collapsed_sections": [],
      "provenance": []
    },
    "kernelspec": {
      "display_name": "Python 3.10.8 ('qiskit-env')",
      "language": "python",
      "name": "python3"
    },
    "language_info": {
      "codemirror_mode": {
        "name": "ipython",
        "version": 3
      },
      "file_extension": ".py",
      "mimetype": "text/x-python",
      "name": "python",
      "nbconvert_exporter": "python",
      "pygments_lexer": "ipython3",
      "version": "3.10.8"
    },
    "vscode": {
      "interpreter": {
        "hash": "25b6f3e47e0cef29dfa9d3a3b6ff5401f407608ff404664be82bac6ea4f17983"
      }
    }
  },
  "nbformat": 4,
  "nbformat_minor": 5
}
