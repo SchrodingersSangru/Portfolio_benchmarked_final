{
  "cells": [
    {
      "cell_type": "code",
      "execution_count": 1,
      "id": "3I7KhMfyiYcU",
      "metadata": {
        "colab": {
          "base_uri": "https://localhost:8080/"
        },
        "id": "3I7KhMfyiYcU",
        "outputId": "02b6c497-1b2d-4907-ff93-ed9c9898f2c4"
      },
      "outputs": [
        {
          "output_type": "stream",
          "name": "stdout",
          "text": [
            "Looking in indexes: https://pypi.org/simple, https://us-python.pkg.dev/colab-wheels/public/simple/\n",
            "Requirement already satisfied: qiskit in /usr/local/lib/python3.7/dist-packages (0.37.2)\n",
            "Requirement already satisfied: qiskit-ibmq-provider==0.19.2 in /usr/local/lib/python3.7/dist-packages (from qiskit) (0.19.2)\n",
            "Requirement already satisfied: qiskit-terra==0.21.2 in /usr/local/lib/python3.7/dist-packages (from qiskit) (0.21.2)\n",
            "Requirement already satisfied: qiskit-aer==0.10.4 in /usr/local/lib/python3.7/dist-packages (from qiskit) (0.10.4)\n",
            "Requirement already satisfied: scipy>=1.0 in /usr/local/lib/python3.7/dist-packages (from qiskit-aer==0.10.4->qiskit) (1.7.3)\n",
            "Requirement already satisfied: numpy>=1.16.3 in /usr/local/lib/python3.7/dist-packages (from qiskit-aer==0.10.4->qiskit) (1.21.6)\n",
            "Requirement already satisfied: requests>=2.19 in /usr/local/lib/python3.7/dist-packages (from qiskit-ibmq-provider==0.19.2->qiskit) (2.28.1)\n",
            "Requirement already satisfied: websockets>=10.0 in /usr/local/lib/python3.7/dist-packages (from qiskit-ibmq-provider==0.19.2->qiskit) (10.3)\n",
            "Requirement already satisfied: python-dateutil>=2.8.0 in /usr/local/lib/python3.7/dist-packages (from qiskit-ibmq-provider==0.19.2->qiskit) (2.8.2)\n",
            "Requirement already satisfied: urllib3>=1.21.1 in /usr/local/lib/python3.7/dist-packages (from qiskit-ibmq-provider==0.19.2->qiskit) (1.24.3)\n",
            "Requirement already satisfied: websocket-client>=1.0.1 in /usr/local/lib/python3.7/dist-packages (from qiskit-ibmq-provider==0.19.2->qiskit) (1.4.1)\n",
            "Requirement already satisfied: requests-ntlm>=1.1.0 in /usr/local/lib/python3.7/dist-packages (from qiskit-ibmq-provider==0.19.2->qiskit) (1.1.0)\n",
            "Requirement already satisfied: retworkx>=0.11.0 in /usr/local/lib/python3.7/dist-packages (from qiskit-terra==0.21.2->qiskit) (0.11.0)\n",
            "Requirement already satisfied: sympy>=1.3 in /usr/local/lib/python3.7/dist-packages (from qiskit-terra==0.21.2->qiskit) (1.7.1)\n",
            "Requirement already satisfied: stevedore>=3.0.0 in /usr/local/lib/python3.7/dist-packages (from qiskit-terra==0.21.2->qiskit) (3.5.0)\n",
            "Requirement already satisfied: shared-memory38 in /usr/local/lib/python3.7/dist-packages (from qiskit-terra==0.21.2->qiskit) (0.1.2)\n",
            "Requirement already satisfied: dill>=0.3 in /usr/local/lib/python3.7/dist-packages (from qiskit-terra==0.21.2->qiskit) (0.3.5.1)\n",
            "Requirement already satisfied: tweedledum<2.0,>=1.1 in /usr/local/lib/python3.7/dist-packages (from qiskit-terra==0.21.2->qiskit) (1.1.1)\n",
            "Requirement already satisfied: psutil>=5 in /usr/local/lib/python3.7/dist-packages (from qiskit-terra==0.21.2->qiskit) (5.4.8)\n",
            "Requirement already satisfied: symengine>=0.9 in /usr/local/lib/python3.7/dist-packages (from qiskit-terra==0.21.2->qiskit) (0.9.2)\n",
            "Requirement already satisfied: typing-extensions in /usr/local/lib/python3.7/dist-packages (from qiskit-terra==0.21.2->qiskit) (4.1.1)\n",
            "Requirement already satisfied: ply>=3.10 in /usr/local/lib/python3.7/dist-packages (from qiskit-terra==0.21.2->qiskit) (3.11)\n",
            "Requirement already satisfied: six>=1.5 in /usr/local/lib/python3.7/dist-packages (from python-dateutil>=2.8.0->qiskit-ibmq-provider==0.19.2->qiskit) (1.15.0)\n",
            "Requirement already satisfied: certifi>=2017.4.17 in /usr/local/lib/python3.7/dist-packages (from requests>=2.19->qiskit-ibmq-provider==0.19.2->qiskit) (2022.6.15)\n",
            "Requirement already satisfied: charset-normalizer<3,>=2 in /usr/local/lib/python3.7/dist-packages (from requests>=2.19->qiskit-ibmq-provider==0.19.2->qiskit) (2.1.1)\n",
            "Requirement already satisfied: idna<4,>=2.5 in /usr/local/lib/python3.7/dist-packages (from requests>=2.19->qiskit-ibmq-provider==0.19.2->qiskit) (2.10)\n",
            "Requirement already satisfied: cryptography>=1.3 in /usr/local/lib/python3.7/dist-packages (from requests-ntlm>=1.1.0->qiskit-ibmq-provider==0.19.2->qiskit) (38.0.1)\n",
            "Requirement already satisfied: ntlm-auth>=1.0.2 in /usr/local/lib/python3.7/dist-packages (from requests-ntlm>=1.1.0->qiskit-ibmq-provider==0.19.2->qiskit) (1.5.0)\n",
            "Requirement already satisfied: cffi>=1.12 in /usr/local/lib/python3.7/dist-packages (from cryptography>=1.3->requests-ntlm>=1.1.0->qiskit-ibmq-provider==0.19.2->qiskit) (1.15.1)\n",
            "Requirement already satisfied: pycparser in /usr/local/lib/python3.7/dist-packages (from cffi>=1.12->cryptography>=1.3->requests-ntlm>=1.1.0->qiskit-ibmq-provider==0.19.2->qiskit) (2.21)\n",
            "Requirement already satisfied: pbr!=2.1.0,>=2.0.0 in /usr/local/lib/python3.7/dist-packages (from stevedore>=3.0.0->qiskit-terra==0.21.2->qiskit) (5.10.0)\n",
            "Requirement already satisfied: importlib-metadata>=1.7.0 in /usr/local/lib/python3.7/dist-packages (from stevedore>=3.0.0->qiskit-terra==0.21.2->qiskit) (4.12.0)\n",
            "Requirement already satisfied: zipp>=0.5 in /usr/local/lib/python3.7/dist-packages (from importlib-metadata>=1.7.0->stevedore>=3.0.0->qiskit-terra==0.21.2->qiskit) (3.8.1)\n",
            "Requirement already satisfied: mpmath>=0.19 in /usr/local/lib/python3.7/dist-packages (from sympy>=1.3->qiskit-terra==0.21.2->qiskit) (1.2.1)\n"
          ]
        }
      ],
      "source": [
        "!pip install qiskit"
      ]
    },
    {
      "cell_type": "code",
      "execution_count": 2,
      "id": "hSFpxNnqjEwC",
      "metadata": {
        "colab": {
          "base_uri": "https://localhost:8080/"
        },
        "id": "hSFpxNnqjEwC",
        "outputId": "2d0771d4-f421-489a-cacd-60c8c6479ced"
      },
      "outputs": [
        {
          "output_type": "stream",
          "name": "stdout",
          "text": [
            "Looking in indexes: https://pypi.org/simple, https://us-python.pkg.dev/colab-wheels/public/simple/\n",
            "Requirement already satisfied: qiskit-finance in /usr/local/lib/python3.7/dist-packages (0.3.4)\n",
            "Requirement already satisfied: qiskit-terra>=0.20.0 in /usr/local/lib/python3.7/dist-packages (from qiskit-finance) (0.21.2)\n",
            "Requirement already satisfied: certifi in /usr/local/lib/python3.7/dist-packages (from qiskit-finance) (2022.6.15)\n",
            "Requirement already satisfied: nasdaq-data-link in /usr/local/lib/python3.7/dist-packages (from qiskit-finance) (1.0.4)\n",
            "Requirement already satisfied: yfinance>=0.1.70 in /usr/local/lib/python3.7/dist-packages (from qiskit-finance) (0.1.74)\n",
            "Requirement already satisfied: pandas in /usr/local/lib/python3.7/dist-packages (from qiskit-finance) (1.3.5)\n",
            "Requirement already satisfied: scipy>=1.4 in /usr/local/lib/python3.7/dist-packages (from qiskit-finance) (1.7.3)\n",
            "Requirement already satisfied: qiskit-optimization>=0.2.0 in /usr/local/lib/python3.7/dist-packages (from qiskit-finance) (0.4.0)\n",
            "Requirement already satisfied: setuptools>=40.1.0 in /usr/local/lib/python3.7/dist-packages (from qiskit-finance) (57.4.0)\n",
            "Requirement already satisfied: psutil>=5 in /usr/local/lib/python3.7/dist-packages (from qiskit-finance) (5.4.8)\n",
            "Requirement already satisfied: numpy>=1.17 in /usr/local/lib/python3.7/dist-packages (from qiskit-finance) (1.21.6)\n",
            "Requirement already satisfied: fastdtw in /usr/local/lib/python3.7/dist-packages (from qiskit-finance) (0.3.4)\n",
            "Requirement already satisfied: urllib3 in /usr/local/lib/python3.7/dist-packages (from qiskit-finance) (1.24.3)\n",
            "Requirement already satisfied: networkx>=2.2 in /usr/local/lib/python3.7/dist-packages (from qiskit-optimization>=0.2.0->qiskit-finance) (2.6.3)\n",
            "Requirement already satisfied: docplex>=2.21.207 in /usr/local/lib/python3.7/dist-packages (from qiskit-optimization>=0.2.0->qiskit-finance) (2.23.222)\n",
            "Requirement already satisfied: six in /usr/local/lib/python3.7/dist-packages (from docplex>=2.21.207->qiskit-optimization>=0.2.0->qiskit-finance) (1.15.0)\n",
            "Requirement already satisfied: sympy>=1.3 in /usr/local/lib/python3.7/dist-packages (from qiskit-terra>=0.20.0->qiskit-finance) (1.7.1)\n",
            "Requirement already satisfied: retworkx>=0.11.0 in /usr/local/lib/python3.7/dist-packages (from qiskit-terra>=0.20.0->qiskit-finance) (0.11.0)\n",
            "Requirement already satisfied: stevedore>=3.0.0 in /usr/local/lib/python3.7/dist-packages (from qiskit-terra>=0.20.0->qiskit-finance) (3.5.0)\n",
            "Requirement already satisfied: tweedledum<2.0,>=1.1 in /usr/local/lib/python3.7/dist-packages (from qiskit-terra>=0.20.0->qiskit-finance) (1.1.1)\n",
            "Requirement already satisfied: shared-memory38 in /usr/local/lib/python3.7/dist-packages (from qiskit-terra>=0.20.0->qiskit-finance) (0.1.2)\n",
            "Requirement already satisfied: python-dateutil>=2.8.0 in /usr/local/lib/python3.7/dist-packages (from qiskit-terra>=0.20.0->qiskit-finance) (2.8.2)\n",
            "Requirement already satisfied: ply>=3.10 in /usr/local/lib/python3.7/dist-packages (from qiskit-terra>=0.20.0->qiskit-finance) (3.11)\n",
            "Requirement already satisfied: typing-extensions in /usr/local/lib/python3.7/dist-packages (from qiskit-terra>=0.20.0->qiskit-finance) (4.1.1)\n",
            "Requirement already satisfied: dill>=0.3 in /usr/local/lib/python3.7/dist-packages (from qiskit-terra>=0.20.0->qiskit-finance) (0.3.5.1)\n",
            "Requirement already satisfied: symengine>=0.9 in /usr/local/lib/python3.7/dist-packages (from qiskit-terra>=0.20.0->qiskit-finance) (0.9.2)\n",
            "Requirement already satisfied: pbr!=2.1.0,>=2.0.0 in /usr/local/lib/python3.7/dist-packages (from stevedore>=3.0.0->qiskit-terra>=0.20.0->qiskit-finance) (5.10.0)\n",
            "Requirement already satisfied: importlib-metadata>=1.7.0 in /usr/local/lib/python3.7/dist-packages (from stevedore>=3.0.0->qiskit-terra>=0.20.0->qiskit-finance) (4.12.0)\n",
            "Requirement already satisfied: zipp>=0.5 in /usr/local/lib/python3.7/dist-packages (from importlib-metadata>=1.7.0->stevedore>=3.0.0->qiskit-terra>=0.20.0->qiskit-finance) (3.8.1)\n",
            "Requirement already satisfied: mpmath>=0.19 in /usr/local/lib/python3.7/dist-packages (from sympy>=1.3->qiskit-terra>=0.20.0->qiskit-finance) (1.2.1)\n",
            "Requirement already satisfied: multitasking>=0.0.7 in /usr/local/lib/python3.7/dist-packages (from yfinance>=0.1.70->qiskit-finance) (0.0.11)\n",
            "Requirement already satisfied: lxml>=4.5.1 in /usr/local/lib/python3.7/dist-packages (from yfinance>=0.1.70->qiskit-finance) (4.9.1)\n",
            "Requirement already satisfied: requests>=2.26 in /usr/local/lib/python3.7/dist-packages (from yfinance>=0.1.70->qiskit-finance) (2.28.1)\n",
            "Requirement already satisfied: pytz>=2017.3 in /usr/local/lib/python3.7/dist-packages (from pandas->qiskit-finance) (2022.2.1)\n",
            "Requirement already satisfied: charset-normalizer<3,>=2 in /usr/local/lib/python3.7/dist-packages (from requests>=2.26->yfinance>=0.1.70->qiskit-finance) (2.1.1)\n",
            "Requirement already satisfied: idna<4,>=2.5 in /usr/local/lib/python3.7/dist-packages (from requests>=2.26->yfinance>=0.1.70->qiskit-finance) (2.10)\n",
            "Requirement already satisfied: inflection>=0.3.1 in /usr/local/lib/python3.7/dist-packages (from nasdaq-data-link->qiskit-finance) (0.5.1)\n",
            "Requirement already satisfied: more-itertools in /usr/local/lib/python3.7/dist-packages (from nasdaq-data-link->qiskit-finance) (8.14.0)\n"
          ]
        }
      ],
      "source": [
        "!pip install qiskit-finance"
      ]
    },
    {
      "cell_type": "code",
      "execution_count": 3,
      "id": "a3ca350e",
      "metadata": {
        "id": "a3ca350e"
      },
      "outputs": [],
      "source": [
        "#importing the required stuff\n",
        "from qiskit import Aer\n",
        "from qiskit.algorithms import VQE, QAOA, NumPyMinimumEigensolver\n",
        "from qiskit.algorithms.optimizers import COBYLA\n",
        "from qiskit.circuit.library import TwoLocal\n",
        "from qiskit.utils import QuantumInstance\n",
        "from qiskit_finance.applications.optimization import PortfolioOptimization\n",
        "from qiskit_finance.data_providers import *\n",
        "from qiskit_finance import QiskitFinanceError\n",
        "from qiskit_optimization.algorithms import MinimumEigenOptimizer\n",
        "from qiskit_optimization.applications import OptimizationApplication\n",
        "from qiskit_optimization.converters import QuadraticProgramToQubo\n",
        "import numpy as np\n",
        "import matplotlib.pyplot as plt\n",
        "\n",
        "import datetime\n",
        "import pandas as pd\n",
        "from pandas.plotting import register_matplotlib_converters\n",
        "register_matplotlib_converters()\n",
        "import csv\n",
        "import yfinance as yf\n",
        "import pandas_datareader.data as web\n",
        "from qiskit_finance.applications.optimization import PortfolioDiversification"
      ]
    },
    {
      "cell_type": "code",
      "execution_count": 4,
      "id": "1b6ad0d8",
      "metadata": {
        "id": "1b6ad0d8"
      },
      "outputs": [],
      "source": [
        "%matplotlib inline"
      ]
    },
    {
      "cell_type": "code",
      "execution_count": 5,
      "id": "25cdcbc2",
      "metadata": {
        "id": "25cdcbc2"
      },
      "outputs": [],
      "source": [
        "# set number of assets (= number of qubits)\n",
        "\n",
        "seed = 123\n",
        "\n",
        "assets = [\"JPM\", \"GS\", \"MSFT\", \"WMT\"]\n",
        "\n",
        "\n",
        "# Using data from yahoo finance\n",
        "# use the name listed for particular company that you wish to add\n",
        "\n",
        "data = YahooDataProvider(\n",
        "        tickers= assets , \n",
        "        start=datetime.datetime(2011, 1, 1),\n",
        "        end=datetime.datetime(2015, 12, 31),\n",
        "    )\n",
        "\n",
        "num_assets = len(assets)\n",
        "data.run()\n",
        "\n",
        "mu = data.get_period_return_mean_vector()\n",
        "sigma = data.get_period_return_covariance_matrix()\n",
        "rho = data.get_similarity_matrix()\n",
        "# print(rho)"
      ]
    },
    {
      "cell_type": "code",
      "execution_count": 6,
      "id": "50530cf1",
      "metadata": {
        "colab": {
          "base_uri": "https://localhost:8080/",
          "height": 269
        },
        "id": "50530cf1",
        "outputId": "30f7474e-6cf5-481e-eca0-dfeacd77336c"
      },
      "outputs": [
        {
          "output_type": "display_data",
          "data": {
            "text/plain": [
              "<Figure size 432x288 with 1 Axes>"
            ],
            "image/png": "[encoded data removed]"
          },
          "metadata": {
            "needs_background": "light"
          }
        }
      ],
      "source": [
        "# plot sigma\n",
        "plt.imshow(sigma, interpolation=\"nearest\")\n",
        "plt.show()"
      ]
    },
    {
      "cell_type": "code",
      "execution_count": 7,
      "id": "14567144",
      "metadata": {
        "colab": {
          "base_uri": "https://localhost:8080/"
        },
        "id": "14567144",
        "outputId": "5443a71b-6202-4ab1-e8c0-4ce14529c706"
      },
      "outputs": [
        {
          "output_type": "execute_result",
          "data": {
            "text/plain": [
              "<QuadraticProgram: minimize 0.00014417218418777202*x_0^2 + 0.00023453247383892..., 4 variables, 1 constraints, 'Portfolio optimization'>"
            ]
          },
          "metadata": {},
          "execution_count": 7
        }
      ],
      "source": [
        "q = 0.5  # set risk factor\n",
        "budget = 3 #num_assets // 2  # set budget\n",
        "penalty = num_assets  # set parameter to scale the budget penalty term\n",
        "\n",
        "\n",
        "portfolio = PortfolioOptimization(\n",
        "    expected_returns=mu, covariances=sigma, risk_factor=q, budget=budget,\n",
        ")\n",
        "qp = portfolio.to_quadratic_program()\n",
        "qp"
      ]
    },
    {
      "cell_type": "code",
      "execution_count": 8,
      "id": "e71dce01",
      "metadata": {
        "id": "e71dce01"
      },
      "outputs": [],
      "source": [
        "def index_to_selection(i, num_assets):\n",
        "    s = \"{0:b}\".format(i).rjust(num_assets)\n",
        "    x = np.array([1 if s[i] == \"1\" else 0 for i in reversed(range(num_assets))])\n",
        "    return x\n",
        "\n",
        "\n",
        "def print_result(result,fname):\n",
        "    \n",
        "    f = open(fname, 'w')\n",
        "    header = ['SELECTION', 'VALUE', 'PROBABLITY']\n",
        "    writer = csv.writer(f)\n",
        "    writer.writerow(header)\n",
        "    \n",
        "    selection = result.x\n",
        "    value = result.fval\n",
        "    print(\"Optimal: selection {}, value {:.4f}\".format(selection, value))\n",
        "\n",
        "    eigenstate = result.min_eigen_solver_result.eigenstate\n",
        "    eigenvector = eigenstate if isinstance(eigenstate, np.ndarray) else eigenstate.to_matrix()\n",
        "    probabilities = np.abs(eigenvector) ** 2\n",
        "    i_sorted = reversed(np.argsort(probabilities))\n",
        "    print(\"\\n----------------- Full result ---------------------\")\n",
        "    print(\"selection\\tvalue\\t\\tprobability\")\n",
        "    print(\"---------------------------------------------------\")\n",
        "    for i in i_sorted:\n",
        "        x = index_to_selection(i, num_assets)\n",
        "        value = QuadraticProgramToQubo().convert(qp).objective.evaluate(x)\n",
        "        # value = portfolio.to_quadratic_program().objective.evaluate(x)\n",
        "        probability = probabilities[i]\n",
        "        row = [x, value, probability]\n",
        "        writer.writerow(row)\n",
        "        print(\"%10s\\t%.4f\\t\\t%.4f\" % (x, value, probability))\n",
        "    f.close()"
      ]
    },
    {
      "cell_type": "code",
      "execution_count": 9,
      "id": "95721b99",
      "metadata": {
        "colab": {
          "base_uri": "https://localhost:8080/"
        },
        "id": "95721b99",
        "outputId": "523e737c-3eb2-4c26-d003-a0b5e7c5daa9"
      },
      "outputs": [
        {
          "output_type": "stream",
          "name": "stdout",
          "text": [
            "Optimal: selection [1. 0. 1. 1.], value -0.0010\n",
            "\n",
            "----------------- Full result ---------------------\n",
            "selection\tvalue\t\tprobability\n",
            "---------------------------------------------------\n",
            " [1 0 1 1]\t-0.0010\t\t1.0000\n",
            " [1 1 1 1]\t1.0022\t\t0.0000\n",
            " [0 1 1 1]\t-0.0006\t\t0.0000\n",
            " [0 0 1 1]\t1.0021\t\t0.0000\n",
            " [1 1 0 1]\t-0.0003\t\t0.0000\n",
            " [0 1 0 1]\t1.0027\t\t0.0000\n",
            " [1 0 0 1]\t1.0024\t\t0.0000\n",
            " [0 0 0 1]\t4.0112\t\t0.0000\n",
            " [1 1 1 0]\t-0.0007\t\t0.0000\n",
            " [0 1 1 0]\t1.0022\t\t0.0000\n",
            " [1 0 1 0]\t1.0018\t\t0.0000\n",
            " [0 0 1 0]\t4.0107\t\t0.0000\n",
            " [1 1 0 0]\t1.0025\t\t0.0000\n",
            " [0 1 0 0]\t4.0113\t\t0.0000\n",
            " [1 0 0 0]\t4.0109\t\t0.0000\n",
            " [0 0 0 0]\t9.0255\t\t0.0000\n"
          ]
        }
      ],
      "source": [
        "#classical reference solution\n",
        "#provide fname ='complete address/location of your .csv file'\n",
        "\n",
        "exact_mes = NumPyMinimumEigensolver()\n",
        "exact_eigensolver = MinimumEigenOptimizer(exact_mes)\n",
        "\n",
        "result = exact_eigensolver.solve(qp)\n",
        "fname = 'nes1.csv' #change the location and nsame of .csv file\n",
        "\n",
        "print_result(result,fname)"
      ]
    },
    {
      "cell_type": "code",
      "execution_count": 10,
      "id": "SotSnxc2P44M",
      "metadata": {
        "colab": {
          "base_uri": "https://localhost:8080/"
        },
        "id": "SotSnxc2P44M",
        "outputId": "be645400-e478-46d4-a53d-b47cc400cdf9"
      },
      "outputs": [
        {
          "output_type": "stream",
          "name": "stdout",
          "text": [
            "Looking in indexes: https://pypi.org/simple, https://us-python.pkg.dev/colab-wheels/public/simple/\n",
            "Requirement already satisfied: qiskit-aer in /usr/local/lib/python3.7/dist-packages (0.10.4)\n",
            "Requirement already satisfied: scipy>=1.0 in /usr/local/lib/python3.7/dist-packages (from qiskit-aer) (1.7.3)\n",
            "Requirement already satisfied: qiskit-terra>=0.19.1 in /usr/local/lib/python3.7/dist-packages (from qiskit-aer) (0.21.2)\n",
            "Requirement already satisfied: numpy>=1.16.3 in /usr/local/lib/python3.7/dist-packages (from qiskit-aer) (1.21.6)\n",
            "Requirement already satisfied: retworkx>=0.11.0 in /usr/local/lib/python3.7/dist-packages (from qiskit-terra>=0.19.1->qiskit-aer) (0.11.0)\n",
            "Requirement already satisfied: tweedledum<2.0,>=1.1 in /usr/local/lib/python3.7/dist-packages (from qiskit-terra>=0.19.1->qiskit-aer) (1.1.1)\n",
            "Requirement already satisfied: shared-memory38 in /usr/local/lib/python3.7/dist-packages (from qiskit-terra>=0.19.1->qiskit-aer) (0.1.2)\n",
            "Requirement already satisfied: python-dateutil>=2.8.0 in /usr/local/lib/python3.7/dist-packages (from qiskit-terra>=0.19.1->qiskit-aer) (2.8.2)\n",
            "Requirement already satisfied: psutil>=5 in /usr/local/lib/python3.7/dist-packages (from qiskit-terra>=0.19.1->qiskit-aer) (5.4.8)\n",
            "Requirement already satisfied: ply>=3.10 in /usr/local/lib/python3.7/dist-packages (from qiskit-terra>=0.19.1->qiskit-aer) (3.11)\n",
            "Requirement already satisfied: typing-extensions in /usr/local/lib/python3.7/dist-packages (from qiskit-terra>=0.19.1->qiskit-aer) (4.1.1)\n",
            "Requirement already satisfied: sympy>=1.3 in /usr/local/lib/python3.7/dist-packages (from qiskit-terra>=0.19.1->qiskit-aer) (1.7.1)\n",
            "Requirement already satisfied: dill>=0.3 in /usr/local/lib/python3.7/dist-packages (from qiskit-terra>=0.19.1->qiskit-aer) (0.3.5.1)\n",
            "Requirement already satisfied: stevedore>=3.0.0 in /usr/local/lib/python3.7/dist-packages (from qiskit-terra>=0.19.1->qiskit-aer) (3.5.0)\n",
            "Requirement already satisfied: symengine>=0.9 in /usr/local/lib/python3.7/dist-packages (from qiskit-terra>=0.19.1->qiskit-aer) (0.9.2)\n",
            "Requirement already satisfied: six>=1.5 in /usr/local/lib/python3.7/dist-packages (from python-dateutil>=2.8.0->qiskit-terra>=0.19.1->qiskit-aer) (1.15.0)\n",
            "Requirement already satisfied: importlib-metadata>=1.7.0 in /usr/local/lib/python3.7/dist-packages (from stevedore>=3.0.0->qiskit-terra>=0.19.1->qiskit-aer) (4.12.0)\n",
            "Requirement already satisfied: pbr!=2.1.0,>=2.0.0 in /usr/local/lib/python3.7/dist-packages (from stevedore>=3.0.0->qiskit-terra>=0.19.1->qiskit-aer) (5.10.0)\n",
            "Requirement already satisfied: zipp>=0.5 in /usr/local/lib/python3.7/dist-packages (from importlib-metadata>=1.7.0->stevedore>=3.0.0->qiskit-terra>=0.19.1->qiskit-aer) (3.8.1)\n",
            "Requirement already satisfied: mpmath>=0.19 in /usr/local/lib/python3.7/dist-packages (from sympy>=1.3->qiskit-terra>=0.19.1->qiskit-aer) (1.2.1)\n"
          ]
        }
      ],
      "source": [
        "!pip install qiskit-aer"
      ]
    },
    {
      "cell_type": "code",
      "execution_count": 11,
      "id": "f0d47626",
      "metadata": {
        "colab": {
          "base_uri": "https://localhost:8080/"
        },
        "id": "f0d47626",
        "outputId": "19628a5e-b26b-491f-b782-6eb372c56122"
      },
      "outputs": [
        {
          "output_type": "stream",
          "name": "stdout",
          "text": [
            "Optimal: selection [1. 0. 1. 1.], value -0.0010\n",
            "\n",
            "----------------- Full result ---------------------\n",
            "selection\tvalue\t\tprobability\n",
            "---------------------------------------------------\n",
            " [1 1 1 0]\t-0.0007\t\t0.4182\n",
            " [1 1 0 1]\t-0.0003\t\t0.4001\n",
            " [0 1 1 1]\t-0.0006\t\t0.1812\n",
            " [1 0 1 1]\t-0.0010\t\t0.0004\n",
            " [1 0 1 0]\t1.0018\t\t0.0000\n",
            " [1 0 0 1]\t1.0024\t\t0.0000\n",
            " [0 0 1 1]\t1.0021\t\t0.0000\n",
            " [1 0 0 0]\t4.0109\t\t0.0000\n",
            " [0 1 1 0]\t1.0022\t\t0.0000\n",
            " [0 1 0 1]\t1.0027\t\t0.0000\n",
            " [1 1 1 1]\t1.0022\t\t0.0000\n",
            " [1 1 0 0]\t1.0025\t\t0.0000\n",
            " [0 0 1 0]\t4.0107\t\t0.0000\n",
            " [0 0 0 0]\t9.0255\t\t0.0000\n",
            " [0 0 0 1]\t4.0112\t\t0.0000\n",
            " [0 1 0 0]\t4.0113\t\t0.0000\n"
          ]
        }
      ],
      "source": [
        "# VQE solution\n",
        "#provide fname ='complete address/location of your .csv file'\n",
        "\n",
        "from qiskit.utils import algorithm_globals\n",
        "\n",
        "algorithm_globals.random_seed = 1234\n",
        "backend = Aer.get_backend(\"statevector_simulator\")\n",
        "\n",
        "cobyla = COBYLA()\n",
        "cobyla.set_options(maxiter=500)\n",
        "ry = TwoLocal(num_assets, \"ry\", \"cz\", reps=3, entanglement=\"full\")\n",
        "quantum_instance = QuantumInstance(backend=backend, shots=8192, seed_simulator=seed, seed_transpiler=seed)\n",
        "vqe_mes = VQE(ry, optimizer=cobyla, quantum_instance=quantum_instance)\n",
        "vqe = MinimumEigenOptimizer(vqe_mes)\n",
        "result = vqe.solve(qp)\n",
        "\n",
        "fname = 'vqe1.csv' #change the location and name of .csv file\n",
        "print_result(result, fname)\n",
        "# print(result)\n",
        "\n",
        "# [1. 0. 1. 0.] --numpy exact solver"
      ]
    },
    {
      "cell_type": "code",
      "execution_count": 12,
      "id": "e1e17bcb",
      "metadata": {
        "colab": {
          "base_uri": "https://localhost:8080/"
        },
        "id": "e1e17bcb",
        "outputId": "528d75f5-cedf-4564-f089-84cef85981d7"
      },
      "outputs": [
        {
          "output_type": "stream",
          "name": "stdout",
          "text": [
            "Optimal: selection [1. 0. 1. 1.], value -0.0010\n",
            "\n",
            "----------------- Full result ---------------------\n",
            "selection\tvalue\t\tprobability\n",
            "---------------------------------------------------\n",
            " [1 1 0 1]\t-0.0003\t\t0.2164\n",
            " [0 1 1 1]\t-0.0006\t\t0.2158\n",
            " [1 1 1 0]\t-0.0007\t\t0.2155\n",
            " [1 0 1 1]\t-0.0010\t\t0.2152\n",
            " [1 1 1 1]\t1.0022\t\t0.1180\n",
            " [0 0 1 1]\t1.0021\t\t0.0029\n",
            " [0 1 0 1]\t1.0027\t\t0.0029\n",
            " [1 0 0 1]\t1.0024\t\t0.0029\n",
            " [1 1 0 0]\t1.0025\t\t0.0029\n",
            " [0 1 1 0]\t1.0022\t\t0.0029\n",
            " [1 0 1 0]\t1.0018\t\t0.0029\n",
            " [0 0 0 1]\t4.0112\t\t0.0003\n",
            " [0 1 0 0]\t4.0113\t\t0.0003\n",
            " [0 0 1 0]\t4.0107\t\t0.0003\n",
            " [1 0 0 0]\t4.0109\t\t0.0003\n",
            " [0 0 0 0]\t9.0255\t\t0.0001\n"
          ]
        }
      ],
      "source": [
        "# QAOA solution\n",
        "#provide fname ='complete address/location of your .csv file'\n",
        "\n",
        "algorithm_globals.random_seed = 1234\n",
        "backend = Aer.get_backend(\"statevector_simulator\")\n",
        "\n",
        "cobyla = COBYLA()\n",
        "cobyla.set_options(maxiter=250)\n",
        "quantum_instance = QuantumInstance(backend=backend, shots=8192, seed_simulator=seed, seed_transpiler=seed)\n",
        "qaoa_mes = QAOA(optimizer=cobyla, reps=3, quantum_instance=quantum_instance)\n",
        "qaoa = MinimumEigenOptimizer(qaoa_mes)\n",
        "result = qaoa.solve(qp)\n",
        "\n",
        "fname = 'qaoa1.csv' #change the location and name of .csv file\n",
        "print_result(result, fname)\n",
        "\n",
        "# [1. 0. 1. 0.]  -numpy exact solver"
      ]
    },
    {
      "cell_type": "markdown",
      "source": [
        "### exact solver, VQE and QAOA is producing same results for 4 assets.\n"
      ],
      "metadata": {
        "id": "e6KGaqvRxTBZ"
      },
      "id": "e6KGaqvRxTBZ"
    },
    {
      "cell_type": "markdown",
      "source": [
        "## weight allocation part after asset selection using quantum"
      ],
      "metadata": {
        "id": "4-NjMNcEnsTz"
      },
      "id": "4-NjMNcEnsTz"
    },
    {
      "cell_type": "code",
      "execution_count": 13,
      "id": "9c0de3f5",
      "metadata": {
        "colab": {
          "base_uri": "https://localhost:8080/"
        },
        "id": "9c0de3f5",
        "outputId": "759be63e-7ed6-49f5-9684-0e8980a3cdbb"
      },
      "outputs": [
        {
          "output_type": "stream",
          "name": "stdout",
          "text": [
            "your lucky assets are  ['JPM', 'MSFT', 'WMT']\n"
          ]
        }
      ],
      "source": [
        "selected_assets = [1, 0, 1, 1]\n",
        "assets = [\"JPM\", \"GS\", \"MSFT\", \"WMT\"]\n",
        "\n",
        "selected_bitstring = [i for i, e in enumerate(selected_assets) if e == 1]\n",
        "# print(selected_bitstring)\n",
        "my_assets = [assets[i] for i in selected_bitstring]\n",
        "print(\"your lucky assets are \",my_assets)"
      ]
    },
    {
      "cell_type": "code",
      "execution_count": 14,
      "id": "Avqhq9mOaevq",
      "metadata": {
        "colab": {
          "base_uri": "https://localhost:8080/",
          "height": 256
        },
        "id": "Avqhq9mOaevq",
        "outputId": "b0cbd3a1-0579-41f0-cafa-2fe8dc5d7f0d"
      },
      "outputs": [
        {
          "output_type": "stream",
          "name": "stdout",
          "text": [
            "[*********************100%***********************]  3 of 3 completed\n"
          ]
        },
        {
          "output_type": "execute_result",
          "data": {
            "text/plain": [
              "                  JPM   MSFT        WMT\n",
              "Date                                   \n",
              "2011-01-03  43.580002  27.98  54.560001\n",
              "2011-01-04  44.160000  28.09  54.770000\n",
              "2011-01-05  44.700001  28.00  54.410000\n",
              "2011-01-06  44.480000  28.82  53.959999\n",
              "2011-01-07  43.639999  28.60  54.080002"
            ],
            "text/html": [
              "\n",
              "  <div id=\"df-998c92bc-fb27-451d-a9c6-71c3d4707ade\">\n",
              "    <div class=\"colab-df-container\">\n",
              "      <div>\n",
              "<style scoped>\n",
              "    .dataframe tbody tr th:only-of-type {\n",
              "        vertical-align: middle;\n",
              "    }\n",
              "\n",
              "    .dataframe tbody tr th {\n",
              "        vertical-align: top;\n",
              "    }\n",
              "\n",
              "    .dataframe thead th {\n",
              "        text-align: right;\n",
              "    }\n",
              "</style>\n",
              "<table border=\"1\" class=\"dataframe\">\n",
              "  <thead>\n",
              "    <tr style=\"text-align: right;\">\n",
              "      <th></th>\n",
              "      <th>JPM</th>\n",
              "      <th>MSFT</th>\n",
              "      <th>WMT</th>\n",
              "    </tr>\n",
              "    <tr>\n",
              "      <th>Date</th>\n",
              "      <th></th>\n",
              "      <th></th>\n",
              "      <th></th>\n",
              "    </tr>\n",
              "  </thead>\n",
              "  <tbody>\n",
              "    <tr>\n",
              "      <th>2011-01-03</th>\n",
              "      <td>43.580002</td>\n",
              "      <td>27.98</td>\n",
              "      <td>54.560001</td>\n",
              "    </tr>\n",
              "    <tr>\n",
              "      <th>2011-01-04</th>\n",
              "      <td>44.160000</td>\n",
              "      <td>28.09</td>\n",
              "      <td>54.770000</td>\n",
              "    </tr>\n",
              "    <tr>\n",
              "      <th>2011-01-05</th>\n",
              "      <td>44.700001</td>\n",
              "      <td>28.00</td>\n",
              "      <td>54.410000</td>\n",
              "    </tr>\n",
              "    <tr>\n",
              "      <th>2011-01-06</th>\n",
              "      <td>44.480000</td>\n",
              "      <td>28.82</td>\n",
              "      <td>53.959999</td>\n",
              "    </tr>\n",
              "    <tr>\n",
              "      <th>2011-01-07</th>\n",
              "      <td>43.639999</td>\n",
              "      <td>28.60</td>\n",
              "      <td>54.080002</td>\n",
              "    </tr>\n",
              "  </tbody>\n",
              "</table>\n",
              "</div>\n",
              "      <button class=\"colab-df-convert\" onclick=\"convertToInteractive('df-998c92bc-fb27-451d-a9c6-71c3d4707ade')\"\n",
              "              title=\"Convert this dataframe to an interactive table.\"\n",
              "              style=\"display:none;\">\n",
              "        \n",
              "  <svg xmlns=\"http://www.w3.org/2000/svg\" height=\"24px\"viewBox=\"0 0 24 24\"\n",
              "       width=\"24px\">\n",
              "    <path d=\"M0 0h24v24H0V0z\" fill=\"none\"/>\n",
              "    <path d=\"M18.56 5.44l.94 2.06.94-2.06 2.06-.94-2.06-.94-.94-2.06-.94 2.06-2.06.94zm-11 1L8.5 8.5l.94-2.06 2.06-.94-2.06-.94L8.5 2.5l-.94 2.06-2.06.94zm10 10l.94 2.06.94-2.06 2.06-.94-2.06-.94-.94-2.06-.94 2.06-2.06.94z\"/><path d=\"M17.41 7.96l-1.37-1.37c-.4-.4-.92-.59-1.43-.59-.52 0-1.04.2-1.43.59L10.3 9.45l-7.72 7.72c-.78.78-.78 2.05 0 2.83L4 21.41c.39.39.9.59 1.41.59.51 0 1.02-.2 1.41-.59l7.78-7.78 2.81-2.81c.8-.78.8-2.07 0-2.86zM5.41 20L4 18.59l7.72-7.72 1.47 1.35L5.41 20z\"/>\n",
              "  </svg>\n",
              "      </button>\n",
              "      \n",
              "  <style>\n",
              "    .colab-df-container {\n",
              "      display:flex;\n",
              "      flex-wrap:wrap;\n",
              "      gap: 12px;\n",
              "    }\n",
              "\n",
              "    .colab-df-convert {\n",
              "      background-color: #E8F0FE;\n",
              "      border: none;\n",
              "      border-radius: 50%;\n",
              "      cursor: pointer;\n",
              "      display: none;\n",
              "      fill: #1967D2;\n",
              "      height: 32px;\n",
              "      padding: 0 0 0 0;\n",
              "      width: 32px;\n",
              "    }\n",
              "\n",
              "    .colab-df-convert:hover {\n",
              "      background-color: #E2EBFA;\n",
              "      box-shadow: 0px 1px 2px rgba(60, 64, 67, 0.3), 0px 1px 3px 1px rgba(60, 64, 67, 0.15);\n",
              "      fill: #174EA6;\n",
              "    }\n",
              "\n",
              "    [theme=dark] .colab-df-convert {\n",
              "      background-color: #3B4455;\n",
              "      fill: #D2E3FC;\n",
              "    }\n",
              "\n",
              "    [theme=dark] .colab-df-convert:hover {\n",
              "      background-color: #434B5C;\n",
              "      box-shadow: 0px 1px 3px 1px rgba(0, 0, 0, 0.15);\n",
              "      filter: drop-shadow(0px 1px 2px rgba(0, 0, 0, 0.3));\n",
              "      fill: #FFFFFF;\n",
              "    }\n",
              "  </style>\n",
              "\n",
              "      <script>\n",
              "        const buttonEl =\n",
              "          document.querySelector('#df-998c92bc-fb27-451d-a9c6-71c3d4707ade button.colab-df-convert');\n",
              "        buttonEl.style.display =\n",
              "          google.colab.kernel.accessAllowed ? 'block' : 'none';\n",
              "\n",
              "        async function convertToInteractive(key) {\n",
              "          const element = document.querySelector('#df-998c92bc-fb27-451d-a9c6-71c3d4707ade');\n",
              "          const dataTable =\n",
              "            await google.colab.kernel.invokeFunction('convertToInteractive',\n",
              "                                                     [key], {});\n",
              "          if (!dataTable) return;\n",
              "\n",
              "          const docLinkHtml = 'Like what you see? Visit the ' +\n",
              "            '<a target=\"_blank\" href=https://colab.research.google.com/notebooks/data_table.ipynb>data table notebook</a>'\n",
              "            + ' to learn more about interactive tables.';\n",
              "          element.innerHTML = '';\n",
              "          dataTable['output_type'] = 'display_data';\n",
              "          await google.colab.output.renderOutput(dataTable, element);\n",
              "          const docLink = document.createElement('div');\n",
              "          docLink.innerHTML = docLinkHtml;\n",
              "          element.appendChild(docLink);\n",
              "        }\n",
              "      </script>\n",
              "    </div>\n",
              "  </div>\n",
              "  "
            ]
          },
          "metadata": {},
          "execution_count": 14
        }
      ],
      "source": [
        "import yfinance as yf\n",
        "import numpy as np\n",
        "selected_stocks_data = yf.download(my_assets, start = '2011-1-1', end = '2015-12-31')['Close']\n",
        "selected_stocks_data.head()"
      ]
    },
    {
      "cell_type": "code",
      "execution_count": 14,
      "id": "88f6494d",
      "metadata": {
        "id": "88f6494d"
      },
      "outputs": [],
      "source": []
    },
    {
      "cell_type": "code",
      "execution_count": 15,
      "id": "Wycd2cona3uF",
      "metadata": {
        "colab": {
          "base_uri": "https://localhost:8080/",
          "height": 237
        },
        "id": "Wycd2cona3uF",
        "outputId": "dabf6a65-5df5-4917-baef-0cb09f94b902"
      },
      "outputs": [
        {
          "output_type": "execute_result",
          "data": {
            "text/plain": [
              "                 JPM      MSFT       WMT\n",
              "Date                                    \n",
              "2011-01-03       NaN       NaN       NaN\n",
              "2011-01-04  0.013221  0.003924  0.003842\n",
              "2011-01-05  0.012154 -0.003209 -0.006595\n",
              "2011-01-06 -0.004934  0.028865 -0.008305\n",
              "2011-01-07 -0.019065 -0.007663  0.002221"
            ],
            "text/html": [
              "\n",
              "  <div id=\"df-548a3c2d-b115-4e67-9155-05401cb5f28e\">\n",
              "    <div class=\"colab-df-container\">\n",
              "      <div>\n",
              "<style scoped>\n",
              "    .dataframe tbody tr th:only-of-type {\n",
              "        vertical-align: middle;\n",
              "    }\n",
              "\n",
              "    .dataframe tbody tr th {\n",
              "        vertical-align: top;\n",
              "    }\n",
              "\n",
              "    .dataframe thead th {\n",
              "        text-align: right;\n",
              "    }\n",
              "</style>\n",
              "<table border=\"1\" class=\"dataframe\">\n",
              "  <thead>\n",
              "    <tr style=\"text-align: right;\">\n",
              "      <th></th>\n",
              "      <th>JPM</th>\n",
              "      <th>MSFT</th>\n",
              "      <th>WMT</th>\n",
              "    </tr>\n",
              "    <tr>\n",
              "      <th>Date</th>\n",
              "      <th></th>\n",
              "      <th></th>\n",
              "      <th></th>\n",
              "    </tr>\n",
              "  </thead>\n",
              "  <tbody>\n",
              "    <tr>\n",
              "      <th>2011-01-03</th>\n",
              "      <td>NaN</td>\n",
              "      <td>NaN</td>\n",
              "      <td>NaN</td>\n",
              "    </tr>\n",
              "    <tr>\n",
              "      <th>2011-01-04</th>\n",
              "      <td>0.013221</td>\n",
              "      <td>0.003924</td>\n",
              "      <td>0.003842</td>\n",
              "    </tr>\n",
              "    <tr>\n",
              "      <th>2011-01-05</th>\n",
              "      <td>0.012154</td>\n",
              "      <td>-0.003209</td>\n",
              "      <td>-0.006595</td>\n",
              "    </tr>\n",
              "    <tr>\n",
              "      <th>2011-01-06</th>\n",
              "      <td>-0.004934</td>\n",
              "      <td>0.028865</td>\n",
              "      <td>-0.008305</td>\n",
              "    </tr>\n",
              "    <tr>\n",
              "      <th>2011-01-07</th>\n",
              "      <td>-0.019065</td>\n",
              "      <td>-0.007663</td>\n",
              "      <td>0.002221</td>\n",
              "    </tr>\n",
              "  </tbody>\n",
              "</table>\n",
              "</div>\n",
              "      <button class=\"colab-df-convert\" onclick=\"convertToInteractive('df-548a3c2d-b115-4e67-9155-05401cb5f28e')\"\n",
              "              title=\"Convert this dataframe to an interactive table.\"\n",
              "              style=\"display:none;\">\n",
              "        \n",
              "  <svg xmlns=\"http://www.w3.org/2000/svg\" height=\"24px\"viewBox=\"0 0 24 24\"\n",
              "       width=\"24px\">\n",
              "    <path d=\"M0 0h24v24H0V0z\" fill=\"none\"/>\n",
              "    <path d=\"M18.56 5.44l.94 2.06.94-2.06 2.06-.94-2.06-.94-.94-2.06-.94 2.06-2.06.94zm-11 1L8.5 8.5l.94-2.06 2.06-.94-2.06-.94L8.5 2.5l-.94 2.06-2.06.94zm10 10l.94 2.06.94-2.06 2.06-.94-2.06-.94-.94-2.06-.94 2.06-2.06.94z\"/><path d=\"M17.41 7.96l-1.37-1.37c-.4-.4-.92-.59-1.43-.59-.52 0-1.04.2-1.43.59L10.3 9.45l-7.72 7.72c-.78.78-.78 2.05 0 2.83L4 21.41c.39.39.9.59 1.41.59.51 0 1.02-.2 1.41-.59l7.78-7.78 2.81-2.81c.8-.78.8-2.07 0-2.86zM5.41 20L4 18.59l7.72-7.72 1.47 1.35L5.41 20z\"/>\n",
              "  </svg>\n",
              "      </button>\n",
              "      \n",
              "  <style>\n",
              "    .colab-df-container {\n",
              "      display:flex;\n",
              "      flex-wrap:wrap;\n",
              "      gap: 12px;\n",
              "    }\n",
              "\n",
              "    .colab-df-convert {\n",
              "      background-color: #E8F0FE;\n",
              "      border: none;\n",
              "      border-radius: 50%;\n",
              "      cursor: pointer;\n",
              "      display: none;\n",
              "      fill: #1967D2;\n",
              "      height: 32px;\n",
              "      padding: 0 0 0 0;\n",
              "      width: 32px;\n",
              "    }\n",
              "\n",
              "    .colab-df-convert:hover {\n",
              "      background-color: #E2EBFA;\n",
              "      box-shadow: 0px 1px 2px rgba(60, 64, 67, 0.3), 0px 1px 3px 1px rgba(60, 64, 67, 0.15);\n",
              "      fill: #174EA6;\n",
              "    }\n",
              "\n",
              "    [theme=dark] .colab-df-convert {\n",
              "      background-color: #3B4455;\n",
              "      fill: #D2E3FC;\n",
              "    }\n",
              "\n",
              "    [theme=dark] .colab-df-convert:hover {\n",
              "      background-color: #434B5C;\n",
              "      box-shadow: 0px 1px 3px 1px rgba(0, 0, 0, 0.15);\n",
              "      filter: drop-shadow(0px 1px 2px rgba(0, 0, 0, 0.3));\n",
              "      fill: #FFFFFF;\n",
              "    }\n",
              "  </style>\n",
              "\n",
              "      <script>\n",
              "        const buttonEl =\n",
              "          document.querySelector('#df-548a3c2d-b115-4e67-9155-05401cb5f28e button.colab-df-convert');\n",
              "        buttonEl.style.display =\n",
              "          google.colab.kernel.accessAllowed ? 'block' : 'none';\n",
              "\n",
              "        async function convertToInteractive(key) {\n",
              "          const element = document.querySelector('#df-548a3c2d-b115-4e67-9155-05401cb5f28e');\n",
              "          const dataTable =\n",
              "            await google.colab.kernel.invokeFunction('convertToInteractive',\n",
              "                                                     [key], {});\n",
              "          if (!dataTable) return;\n",
              "\n",
              "          const docLinkHtml = 'Like what you see? Visit the ' +\n",
              "            '<a target=\"_blank\" href=https://colab.research.google.com/notebooks/data_table.ipynb>data table notebook</a>'\n",
              "            + ' to learn more about interactive tables.';\n",
              "          element.innerHTML = '';\n",
              "          dataTable['output_type'] = 'display_data';\n",
              "          await google.colab.output.renderOutput(dataTable, element);\n",
              "          const docLink = document.createElement('div');\n",
              "          docLink.innerHTML = docLinkHtml;\n",
              "          element.appendChild(docLink);\n",
              "        }\n",
              "      </script>\n",
              "    </div>\n",
              "  </div>\n",
              "  "
            ]
          },
          "metadata": {},
          "execution_count": 15
        }
      ],
      "source": [
        "log_return = np.log(selected_stocks_data/selected_stocks_data.shift(1))\n",
        "log_return.head()"
      ]
    },
    {
      "cell_type": "code",
      "execution_count": 16,
      "id": "Z777wklLKMii",
      "metadata": {
        "colab": {
          "base_uri": "https://localhost:8080/"
        },
        "id": "Z777wklLKMii",
        "outputId": "9fbf79c3-f274-4c50-ac35-055293dc8b79"
      },
      "outputs": [
        {
          "output_type": "stream",
          "name": "stdout",
          "text": [
            "normalised weights :\n",
            "[0.59098454 0.16702336 0.2419921 ]\n"
          ]
        }
      ],
      "source": [
        "import numpy as np\n",
        "weights = np.array(np.random.random(len(my_assets)))\n",
        "\n",
        "print('normalised weights :')\n",
        "weights = weights/np.sum(weights)\n",
        "print(weights)"
      ]
    },
    {
      "cell_type": "code",
      "execution_count": 17,
      "id": "73zSFkttOq9_",
      "metadata": {
        "id": "73zSFkttOq9_"
      },
      "outputs": [],
      "source": [
        "from scipy.optimize import minimize\n",
        "\n",
        "def get_ret_vol_sr(weights): \n",
        "    weights = np.array(weights)\n",
        "    ret = np.sum(log_return.mean() * weights) * 250\n",
        "    vol = np.sqrt(np.dot(weights.T,np.dot(log_return.cov()*252,weights)))\n",
        "    sr = ret/vol \n",
        "    return np.array(sr)\n",
        "    \n",
        "\n",
        "# minimize negative Sharpe Ratio\n",
        "def neg_sharpe(weights): \n",
        "    return get_ret_vol_sr(weights)*-1\n",
        "\n",
        "# check allocation sums to 1\n",
        "def check_sum(weights): \n",
        "    return np.sum(weights) - 1"
      ]
    },
    {
      "cell_type": "code",
      "execution_count": 18,
      "id": "VxR0DeiePMwW",
      "metadata": {
        "id": "VxR0DeiePMwW"
      },
      "outputs": [],
      "source": [
        "# create constraint variable\n",
        "cons = ({'type':'eq','fun':check_sum})"
      ]
    },
    {
      "cell_type": "code",
      "execution_count": 19,
      "id": "N7fr03-cPcSt",
      "metadata": {
        "id": "N7fr03-cPcSt"
      },
      "outputs": [],
      "source": [
        "# create weight boundaries\n",
        "bounds = tuple((0, 1) for stocks in range(len(my_assets)))"
      ]
    },
    {
      "cell_type": "code",
      "execution_count": 20,
      "id": "w9tCkv_cQ6Xr",
      "metadata": {
        "id": "w9tCkv_cQ6Xr"
      },
      "outputs": [],
      "source": [
        "# initial guess\n",
        "# init_guess = [0.1 for stocks in range(len(my_assets))]\n",
        "init_guess = [0.3, 0.5, 0.2]\n",
        "# tuple((0, 1) for stocks in range(len(my_assets)))"
      ]
    },
    {
      "cell_type": "code",
      "execution_count": 21,
      "id": "1XtwTtMMSmeL",
      "metadata": {
        "colab": {
          "base_uri": "https://localhost:8080/"
        },
        "id": "1XtwTtMMSmeL",
        "outputId": "e0a92adb-e68f-4ba5-c254-6a3656d9ca93"
      },
      "outputs": [
        {
          "output_type": "execute_result",
          "data": {
            "text/plain": [
              "-0.3950930150213701"
            ]
          },
          "metadata": {},
          "execution_count": 21
        }
      ],
      "source": [
        "neg_sharpe(weights)"
      ]
    },
    {
      "cell_type": "code",
      "execution_count": 22,
      "id": "azJ6BBaOQ943",
      "metadata": {
        "id": "azJ6BBaOQ943",
        "colab": {
          "base_uri": "https://localhost:8080/"
        },
        "outputId": "4efc4a94-bd86-44c2-c982-362a640df3c7"
      },
      "outputs": [
        {
          "output_type": "execute_result",
          "data": {
            "text/plain": [
              "     fun: -0.592838965233522\n",
              "     jac: array([ 1.99228525e-05, -1.35600567e-06,  4.34355810e-02])\n",
              " message: 'Optimization terminated successfully'\n",
              "    nfev: 24\n",
              "     nit: 6\n",
              "    njev: 6\n",
              "  status: 0\n",
              " success: True\n",
              "       x: array([0.06398172, 0.93601828, 0.        ])"
            ]
          },
          "metadata": {},
          "execution_count": 22
        }
      ],
      "source": [
        "# from scipy.optimize import minimize\n",
        "opt_results = minimize(neg_sharpe, init_guess, method='SLSQP', bounds=bounds, constraints=cons)\n",
        "opt_results"
      ]
    },
    {
      "cell_type": "code",
      "execution_count": 23,
      "id": "KXW0qoxzbdin",
      "metadata": {
        "id": "KXW0qoxzbdin"
      },
      "outputs": [],
      "source": [
        "my_weights = np.array(opt_results.x)\n",
        "my_weights = my_weights.tolist()"
      ]
    },
    {
      "cell_type": "code",
      "execution_count": 24,
      "id": "LzzQFJCpRBLh",
      "metadata": {
        "colab": {
          "base_uri": "https://localhost:8080/"
        },
        "id": "LzzQFJCpRBLh",
        "outputId": "88a7af9a-fa0a-4cab-b6c7-ee09935d94e2"
      },
      "outputs": [
        {
          "output_type": "execute_result",
          "data": {
            "text/plain": [
              "1.0"
            ]
          },
          "metadata": {},
          "execution_count": 24
        }
      ],
      "source": [
        "tot_weights = np.sum(my_weights)\n",
        "tot_weights"
      ]
    },
    {
      "cell_type": "code",
      "execution_count": 25,
      "id": "8rIfmjrMbZJJ",
      "metadata": {
        "colab": {
          "base_uri": "https://localhost:8080/"
        },
        "id": "8rIfmjrMbZJJ",
        "outputId": "c55fd558-e531-4a9a-caf9-fa23fa0f5820"
      },
      "outputs": [
        {
          "output_type": "execute_result",
          "data": {
            "text/plain": [
              "{'JPM': 0.06398171933572919, 'MSFT': 0.9360182806642708, 'WMT': 0.0}"
            ]
          },
          "metadata": {},
          "execution_count": 25
        }
      ],
      "source": [
        "weights_alloc = dict(zip(my_assets, my_weights))\n",
        "weights_alloc"
      ]
    },
    {
      "cell_type": "code",
      "execution_count": 26,
      "id": "83scUJt0fhBp",
      "metadata": {
        "colab": {
          "base_uri": "https://localhost:8080/"
        },
        "id": "83scUJt0fhBp",
        "outputId": "5c81584c-24a7-4d22-acd3-961b7622b60c"
      },
      "outputs": [
        {
          "output_type": "execute_result",
          "data": {
            "text/plain": [
              "['JPM', 'MSFT', 'WMT']"
            ]
          },
          "metadata": {},
          "execution_count": 26
        }
      ],
      "source": [
        "my_assets"
      ]
    },
    {
      "cell_type": "code",
      "execution_count": 27,
      "id": "3qXicxqgfesq",
      "metadata": {
        "colab": {
          "base_uri": "https://localhost:8080/"
        },
        "id": "3qXicxqgfesq",
        "outputId": "b173ab46-53fe-46a1-d241-3e64ef2b42ef"
      },
      "outputs": [
        {
          "output_type": "stream",
          "name": "stdout",
          "text": [
            "sharpe ratio of your porrtfolio after optimization is  0.7713879100138631\n"
          ]
        }
      ],
      "source": [
        "ret = np.sum(log_return.mean() * my_weights) * 252 # returns of a portfolio after optimum weight allocation\n",
        "vol = np.sqrt(np.dot(weights.T,np.dot(log_return.cov()*252,my_weights))) # risk of a portfolio after optimum weight allocation\n",
        "sharpe_ratio = ret/vol # sharpe ratio of a portfolio after optimum weight allocation\n",
        "print(\"sharpe ratio of your porrtfolio after optimization is \", sharpe_ratio)\n",
        "\n",
        "risk_ret_dict_of_quantum = {\n",
        "    'returns' : ret*100,\n",
        "    'risk' : vol*100, \n",
        "    'sharpe_ratio' : sharpe_ratio \n",
        "}"
      ]
    },
    {
      "cell_type": "code",
      "execution_count": 28,
      "id": "c286190f",
      "metadata": {
        "colab": {
          "base_uri": "https://localhost:8080/"
        },
        "id": "c286190f",
        "outputId": "334c1179-b991-4f59-b7e4-277dcad48274"
      },
      "outputs": [
        {
          "output_type": "execute_result",
          "data": {
            "text/plain": [
              "{'returns': 13.67862355368247,\n",
              " 'risk': 17.732483716832746,\n",
              " 'sharpe_ratio': 0.7713879100138631}"
            ]
          },
          "metadata": {},
          "execution_count": 28
        }
      ],
      "source": [
        "risk_ret_dict_of_quantum"
      ]
    },
    {
      "cell_type": "code",
      "execution_count": 29,
      "id": "OphZn6Dwf8xY",
      "metadata": {
        "colab": {
          "base_uri": "https://localhost:8080/",
          "height": 248
        },
        "id": "OphZn6Dwf8xY",
        "outputId": "1163ea0e-0310-4407-d1cb-c288686d0b26"
      },
      "outputs": [
        {
          "output_type": "display_data",
          "data": {
            "text/plain": [
              "<Figure size 432x288 with 1 Axes>"
            ],
            "image/png": "[encoded data removed]"
          },
          "metadata": {}
        }
      ],
      "source": [
        "import matplotlib.pyplot as plt\n",
        "import numpy as np\n",
        "\n",
        "y = np.array(weights)\n",
        "mylabels = my_assets\n",
        "\n",
        "plt.pie(y, labels = mylabels)\n",
        "plt.show()"
      ]
    },
    {
      "cell_type": "code",
      "execution_count": 30,
      "id": "AphQCFMkgFW8",
      "metadata": {
        "id": "AphQCFMkgFW8"
      },
      "outputs": [],
      "source": [
        "# 4_stocks= [\"JPM\", \"GS\", \"MSFT\", \"WMT\"]\n",
        "# 6_stocks= [\"JPM\", \"GS\", \"MSFT\", \"AAPL\", \"WMT\", \"MCD\"]\n",
        "# 8_stocks= [\"JPM\", \"GS\", \"MSFT\", \"AAPL\", \"KO\", \"WMT\", \"MCD\", \"NKE\"]\n",
        "# 10_stocks=[\"JPM\", \"GS\", \"MSFT\", \"AAPL\", \"KO\", \"WMT\", \"DIS\", \"BA\", \"MCD\", \"NKE\"]"
      ]
    },
    {
      "cell_type": "markdown",
      "id": "edeb8003",
      "metadata": {
        "id": "edeb8003"
      },
      "source": []
    },
    {
      "cell_type": "markdown",
      "id": "4dc63729",
      "metadata": {
        "id": "4dc63729"
      },
      "source": [
        "## MPT CODE to benchmark "
      ]
    },
    {
      "cell_type": "markdown",
      "id": "029a01f8",
      "metadata": {
        "id": "029a01f8"
      },
      "source": []
    },
    {
      "cell_type": "code",
      "execution_count": 30,
      "id": "d86fcc3b",
      "metadata": {
        "id": "d86fcc3b"
      },
      "outputs": [],
      "source": []
    },
    {
      "cell_type": "code",
      "execution_count": 30,
      "id": "0b89224d",
      "metadata": {
        "id": "0b89224d"
      },
      "outputs": [],
      "source": []
    },
    {
      "cell_type": "code",
      "execution_count": 31,
      "id": "3908c9eb",
      "metadata": {
        "id": "3908c9eb"
      },
      "outputs": [],
      "source": [
        "import numpy as np\n",
        "import yfinance as yf\n",
        "import pandas as pd\n",
        "import matplotlib.pyplot as plt\n",
        "import scipy.optimize as optimization"
      ]
    },
    {
      "cell_type": "code",
      "execution_count": 32,
      "id": "3e35d96d",
      "metadata": {
        "id": "3e35d96d"
      },
      "outputs": [],
      "source": [
        "NUM_TRADING_DAYS = 252 #252*5 cosnidered previously\n",
        "NUM_PORTFOLIOS = 10000\n",
        "stocks = [\"JPM\", \"GS\", \"MSFT\", \"WMT\"]"
      ]
    },
    {
      "cell_type": "code",
      "execution_count": 33,
      "id": "9afa958f",
      "metadata": {
        "id": "9afa958f"
      },
      "outputs": [],
      "source": [
        "start_date = '2011-01-01' # YY/MM/DD\n",
        "end_date = '2015-12-31'   # YY/MM/DD"
      ]
    },
    {
      "cell_type": "code",
      "execution_count": 34,
      "id": "b9817251",
      "metadata": {
        "id": "b9817251"
      },
      "outputs": [],
      "source": [
        "def download_data():\n",
        "    stocks_data = yf.download(stocks, start = '2011-1-1', end = '2015-12-31')['Adj Close']\n",
        "    # stocks_data.head()\n",
        "    return pd.DataFrame(stocks_data)"
      ]
    },
    {
      "cell_type": "code",
      "execution_count": 35,
      "id": "d7b68df6",
      "metadata": {
        "id": "d7b68df6"
      },
      "outputs": [],
      "source": [
        "def show_data(data):\n",
        "    data.plot(figsize=(8, 5))\n",
        "    plt.show()\n",
        "\n",
        "# show_data(data)"
      ]
    },
    {
      "cell_type": "code",
      "execution_count": 36,
      "id": "a1a9ee73",
      "metadata": {
        "id": "a1a9ee73"
      },
      "outputs": [],
      "source": [
        "def calculate_return(data):\n",
        "    log_return = np.log(data / data.shift(1))\n",
        "    return log_return[1:]"
      ]
    },
    {
      "cell_type": "code",
      "execution_count": 37,
      "id": "12ffb68c",
      "metadata": {
        "id": "12ffb68c"
      },
      "outputs": [],
      "source": [
        "def show_statistics(returns):\n",
        "    print(returns.mean() * NUM_TRADING_DAYS)\n",
        "    print(returns.cov() * NUM_TRADING_DAYS)"
      ]
    },
    {
      "cell_type": "code",
      "execution_count": 38,
      "id": "d67fd74b",
      "metadata": {
        "id": "d67fd74b"
      },
      "outputs": [],
      "source": [
        "def show_mean_variance(returns, weights):\n",
        "    portfolio_return = np.sum(returns.mean() * weights) * NUM_TRADING_DAYS\n",
        "    portfolio_volatility = np.sqrt(np.dot(weights, np.dot(returns.cov() * NUM_TRADING_DAYS, weights)))\n",
        "    print('Expected portfolio mean: ', portfolio_return)\n",
        "    print('Expected portfolio volatility: ', portfolio_volatility)\n",
        "    print(\"sharpe ratio of a portfolio is \", portfolio_return/portfolio_volatility)"
      ]
    },
    {
      "cell_type": "code",
      "execution_count": 39,
      "id": "6bfb8545",
      "metadata": {
        "id": "6bfb8545"
      },
      "outputs": [],
      "source": [
        "def show_portfolios(returns, volatilities):\n",
        "    plt.figure(figsize=(8, 5))\n",
        "    plt.scatter(volatilities, returns, c=returns / volatilities, marker='o')\n",
        "    plt.grid(True)\n",
        "    plt.xlabel('Expected Volatility')\n",
        "    plt.ylabel('Expected Return')\n",
        "    plt.colorbar(label='Sharpe Ratio')\n",
        "    plt.show()"
      ]
    },
    {
      "cell_type": "code",
      "execution_count": 40,
      "id": "272e2b8f",
      "metadata": {
        "id": "272e2b8f"
      },
      "outputs": [],
      "source": [
        "def generate_portfolios(returns):\n",
        "    portfolio_means = []\n",
        "    portfolio_risks = []\n",
        "    portfolio_weights = []"
      ]
    },
    {
      "cell_type": "code",
      "execution_count": 41,
      "id": "3a425e98",
      "metadata": {
        "id": "3a425e98"
      },
      "outputs": [],
      "source": [
        "def generate_portfolios(returns):\n",
        "    portfolio_means = []\n",
        "    portfolio_risks = []\n",
        "    portfolio_weights = []\n",
        "\n",
        "    for _ in range(NUM_PORTFOLIOS):\n",
        "        w = np.random.random(len(stocks))\n",
        "        w /= np.sum(w)\n",
        "        portfolio_weights.append(w)\n",
        "        portfolio_means.append(np.sum(returns.mean() * w) * NUM_TRADING_DAYS)\n",
        "        portfolio_risks.append(np.sqrt(np.dot(w.T, np.dot(returns.cov() * NUM_TRADING_DAYS, w))))\n",
        "\n",
        "    return np.array(portfolio_weights), np.array(portfolio_means), np.array(portfolio_risks)"
      ]
    },
    {
      "cell_type": "code",
      "execution_count": 42,
      "id": "7d1e8c11",
      "metadata": {
        "id": "7d1e8c11"
      },
      "outputs": [],
      "source": [
        "def statistics(weights, returns):\n",
        "    portfolio_return = np.sum(returns.mean() * weights) * NUM_TRADING_DAYS\n",
        "    portfolio_volatility = np.sqrt(np.dot(weights.T, np.dot(returns.cov() * NUM_TRADING_DAYS, weights)))\n",
        "\n",
        "    return np.array([portfolio_return, portfolio_volatility, portfolio_return / portfolio_volatility])"
      ]
    },
    {
      "cell_type": "code",
      "execution_count": 43,
      "id": "0c3d9392",
      "metadata": {
        "id": "0c3d9392"
      },
      "outputs": [],
      "source": [
        "def min_function_sharpe(weights, returns):\n",
        "    return -statistics(weights, returns)[2]"
      ]
    },
    {
      "cell_type": "code",
      "execution_count": 44,
      "id": "33a6fa02",
      "metadata": {
        "id": "33a6fa02"
      },
      "outputs": [],
      "source": [
        "def optimize_portfolio(weights, returns):\n",
        "    constraints = {'type': 'eq', 'fun': lambda x: np.sum(x) - 1}\n",
        "    bounds = tuple((0, 1) for _ in range(len(stocks)))\n",
        "    return optimization.minimize(fun=min_function_sharpe, x0=weights[0], args=returns, method='SLSQP',\n",
        "                                 bounds=bounds, constraints=constraints)\n"
      ]
    },
    {
      "cell_type": "code",
      "execution_count": 45,
      "id": "38b881aa",
      "metadata": {
        "id": "38b881aa"
      },
      "outputs": [],
      "source": [
        "def print_optimal_portfolio(optimum, returns):\n",
        "    print('Optimal Portfolio: ', optimum['x'].round(3))\n",
        "    print('Expected return, volatility and sharpe ratio: ', statistics(optimum['x'].round(3), returns))\n"
      ]
    },
    {
      "cell_type": "code",
      "execution_count": 46,
      "id": "ccc92332",
      "metadata": {
        "id": "ccc92332"
      },
      "outputs": [],
      "source": [
        "def show_optimal_portfolio(opt, rets, portfolio_rets, portfolio_vols):\n",
        "    plt.figure(figsize=(8, 5))\n",
        "    plt.scatter(portfolio_vols, portfolio_rets, c=portfolio_rets / portfolio_vols, marker='o')\n",
        "    plt.grid(True)\n",
        "    plt.xlabel('Expected Volatility')\n",
        "    plt.ylabel('Expected Return')\n",
        "    plt.colorbar(label='Sharpe Ratio')\n",
        "    plt.plot(statistics(opt['x'], rets)[1], statistics(opt['x'], rets)[0], 'g*', markersize=20.0)\n",
        "    plt.show()\n"
      ]
    },
    {
      "cell_type": "code",
      "execution_count": 47,
      "id": "bfc3a6c3",
      "metadata": {
        "colab": {
          "base_uri": "https://localhost:8080/",
          "height": 1000
        },
        "id": "bfc3a6c3",
        "outputId": "7c5123e6-9aae-416c-bca0-bc57752a60b3"
      },
      "outputs": [
        {
          "output_type": "stream",
          "name": "stdout",
          "text": [
            "[*********************100%***********************]  4 of 4 completed\n"
          ]
        },
        {
          "output_type": "display_data",
          "data": {
            "text/plain": [
              "<Figure size 576x360 with 1 Axes>"
            ],
            "image/png": "[encoded data removed]"
          },
          "metadata": {
            "needs_background": "light"
          }
        },
        {
          "output_type": "display_data",
          "data": {
            "text/plain": [
              "<Figure size 576x360 with 2 Axes>"
            ],
            "image/png": "[encoded data removed]"
          },
          "metadata": {
            "needs_background": "light"
          }
        },
        {
          "output_type": "stream",
          "name": "stdout",
          "text": [
            "Optimal Portfolio:  [0.    0.085 0.812 0.103]\n",
            "Expected return, volatility and sharpe ratio:  [0.15104287 0.20915441 0.72215962]\n"
          ]
        },
        {
          "output_type": "display_data",
          "data": {
            "text/plain": [
              "<Figure size 576x360 with 2 Axes>"
            ],
            "image/png": "[encoded data removed]"
          },
          "metadata": {
            "needs_background": "light"
          }
        }
      ],
      "source": [
        "if __name__ == '__main__':\n",
        "    # print(download_data())\n",
        "    dataset = download_data()\n",
        "    show_data(dataset)\n",
        "    log_daily_returns = calculate_return(dataset)\n",
        "    # show_statistics(log_daily_returns)\n",
        "    # show_mean_variance(log_daily_returns, [0.1, 0.2, 0.3, 0.2, 0.1, 0.1])\n",
        "    pweights, means, risks = generate_portfolios(log_daily_returns)\n",
        "    show_portfolios(means, risks)\n",
        "    optimum = optimize_portfolio(pweights, log_daily_returns)\n",
        "    print_optimal_portfolio(optimum, log_daily_returns)\n",
        "    show_optimal_portfolio(optimum, log_daily_returns, means, risks)"
      ]
    },
    {
      "cell_type": "code",
      "source": [
        "risk_ret_dict_of_quantum"
      ],
      "metadata": {
        "colab": {
          "base_uri": "https://localhost:8080/"
        },
        "id": "NIUzraWRpITm",
        "outputId": "c3c8c957-5972-4fbb-e20b-1401227f4dc9"
      },
      "id": "NIUzraWRpITm",
      "execution_count": 48,
      "outputs": [
        {
          "output_type": "execute_result",
          "data": {
            "text/plain": [
              "{'returns': 13.67862355368247,\n",
              " 'risk': 17.732483716832746,\n",
              " 'sharpe_ratio': 0.7713879100138631}"
            ]
          },
          "metadata": {},
          "execution_count": 48
        }
      ]
    },
    {
      "cell_type": "code",
      "source": [],
      "metadata": {
        "id": "Zgot83SksC1L"
      },
      "id": "Zgot83SksC1L",
      "execution_count": 48,
      "outputs": []
    }
  ],
  "metadata": {
    "colab": {
      "collapsed_sections": [],
      "provenance": []
    },
    "kernelspec": {
      "display_name": "Python 3.8.0 ('quantum-qiskit')",
      "language": "python",
      "name": "python3"
    },
    "language_info": {
      "codemirror_mode": {
        "name": "ipython",
        "version": 3
      },
      "file_extension": ".py",
      "mimetype": "text/x-python",
      "name": "python",
      "nbconvert_exporter": "python",
      "pygments_lexer": "ipython3",
      "version": "3.8.0"
    },
    "vscode": {
      "interpreter": {
        "hash": "22cb6fd05822f170cc2b76bad925994d7e6c545045ad3bc53e0ea083a8e23cc4"
      }
    }
  },
  "nbformat": 4,
  "nbformat_minor": 5
}