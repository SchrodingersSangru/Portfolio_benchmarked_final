{
  "cells": [
    {
      "cell_type": "code",
      "execution_count": null,
      "id": "3I7KhMfyiYcU",
      "metadata": {
        "id": "3I7KhMfyiYcU"
      },
      "outputs": [],
      "source": [
        "# !pip install qiskit"
      ]
    },
    {
      "cell_type": "code",
      "execution_count": null,
      "id": "hSFpxNnqjEwC",
      "metadata": {
        "id": "hSFpxNnqjEwC"
      },
      "outputs": [],
      "source": [
        "# !pip install qiskit-finance"
      ]
    },
    {
      "cell_type": "code",
      "execution_count": null,
      "id": "a3ca350e",
      "metadata": {
        "id": "a3ca350e"
      },
      "outputs": [],
      "source": [
        "#importing the required stuff\n",
        "from qiskit import Aer\n",
        "from qiskit.algorithms import VQE, QAOA, NumPyMinimumEigensolver\n",
        "from qiskit.algorithms.optimizers import COBYLA, SPSA\n",
        "from qiskit.circuit.library import TwoLocal\n",
        "from qiskit.utils import QuantumInstance\n",
        "from qiskit_finance.applications.optimization import PortfolioOptimization\n",
        "from qiskit_finance.data_providers import *\n",
        "from qiskit_finance import QiskitFinanceError\n",
        "from qiskit_optimization.algorithms import MinimumEigenOptimizer\n",
        "from qiskit_optimization.applications import OptimizationApplication\n",
        "from qiskit_optimization.converters import QuadraticProgramToQubo\n",
        "import numpy as np\n",
        "import matplotlib.pyplot as plt\n",
        "\n",
        "import datetime\n",
        "import pandas as pd\n",
        "from pandas.plotting import register_matplotlib_converters\n",
        "register_matplotlib_converters()\n",
        "import csv\n",
        "import yfinance as yf\n",
        "import pandas_datareader.data as web\n",
        "from qiskit_finance.applications.optimization import PortfolioDiversification"
      ]
    },
    {
      "cell_type": "code",
      "execution_count": null,
      "id": "1b6ad0d8",
      "metadata": {
        "id": "1b6ad0d8"
      },
      "outputs": [],
      "source": [
        "%matplotlib inline"
      ]
    },
    {
      "cell_type": "code",
      "execution_count": null,
      "id": "25cdcbc2",
      "metadata": {
        "id": "25cdcbc2"
      },
      "outputs": [],
      "source": [
        "# set number of assets (= number of qubits)\n",
        "\n",
        "seed = 123\n",
        "\n",
        "assets = [\"JPM\", \"GS\", \"MSFT\", \"AAPL\", \"KO\", \"WMT\", \"MCD\", \"NKE\", \"V\", \"MMM\", \"AXP\", \"CAT\", \"CVX\", \"CSCO\", \"PG\", \"JNJ\" ]\n",
        "\n",
        "\n",
        "# Using data from yahoo finance\n",
        "# use the name listed for particular company that you wish to add\n",
        "\n",
        "data = YahooDataProvider(\n",
        "        tickers= assets , \n",
        "        start=datetime.datetime(2011, 1, 1),\n",
        "        end=datetime.datetime(2015, 12, 31),\n",
        "    )\n",
        "\n",
        "num_assets = len(assets)\n",
        "data.run()\n",
        "\n",
        "mu = data.get_period_return_mean_vector()\n",
        "sigma = data.get_period_return_covariance_matrix()\n",
        "rho = data.get_similarity_matrix()\n",
        "# print(rho)\n"
      ]
    },
    {
      "cell_type": "code",
      "execution_count": null,
      "id": "50530cf1",
      "metadata": {
        "colab": {
          "base_uri": "https://localhost:8080/",
          "height": 265
        },
        "id": "50530cf1",
        "outputId": "2aa3f89e-0a1d-4ed2-a34e-3ea7b548bd56"
      },
      "outputs": [
        {
          "output_type": "display_data",
          "data": {
            "text/plain": [
              "<Figure size 432x288 with 1 Axes>"
            ],
            "image/png": "[encoded data removed]"
          },
          "metadata": {
            "needs_background": "light"
          }
        }
      ],
      "source": [
        "# plot sigma\n",
        "plt.imshow(sigma, interpolation=\"nearest\")\n",
        "plt.show()"
      ]
    },
    {
      "cell_type": "code",
      "execution_count": null,
      "id": "14567144",
      "metadata": {
        "colab": {
          "base_uri": "https://localhost:8080/"
        },
        "id": "14567144",
        "outputId": "1764b0e2-9b5b-4130-9724-4707950e28be"
      },
      "outputs": [
        {
          "output_type": "execute_result",
          "data": {
            "text/plain": [
              "<QuadraticProgram: minimize 0.00014417207292470515*x_0^2 + 0.00023453211391046..., 16 variables, 1 constraints, 'Portfolio optimization'>"
            ]
          },
          "metadata": {},
          "execution_count": 7
        }
      ],
      "source": [
        "q = 0.5  # set risk factor\n",
        "budget = num_assets // 2  # set budget\n",
        "penalty = num_assets  # set parameter to scale the budget penalty term\n",
        "\n",
        "\n",
        "portfolio = PortfolioOptimization(\n",
        "    expected_returns=mu, covariances=sigma, risk_factor=q, budget=budget,\n",
        ")\n",
        "qp = portfolio.to_quadratic_program()\n",
        "qp"
      ]
    },
    {
      "cell_type": "code",
      "execution_count": null,
      "id": "e71dce01",
      "metadata": {
        "id": "e71dce01"
      },
      "outputs": [],
      "source": [
        "def index_to_selection(i, num_assets):\n",
        "    s = \"{0:b}\".format(i).rjust(num_assets)\n",
        "    x = np.array([1 if s[i] == \"1\" else 0 for i in reversed(range(num_assets))])\n",
        "    return x\n",
        "\n",
        "\n",
        "def print_result( result, fname):\n",
        "    \n",
        "    f = open(fname, 'w')\n",
        "    header = ['SELECTION', 'VALUE', 'PROBABLITY']\n",
        "    writer = csv.writer(f)\n",
        "    writer.writerow(header)\n",
        "    \n",
        "    selection = result.x\n",
        "    value = result.fval\n",
        "    print(\"Optimal: selection {}, value {:.4f}\".format(selection, value))\n",
        "\n",
        "    # eigenstate = result.min_eigen_solver_result.eigenstate\n",
        "    # eigenvector = eigenstate if isinstance(eigenstate, np.ndarray) else eigenstate.to_matrix()\n",
        "    # probabilities = np.abs(eigenvector) ** 2 \n",
        "    # i_sorted = reversed(np.argsort(probabilities))\n",
        "    print(\"\\n----------------- Full result ---------------------\")\n",
        "    # print(\"selection\\tvalue\\t\\tprobability\")\n",
        "    # print(\"---------------------------------------------------\")\n",
        "    # for i in i_sorted:\n",
        "    #     x = index_to_selection(i, num_assets)\n",
        "    #     value = QuadraticProgramToQubo().convert(qp).objective.evaluate(x)\n",
        "    #     # value = portfolio.to_quadratic_program().objective.evaluate(x)\n",
        "    #     probability = probabilities[i]\n",
        "    #     row = [x, value, probability]\n",
        "    #     writer.writerow(row)\n",
        "    #     # print(\"%10s\\t%.4f\\t\\t%.4f\" % (x, value, probability))\n",
        "    f.close()\n"
      ]
    },
    {
      "cell_type": "code",
      "execution_count": null,
      "id": "95721b99",
      "metadata": {
        "colab": {
          "base_uri": "https://localhost:8080/"
        },
        "id": "95721b99",
        "outputId": "8c89c401-6fde-445b-a406-53c80f3d8737"
      },
      "outputs": [
        {
          "output_type": "stream",
          "name": "stdout",
          "text": [
            "Optimal: selection [0. 0. 1. 1. 1. 0. 1. 1. 1. 1. 0. 0. 0. 0. 0. 1.], value -0.0036\n",
            "\n",
            "----------------- Full result ---------------------\n"
          ]
        }
      ],
      "source": [
        "#classical reference solution\n",
        "#provide fname ='complete address/location of your .csv file'\n",
        "\n",
        "exact_mes = NumPyMinimumEigensolver()\n",
        "exact_eigensolver = MinimumEigenOptimizer(exact_mes)\n",
        "\n",
        "result = exact_eigensolver.solve(qp)\n",
        "fname = 'nes1.csv' #change the location and nsame of .csv file\n",
        "\n",
        "print_result(result,fname)"
      ]
    },
    {
      "cell_type": "code",
      "execution_count": null,
      "id": "SotSnxc2P44M",
      "metadata": {
        "id": "SotSnxc2P44M"
      },
      "outputs": [],
      "source": [
        "# !pip install qiskit-aer"
      ]
    },
    {
      "cell_type": "code",
      "source": [
        "# VQE solution\n",
        "#provide fname ='complete address/location of your .csv file'\n",
        "\n",
        "from qiskit.utils import algorithm_globals\n",
        "\n",
        "algorithm_globals.random_seed = 1234\n",
        "backend = Aer.get_backend(\"qasm_simulator\")\n",
        "\n",
        "cobyla = COBYLA()\n",
        "cobyla.set_options(maxiter=500)\n",
        "ry = TwoLocal(num_assets, \"ry\", \"cz\", reps=3, entanglement=\"full\")\n",
        "quantum_instance = QuantumInstance(backend=backend, shots=8192, seed_simulator=seed, seed_transpiler=seed)\n",
        "vqe_mes = VQE(ry, optimizer=cobyla, quantum_instance=quantum_instance)\n",
        "vqe = MinimumEigenOptimizer(vqe_mes)\n",
        "result = vqe.solve(qp)\n",
        "\n",
        "fname = 'vqe1.csv' #change the location and name of .csv file\n",
        "print_result(result, fname)\n",
        "\n",
        "\n",
        "# initialize VQE using CVaR\n",
        "# cvar_exp = CVaRExpectation(0.1, PauliExpectation())\n",
        "# vqe = VQE(\n",
        "#     expectation=cvar_exp,\n",
        "#     optimizer=optimizer,\n",
        "#     ansatz=ansatz,\n",
        "#     quantum_instance=backend,\n",
        "#     # callback=store_intermediate_result,\n",
        "# )\n",
        "\n",
        "#[0. 0. 1. 1. 1. 0. 1. 1. 1. 1. 0. 0. 0. 0. 0. 1.] --numpy exact solver"
      ],
      "metadata": {
        "colab": {
          "base_uri": "https://localhost:8080/"
        },
        "id": "x-3-GNBJvaFC",
        "outputId": "72609b86-ab4c-4fa9-ac03-d32ad5fe488a"
      },
      "id": "x-3-GNBJvaFC",
      "execution_count": null,
      "outputs": [
        {
          "output_type": "stream",
          "name": "stdout",
          "text": [
            "Optimal: selection [0. 0. 1. 0. 1. 1. 1. 1. 1. 0. 1. 0. 0. 0. 1. 0.], value -0.0028\n",
            "\n",
            "----------------- Full result ---------------------\n"
          ]
        }
      ]
    },
    {
      "cell_type": "code",
      "execution_count": 13,
      "id": "f0d47626",
      "metadata": {
        "id": "f0d47626",
        "colab": {
          "base_uri": "https://localhost:8080/"
        },
        "outputId": "8dac000c-1596-46f2-a04a-115f72d14245"
      },
      "outputs": [
        {
          "output_type": "stream",
          "name": "stdout",
          "text": [
            "Optimal: selection [0. 0. 1. 1. 0. 1. 0. 1. 1. 1. 0. 0. 0. 0. 1. 1.], value -0.0033\n",
            "\n",
            "----------------- Full result ---------------------\n",
            "CPU times: user 25min 48s, sys: 5.25 s, total: 25min 53s\n",
            "Wall time: 25min 34s\n"
          ]
        }
      ],
      "source": [
        "%%time \n",
        "# VQE solution\n",
        "#provide fname ='complete address/location of your .csv file'\n",
        "\n",
        "from qiskit.utils import algorithm_globals\n",
        "\n",
        "algorithm_globals.random_seed = 1234\n",
        "backend = Aer.get_backend(\"qasm_simulator\")\n",
        "\n",
        "cobyla = SPSA()\n",
        "cobyla.set_options(maxiter=3000)\n",
        "ry = TwoLocal(num_assets, \"ry\", \"cz\", reps=3, entanglement=\"full\")\n",
        "quantum_instance = QuantumInstance(backend=backend, shots=8192, seed_simulator=seed, seed_transpiler=seed)\n",
        "vqe_mes = VQE(ry, optimizer=cobyla, quantum_instance=quantum_instance)\n",
        "vqe = MinimumEigenOptimizer(vqe_mes)\n",
        "result = vqe.solve(qp)\n",
        "\n",
        "fname = 'vqe1.csv' #change the location and name of .csv file\n",
        "print_result(result, fname)\n",
        "# print(result)\n",
        "\n",
        "#[0. 0. 1. 1. 1. 0. 1. 1. 1. 1. 0. 0. 0. 0. 0. 1.] --numpy exact solver"
      ]
    },
    {
      "cell_type": "markdown",
      "source": [
        "### as you can see here with 8 assets, with vqe n cobyla our results are not so good or no near to MPT seleccted assets. \n",
        "### but VQE n SPSA, same results as numpy_exact_solver and MPT are getting produces. \n"
      ],
      "metadata": {
        "id": "DDVd3mR20xOR"
      },
      "id": "DDVd3mR20xOR"
    },
    {
      "cell_type": "code",
      "execution_count": 14,
      "id": "e1e17bcb",
      "metadata": {
        "id": "e1e17bcb",
        "colab": {
          "base_uri": "https://localhost:8080/"
        },
        "outputId": "e37db456-1ac1-4017-ad11-9113b82dd113"
      },
      "outputs": [
        {
          "output_type": "stream",
          "name": "stdout",
          "text": [
            "Optimal: selection [0. 0. 1. 1. 1. 1. 1. 1. 1. 1. 0. 0. 0. 0. 0. 0.], value -0.0033\n",
            "\n",
            "----------------- Full result ---------------------\n",
            "CPU times: user 18min 49s, sys: 4 s, total: 18min 53s\n",
            "Wall time: 18min 51s\n"
          ]
        }
      ],
      "source": [
        "%%time \n",
        "# QAOA solution\n",
        "#provide fname ='complete address/location of your .csv file'\n",
        "\n",
        "algorithm_globals.random_seed = 1234\n",
        "backend = Aer.get_backend(\"qasm_simulator\")\n",
        "\n",
        "cobyla = COBYLA()\n",
        "cobyla.set_options(maxiter=250)\n",
        "quantum_instance = QuantumInstance(backend=backend, shots=8192, seed_simulator=seed, seed_transpiler=seed)\n",
        "qaoa_mes = QAOA(optimizer=cobyla, reps=3, quantum_instance=quantum_instance)\n",
        "qaoa = MinimumEigenOptimizer(qaoa_mes)\n",
        "result = qaoa.solve(qp)\n",
        "\n",
        "fname = 'qaoa1.csv' #change the location and name of .csv file\n",
        "print_result(result, fname)\n",
        "\n",
        "# [0. 0. 1. 1. 0. 1.] -numpy exact solver"
      ]
    },
    {
      "cell_type": "code",
      "source": [
        "# %%time \n",
        "# # QAOA solution\n",
        "# #provide fname ='complete address/location of your .csv file'\n",
        "\n",
        "# algorithm_globals.random_seed = 1234\n",
        "# backend = Aer.get_backend(\"qasm_simulator\")\n",
        "\n",
        "# cobyla = SPSA()\n",
        "# cobyla.set_options(maxiter=250)\n",
        "# quantum_instance = QuantumInstance(backend=backend, shots=8192, seed_simulator=seed, seed_transpiler=seed)\n",
        "# qaoa_mes = QAOA(optimizer=cobyla, reps=3, quantum_instance=quantum_instance)\n",
        "# qaoa = MinimumEigenOptimizer(qaoa_mes)\n",
        "# result = qaoa.solve(qp)\n",
        "\n",
        "# fname = 'qaoa1.csv' #change the location and name of .csv file\n",
        "# print_result(result, fname)\n",
        "\n",
        "# # [0. 0. 1. 1. 0. 1.] -numpy exact solver"
      ],
      "metadata": {
        "id": "tmfvxUr9tdIr"
      },
      "id": "tmfvxUr9tdIr",
      "execution_count": 80,
      "outputs": []
    },
    {
      "cell_type": "markdown",
      "source": [],
      "metadata": {
        "id": "UtaD8VHTz6WI"
      },
      "id": "UtaD8VHTz6WI"
    },
    {
      "cell_type": "markdown",
      "source": [
        "#### weight allocation part after asset selection using quantum"
      ],
      "metadata": {
        "id": "4-NjMNcEnsTz"
      },
      "id": "4-NjMNcEnsTz"
    },
    {
      "cell_type": "code",
      "execution_count": 64,
      "id": "9c0de3f5",
      "metadata": {
        "id": "9c0de3f5",
        "colab": {
          "base_uri": "https://localhost:8080/"
        },
        "outputId": "4155def6-8651-4413-c300-9aeb89151dcd"
      },
      "outputs": [
        {
          "output_type": "stream",
          "name": "stdout",
          "text": [
            "your lucky assets are  ['MSFT', 'AAPL', 'KO', 'WMT', 'MCD', 'NKE', 'V', 'MMM']\n"
          ]
        }
      ],
      "source": [
        "# selected_assets = [0, 0, 1, 1, 1, 0, 1, 1, 1, 1, 0, 0, 0, 0, 0, 1]\n",
        "\n",
        "selected_assets = [0, 0, 1, 1, 1, 1, 1, 1, 1, 1, 0, 0, 0, 0, 0, 0]\n",
        "assets = [\"JPM\", \"GS\", \"MSFT\", \"AAPL\", \"KO\", \"WMT\", \"MCD\", \"NKE\", \"V\", \"MMM\", \"AXP\", \"CAT\", \"CVX\", \"CSCO\", \"PG\", \"JNJ\" ]\n",
        "\n",
        "selected_bitstring = [i for i, e in enumerate(selected_assets) if e == 1]\n",
        "# print(selected_bitstring)\n",
        "my_assets = [assets[i] for i in selected_bitstring]\n",
        "print(\"your lucky assets are \",my_assets)"
      ]
    },
    {
      "cell_type": "code",
      "execution_count": 65,
      "id": "Avqhq9mOaevq",
      "metadata": {
        "id": "Avqhq9mOaevq",
        "colab": {
          "base_uri": "https://localhost:8080/",
          "height": 256
        },
        "outputId": "ef6ea576-6f01-43ac-ec32-b6e96866c90e"
      },
      "outputs": [
        {
          "output_type": "stream",
          "name": "stdout",
          "text": [
            "[*********************100%***********************]  8 of 8 completed\n"
          ]
        },
        {
          "output_type": "execute_result",
          "data": {
            "text/plain": [
              "                 AAPL         KO        MCD        MMM       MSFT        NKE  \\\n",
              "Date                                                                           \n",
              "2011-01-03  10.049907  22.830099  55.079609  62.327366  21.917925  18.765163   \n",
              "2011-01-04  10.102357  22.357538  53.432991  62.241196  22.004093  18.303070   \n",
              "2011-01-05  10.184993  22.224524  53.684669  62.241196  21.933594  18.422945   \n",
              "2011-01-06  10.176762  22.063494  53.361069  61.860577  22.575933  18.257296   \n",
              "2011-01-07  10.249641  22.024988  53.476116  61.925198  22.403599  18.207157   \n",
              "\n",
              "                    V        WMT  \n",
              "Date                              \n",
              "2011-01-03  16.221111  41.665161  \n",
              "2011-01-04  16.239511  41.825508  \n",
              "2011-01-05  16.582243  41.550606  \n",
              "2011-01-06  16.830664  41.206951  \n",
              "2011-01-07  16.782368  41.298592  "
            ],
            "text/html": [
              "\n",
              "  <div id=\"df-5e61ff8f-eb05-4da4-8dce-dca6ea94ce06\">\n",
              "    <div class=\"colab-df-container\">\n",
              "      <div>\n",
              "<style scoped>\n",
              "    .dataframe tbody tr th:only-of-type {\n",
              "        vertical-align: middle;\n",
              "    }\n",
              "\n",
              "    .dataframe tbody tr th {\n",
              "        vertical-align: top;\n",
              "    }\n",
              "\n",
              "    .dataframe thead th {\n",
              "        text-align: right;\n",
              "    }\n",
              "</style>\n",
              "<table border=\"1\" class=\"dataframe\">\n",
              "  <thead>\n",
              "    <tr style=\"text-align: right;\">\n",
              "      <th></th>\n",
              "      <th>AAPL</th>\n",
              "      <th>KO</th>\n",
              "      <th>MCD</th>\n",
              "      <th>MMM</th>\n",
              "      <th>MSFT</th>\n",
              "      <th>NKE</th>\n",
              "      <th>V</th>\n",
              "      <th>WMT</th>\n",
              "    </tr>\n",
              "    <tr>\n",
              "      <th>Date</th>\n",
              "      <th></th>\n",
              "      <th></th>\n",
              "      <th></th>\n",
              "      <th></th>\n",
              "      <th></th>\n",
              "      <th></th>\n",
              "      <th></th>\n",
              "      <th></th>\n",
              "    </tr>\n",
              "  </thead>\n",
              "  <tbody>\n",
              "    <tr>\n",
              "      <th>2011-01-03</th>\n",
              "      <td>10.049907</td>\n",
              "      <td>22.830099</td>\n",
              "      <td>55.079609</td>\n",
              "      <td>62.327366</td>\n",
              "      <td>21.917925</td>\n",
              "      <td>18.765163</td>\n",
              "      <td>16.221111</td>\n",
              "      <td>41.665161</td>\n",
              "    </tr>\n",
              "    <tr>\n",
              "      <th>2011-01-04</th>\n",
              "      <td>10.102357</td>\n",
              "      <td>22.357538</td>\n",
              "      <td>53.432991</td>\n",
              "      <td>62.241196</td>\n",
              "      <td>22.004093</td>\n",
              "      <td>18.303070</td>\n",
              "      <td>16.239511</td>\n",
              "      <td>41.825508</td>\n",
              "    </tr>\n",
              "    <tr>\n",
              "      <th>2011-01-05</th>\n",
              "      <td>10.184993</td>\n",
              "      <td>22.224524</td>\n",
              "      <td>53.684669</td>\n",
              "      <td>62.241196</td>\n",
              "      <td>21.933594</td>\n",
              "      <td>18.422945</td>\n",
              "      <td>16.582243</td>\n",
              "      <td>41.550606</td>\n",
              "    </tr>\n",
              "    <tr>\n",
              "      <th>2011-01-06</th>\n",
              "      <td>10.176762</td>\n",
              "      <td>22.063494</td>\n",
              "      <td>53.361069</td>\n",
              "      <td>61.860577</td>\n",
              "      <td>22.575933</td>\n",
              "      <td>18.257296</td>\n",
              "      <td>16.830664</td>\n",
              "      <td>41.206951</td>\n",
              "    </tr>\n",
              "    <tr>\n",
              "      <th>2011-01-07</th>\n",
              "      <td>10.249641</td>\n",
              "      <td>22.024988</td>\n",
              "      <td>53.476116</td>\n",
              "      <td>61.925198</td>\n",
              "      <td>22.403599</td>\n",
              "      <td>18.207157</td>\n",
              "      <td>16.782368</td>\n",
              "      <td>41.298592</td>\n",
              "    </tr>\n",
              "  </tbody>\n",
              "</table>\n",
              "</div>\n",
              "      <button class=\"colab-df-convert\" onclick=\"convertToInteractive('df-5e61ff8f-eb05-4da4-8dce-dca6ea94ce06')\"\n",
              "              title=\"Convert this dataframe to an interactive table.\"\n",
              "              style=\"display:none;\">\n",
              "        \n",
              "  <svg xmlns=\"http://www.w3.org/2000/svg\" height=\"24px\"viewBox=\"0 0 24 24\"\n",
              "       width=\"24px\">\n",
              "    <path d=\"M0 0h24v24H0V0z\" fill=\"none\"/>\n",
              "    <path d=\"M18.56 5.44l.94 2.06.94-2.06 2.06-.94-2.06-.94-.94-2.06-.94 2.06-2.06.94zm-11 1L8.5 8.5l.94-2.06 2.06-.94-2.06-.94L8.5 2.5l-.94 2.06-2.06.94zm10 10l.94 2.06.94-2.06 2.06-.94-2.06-.94-.94-2.06-.94 2.06-2.06.94z\"/><path d=\"M17.41 7.96l-1.37-1.37c-.4-.4-.92-.59-1.43-.59-.52 0-1.04.2-1.43.59L10.3 9.45l-7.72 7.72c-.78.78-.78 2.05 0 2.83L4 21.41c.39.39.9.59 1.41.59.51 0 1.02-.2 1.41-.59l7.78-7.78 2.81-2.81c.8-.78.8-2.07 0-2.86zM5.41 20L4 18.59l7.72-7.72 1.47 1.35L5.41 20z\"/>\n",
              "  </svg>\n",
              "      </button>\n",
              "      \n",
              "  <style>\n",
              "    .colab-df-container {\n",
              "      display:flex;\n",
              "      flex-wrap:wrap;\n",
              "      gap: 12px;\n",
              "    }\n",
              "\n",
              "    .colab-df-convert {\n",
              "      background-color: #E8F0FE;\n",
              "      border: none;\n",
              "      border-radius: 50%;\n",
              "      cursor: pointer;\n",
              "      display: none;\n",
              "      fill: #1967D2;\n",
              "      height: 32px;\n",
              "      padding: 0 0 0 0;\n",
              "      width: 32px;\n",
              "    }\n",
              "\n",
              "    .colab-df-convert:hover {\n",
              "      background-color: #E2EBFA;\n",
              "      box-shadow: 0px 1px 2px rgba(60, 64, 67, 0.3), 0px 1px 3px 1px rgba(60, 64, 67, 0.15);\n",
              "      fill: #174EA6;\n",
              "    }\n",
              "\n",
              "    [theme=dark] .colab-df-convert {\n",
              "      background-color: #3B4455;\n",
              "      fill: #D2E3FC;\n",
              "    }\n",
              "\n",
              "    [theme=dark] .colab-df-convert:hover {\n",
              "      background-color: #434B5C;\n",
              "      box-shadow: 0px 1px 3px 1px rgba(0, 0, 0, 0.15);\n",
              "      filter: drop-shadow(0px 1px 2px rgba(0, 0, 0, 0.3));\n",
              "      fill: #FFFFFF;\n",
              "    }\n",
              "  </style>\n",
              "\n",
              "      <script>\n",
              "        const buttonEl =\n",
              "          document.querySelector('#df-5e61ff8f-eb05-4da4-8dce-dca6ea94ce06 button.colab-df-convert');\n",
              "        buttonEl.style.display =\n",
              "          google.colab.kernel.accessAllowed ? 'block' : 'none';\n",
              "\n",
              "        async function convertToInteractive(key) {\n",
              "          const element = document.querySelector('#df-5e61ff8f-eb05-4da4-8dce-dca6ea94ce06');\n",
              "          const dataTable =\n",
              "            await google.colab.kernel.invokeFunction('convertToInteractive',\n",
              "                                                     [key], {});\n",
              "          if (!dataTable) return;\n",
              "\n",
              "          const docLinkHtml = 'Like what you see? Visit the ' +\n",
              "            '<a target=\"_blank\" href=https://colab.research.google.com/notebooks/data_table.ipynb>data table notebook</a>'\n",
              "            + ' to learn more about interactive tables.';\n",
              "          element.innerHTML = '';\n",
              "          dataTable['output_type'] = 'display_data';\n",
              "          await google.colab.output.renderOutput(dataTable, element);\n",
              "          const docLink = document.createElement('div');\n",
              "          docLink.innerHTML = docLinkHtml;\n",
              "          element.appendChild(docLink);\n",
              "        }\n",
              "      </script>\n",
              "    </div>\n",
              "  </div>\n",
              "  "
            ]
          },
          "metadata": {},
          "execution_count": 65
        }
      ],
      "source": [
        "import yfinance as yf\n",
        "import numpy as np\n",
        "selected_stocks_data = yf.download(my_assets, start = '2011-1-1', end = '2015-12-31')['Adj Close']\n",
        "selected_stocks_data.head()"
      ]
    },
    {
      "cell_type": "code",
      "source": [],
      "metadata": {
        "id": "BJAkqlo--Bgv"
      },
      "id": "BJAkqlo--Bgv",
      "execution_count": 65,
      "outputs": []
    },
    {
      "cell_type": "code",
      "execution_count": 65,
      "id": "88f6494d",
      "metadata": {
        "id": "88f6494d"
      },
      "outputs": [],
      "source": []
    },
    {
      "cell_type": "code",
      "execution_count": 66,
      "id": "Wycd2cona3uF",
      "metadata": {
        "id": "Wycd2cona3uF",
        "colab": {
          "base_uri": "https://localhost:8080/",
          "height": 237
        },
        "outputId": "499caf49-f1ce-4420-b727-fa1beb637ac9"
      },
      "outputs": [
        {
          "output_type": "execute_result",
          "data": {
            "text/plain": [
              "                AAPL        KO       MCD       MMM      MSFT       NKE  \\\n",
              "Date                                                                     \n",
              "2011-01-03       NaN       NaN       NaN       NaN       NaN       NaN   \n",
              "2011-01-04  0.005205 -0.020916 -0.030351 -0.001383  0.003924 -0.024933   \n",
              "2011-01-05  0.008147 -0.005967  0.004699  0.000000 -0.003209  0.006528   \n",
              "2011-01-06 -0.000808 -0.007272 -0.006046 -0.006134  0.028865 -0.009032   \n",
              "2011-01-07  0.007136 -0.001747  0.002154  0.001044 -0.007663 -0.002750   \n",
              "\n",
              "                   V       WMT  \n",
              "Date                            \n",
              "2011-01-03       NaN       NaN  \n",
              "2011-01-04  0.001134  0.003841  \n",
              "2011-01-05  0.020885 -0.006594  \n",
              "2011-01-06  0.014870 -0.008305  \n",
              "2011-01-07 -0.002874  0.002221  "
            ],
            "text/html": [
              "\n",
              "  <div id=\"df-5cb06653-b7b1-4c2b-8fa5-79d7d4911c17\">\n",
              "    <div class=\"colab-df-container\">\n",
              "      <div>\n",
              "<style scoped>\n",
              "    .dataframe tbody tr th:only-of-type {\n",
              "        vertical-align: middle;\n",
              "    }\n",
              "\n",
              "    .dataframe tbody tr th {\n",
              "        vertical-align: top;\n",
              "    }\n",
              "\n",
              "    .dataframe thead th {\n",
              "        text-align: right;\n",
              "    }\n",
              "</style>\n",
              "<table border=\"1\" class=\"dataframe\">\n",
              "  <thead>\n",
              "    <tr style=\"text-align: right;\">\n",
              "      <th></th>\n",
              "      <th>AAPL</th>\n",
              "      <th>KO</th>\n",
              "      <th>MCD</th>\n",
              "      <th>MMM</th>\n",
              "      <th>MSFT</th>\n",
              "      <th>NKE</th>\n",
              "      <th>V</th>\n",
              "      <th>WMT</th>\n",
              "    </tr>\n",
              "    <tr>\n",
              "      <th>Date</th>\n",
              "      <th></th>\n",
              "      <th></th>\n",
              "      <th></th>\n",
              "      <th></th>\n",
              "      <th></th>\n",
              "      <th></th>\n",
              "      <th></th>\n",
              "      <th></th>\n",
              "    </tr>\n",
              "  </thead>\n",
              "  <tbody>\n",
              "    <tr>\n",
              "      <th>2011-01-03</th>\n",
              "      <td>NaN</td>\n",
              "      <td>NaN</td>\n",
              "      <td>NaN</td>\n",
              "      <td>NaN</td>\n",
              "      <td>NaN</td>\n",
              "      <td>NaN</td>\n",
              "      <td>NaN</td>\n",
              "      <td>NaN</td>\n",
              "    </tr>\n",
              "    <tr>\n",
              "      <th>2011-01-04</th>\n",
              "      <td>0.005205</td>\n",
              "      <td>-0.020916</td>\n",
              "      <td>-0.030351</td>\n",
              "      <td>-0.001383</td>\n",
              "      <td>0.003924</td>\n",
              "      <td>-0.024933</td>\n",
              "      <td>0.001134</td>\n",
              "      <td>0.003841</td>\n",
              "    </tr>\n",
              "    <tr>\n",
              "      <th>2011-01-05</th>\n",
              "      <td>0.008147</td>\n",
              "      <td>-0.005967</td>\n",
              "      <td>0.004699</td>\n",
              "      <td>0.000000</td>\n",
              "      <td>-0.003209</td>\n",
              "      <td>0.006528</td>\n",
              "      <td>0.020885</td>\n",
              "      <td>-0.006594</td>\n",
              "    </tr>\n",
              "    <tr>\n",
              "      <th>2011-01-06</th>\n",
              "      <td>-0.000808</td>\n",
              "      <td>-0.007272</td>\n",
              "      <td>-0.006046</td>\n",
              "      <td>-0.006134</td>\n",
              "      <td>0.028865</td>\n",
              "      <td>-0.009032</td>\n",
              "      <td>0.014870</td>\n",
              "      <td>-0.008305</td>\n",
              "    </tr>\n",
              "    <tr>\n",
              "      <th>2011-01-07</th>\n",
              "      <td>0.007136</td>\n",
              "      <td>-0.001747</td>\n",
              "      <td>0.002154</td>\n",
              "      <td>0.001044</td>\n",
              "      <td>-0.007663</td>\n",
              "      <td>-0.002750</td>\n",
              "      <td>-0.002874</td>\n",
              "      <td>0.002221</td>\n",
              "    </tr>\n",
              "  </tbody>\n",
              "</table>\n",
              "</div>\n",
              "      <button class=\"colab-df-convert\" onclick=\"convertToInteractive('df-5cb06653-b7b1-4c2b-8fa5-79d7d4911c17')\"\n",
              "              title=\"Convert this dataframe to an interactive table.\"\n",
              "              style=\"display:none;\">\n",
              "        \n",
              "  <svg xmlns=\"http://www.w3.org/2000/svg\" height=\"24px\"viewBox=\"0 0 24 24\"\n",
              "       width=\"24px\">\n",
              "    <path d=\"M0 0h24v24H0V0z\" fill=\"none\"/>\n",
              "    <path d=\"M18.56 5.44l.94 2.06.94-2.06 2.06-.94-2.06-.94-.94-2.06-.94 2.06-2.06.94zm-11 1L8.5 8.5l.94-2.06 2.06-.94-2.06-.94L8.5 2.5l-.94 2.06-2.06.94zm10 10l.94 2.06.94-2.06 2.06-.94-2.06-.94-.94-2.06-.94 2.06-2.06.94z\"/><path d=\"M17.41 7.96l-1.37-1.37c-.4-.4-.92-.59-1.43-.59-.52 0-1.04.2-1.43.59L10.3 9.45l-7.72 7.72c-.78.78-.78 2.05 0 2.83L4 21.41c.39.39.9.59 1.41.59.51 0 1.02-.2 1.41-.59l7.78-7.78 2.81-2.81c.8-.78.8-2.07 0-2.86zM5.41 20L4 18.59l7.72-7.72 1.47 1.35L5.41 20z\"/>\n",
              "  </svg>\n",
              "      </button>\n",
              "      \n",
              "  <style>\n",
              "    .colab-df-container {\n",
              "      display:flex;\n",
              "      flex-wrap:wrap;\n",
              "      gap: 12px;\n",
              "    }\n",
              "\n",
              "    .colab-df-convert {\n",
              "      background-color: #E8F0FE;\n",
              "      border: none;\n",
              "      border-radius: 50%;\n",
              "      cursor: pointer;\n",
              "      display: none;\n",
              "      fill: #1967D2;\n",
              "      height: 32px;\n",
              "      padding: 0 0 0 0;\n",
              "      width: 32px;\n",
              "    }\n",
              "\n",
              "    .colab-df-convert:hover {\n",
              "      background-color: #E2EBFA;\n",
              "      box-shadow: 0px 1px 2px rgba(60, 64, 67, 0.3), 0px 1px 3px 1px rgba(60, 64, 67, 0.15);\n",
              "      fill: #174EA6;\n",
              "    }\n",
              "\n",
              "    [theme=dark] .colab-df-convert {\n",
              "      background-color: #3B4455;\n",
              "      fill: #D2E3FC;\n",
              "    }\n",
              "\n",
              "    [theme=dark] .colab-df-convert:hover {\n",
              "      background-color: #434B5C;\n",
              "      box-shadow: 0px 1px 3px 1px rgba(0, 0, 0, 0.15);\n",
              "      filter: drop-shadow(0px 1px 2px rgba(0, 0, 0, 0.3));\n",
              "      fill: #FFFFFF;\n",
              "    }\n",
              "  </style>\n",
              "\n",
              "      <script>\n",
              "        const buttonEl =\n",
              "          document.querySelector('#df-5cb06653-b7b1-4c2b-8fa5-79d7d4911c17 button.colab-df-convert');\n",
              "        buttonEl.style.display =\n",
              "          google.colab.kernel.accessAllowed ? 'block' : 'none';\n",
              "\n",
              "        async function convertToInteractive(key) {\n",
              "          const element = document.querySelector('#df-5cb06653-b7b1-4c2b-8fa5-79d7d4911c17');\n",
              "          const dataTable =\n",
              "            await google.colab.kernel.invokeFunction('convertToInteractive',\n",
              "                                                     [key], {});\n",
              "          if (!dataTable) return;\n",
              "\n",
              "          const docLinkHtml = 'Like what you see? Visit the ' +\n",
              "            '<a target=\"_blank\" href=https://colab.research.google.com/notebooks/data_table.ipynb>data table notebook</a>'\n",
              "            + ' to learn more about interactive tables.';\n",
              "          element.innerHTML = '';\n",
              "          dataTable['output_type'] = 'display_data';\n",
              "          await google.colab.output.renderOutput(dataTable, element);\n",
              "          const docLink = document.createElement('div');\n",
              "          docLink.innerHTML = docLinkHtml;\n",
              "          element.appendChild(docLink);\n",
              "        }\n",
              "      </script>\n",
              "    </div>\n",
              "  </div>\n",
              "  "
            ]
          },
          "metadata": {},
          "execution_count": 66
        }
      ],
      "source": [
        "log_return = np.log(selected_stocks_data/selected_stocks_data.shift(1))\n",
        "log_return.head()"
      ]
    },
    {
      "cell_type": "code",
      "execution_count": 67,
      "id": "Z777wklLKMii",
      "metadata": {
        "id": "Z777wklLKMii",
        "colab": {
          "base_uri": "https://localhost:8080/"
        },
        "outputId": "3af162d9-cc7f-412a-c92a-39f56cb0130c"
      },
      "outputs": [
        {
          "output_type": "stream",
          "name": "stdout",
          "text": [
            "normalised weights :\n",
            "[0.17770724 0.07819307 0.19654165 0.18063517 0.11693401 0.19705185\n",
            " 0.01782405 0.03511295]\n"
          ]
        }
      ],
      "source": [
        "import numpy as np\n",
        "weights = np.array(np.random.random(len(my_assets)))\n",
        "\n",
        "print('normalised weights :')\n",
        "weights = weights/np.sum(weights)\n",
        "print(weights)"
      ]
    },
    {
      "cell_type": "code",
      "execution_count": 68,
      "id": "73zSFkttOq9_",
      "metadata": {
        "id": "73zSFkttOq9_"
      },
      "outputs": [],
      "source": [
        "from scipy.optimize import minimize\n",
        "\n",
        "def get_ret_vol_sr(weights): \n",
        "    weights = np.array(weights)\n",
        "    ret = np.sum(log_return.mean() * weights) * 252\n",
        "    vol = np.sqrt(np.dot(weights.T,np.dot(log_return.cov()*252,weights)))\n",
        "    sr = ret/vol \n",
        "    return np.array(sr)\n",
        "    \n",
        "\n",
        "# minimize negative Sharpe Ratio\n",
        "def neg_sharpe(weights): \n",
        "    return get_ret_vol_sr(weights)*-1\n",
        "\n",
        "# check allocation sums to 1\n",
        "def check_sum(weights): \n",
        "    return np.sum(weights) - 1"
      ]
    },
    {
      "cell_type": "code",
      "execution_count": 69,
      "id": "VxR0DeiePMwW",
      "metadata": {
        "id": "VxR0DeiePMwW"
      },
      "outputs": [],
      "source": [
        "# create constraint variable\n",
        "cons = ({'type':'eq','fun':check_sum})"
      ]
    },
    {
      "cell_type": "code",
      "execution_count": 70,
      "id": "N7fr03-cPcSt",
      "metadata": {
        "id": "N7fr03-cPcSt"
      },
      "outputs": [],
      "source": [
        "# create weight boundaries\n",
        "bounds = tuple((0, 1) for stocks in range(len(my_assets)))"
      ]
    },
    {
      "cell_type": "markdown",
      "source": [],
      "metadata": {
        "id": "7lng5xbPvXH-"
      },
      "id": "7lng5xbPvXH-"
    },
    {
      "cell_type": "code",
      "execution_count": 71,
      "id": "w9tCkv_cQ6Xr",
      "metadata": {
        "id": "w9tCkv_cQ6Xr"
      },
      "outputs": [],
      "source": [
        "# initial guess\n",
        "# init_guess = [0.1 for stocks in range(len(my_assets))]\n",
        "init_guess = [0.2, 0.1, 0.1, 0.1, 0.2, 0.1,0.1, 0.1 ]\n",
        "# tuple((0, 1) for stocks in range(len(my_assets)))"
      ]
    },
    {
      "cell_type": "code",
      "execution_count": 72,
      "id": "1XtwTtMMSmeL",
      "metadata": {
        "id": "1XtwTtMMSmeL",
        "colab": {
          "base_uri": "https://localhost:8080/"
        },
        "outputId": "fc8ad394-6b0e-47ed-d727-301ca058e60e"
      },
      "outputs": [
        {
          "output_type": "execute_result",
          "data": {
            "text/plain": [
              "-1.0928564860739265"
            ]
          },
          "metadata": {},
          "execution_count": 72
        }
      ],
      "source": [
        "neg_sharpe(weights)"
      ]
    },
    {
      "cell_type": "code",
      "execution_count": 73,
      "id": "azJ6BBaOQ943",
      "metadata": {
        "id": "azJ6BBaOQ943",
        "colab": {
          "base_uri": "https://localhost:8080/"
        },
        "outputId": "aa2e8684-e670-4304-d955-b64e4f187806"
      },
      "outputs": [
        {
          "output_type": "execute_result",
          "data": {
            "text/plain": [
              "     fun: -1.3949456337947808\n",
              "     jac: array([-1.15071237e-03,  1.03488669e-01, -2.91094184e-04,  1.42955616e-01,\n",
              "       -2.49415636e-04,  6.56545162e-05,  2.24560499e-04,  2.31322005e-01])\n",
              " message: 'Optimization terminated successfully'\n",
              "    nfev: 54\n",
              "     nit: 6\n",
              "    njev: 6\n",
              "  status: 0\n",
              " success: True\n",
              "       x: array([7.87421864e-02, 0.00000000e+00, 1.29401214e-01, 2.16840434e-19,\n",
              "       3.06534834e-02, 2.20195412e-01, 5.41007704e-01, 9.08561421e-17])"
            ]
          },
          "metadata": {},
          "execution_count": 73
        }
      ],
      "source": [
        "# from scipy.optimize import minimize\n",
        "opt_results = minimize(neg_sharpe, init_guess, method='SLSQP', bounds=bounds, constraints=cons)\n",
        "opt_results"
      ]
    },
    {
      "cell_type": "code",
      "execution_count": 74,
      "id": "KXW0qoxzbdin",
      "metadata": {
        "id": "KXW0qoxzbdin"
      },
      "outputs": [],
      "source": [
        "my_weights = np.array(opt_results.x)\n",
        "my_weights = my_weights.tolist()"
      ]
    },
    {
      "cell_type": "code",
      "execution_count": 75,
      "id": "LzzQFJCpRBLh",
      "metadata": {
        "id": "LzzQFJCpRBLh",
        "colab": {
          "base_uri": "https://localhost:8080/"
        },
        "outputId": "07bf96da-6476-4ab7-9e4f-bb684ecd75d6"
      },
      "outputs": [
        {
          "output_type": "execute_result",
          "data": {
            "text/plain": [
              "1.0"
            ]
          },
          "metadata": {},
          "execution_count": 75
        }
      ],
      "source": [
        "tot_weights = np.sum(my_weights)\n",
        "tot_weights"
      ]
    },
    {
      "cell_type": "code",
      "execution_count": 76,
      "id": "8rIfmjrMbZJJ",
      "metadata": {
        "id": "8rIfmjrMbZJJ",
        "colab": {
          "base_uri": "https://localhost:8080/"
        },
        "outputId": "c53b062f-3660-4194-d605-e34a08f96078"
      },
      "outputs": [
        {
          "output_type": "execute_result",
          "data": {
            "text/plain": [
              "{'MSFT': 0.07874218644638858,\n",
              " 'AAPL': 0.0,\n",
              " 'KO': 0.1294012141299027,\n",
              " 'WMT': 2.168404344971009e-19,\n",
              " 'MCD': 0.030653483393033924,\n",
              " 'NKE': 0.22019541174110746,\n",
              " 'V': 0.5410077042895673,\n",
              " 'MMM': 9.085614205428527e-17}"
            ]
          },
          "metadata": {},
          "execution_count": 76
        }
      ],
      "source": [
        "weights_alloc = dict(zip(my_assets, my_weights))\n",
        "weights_alloc"
      ]
    },
    {
      "cell_type": "code",
      "execution_count": 77,
      "id": "83scUJt0fhBp",
      "metadata": {
        "id": "83scUJt0fhBp",
        "colab": {
          "base_uri": "https://localhost:8080/"
        },
        "outputId": "01579909-d07d-498e-dfe0-6a7259180d3c"
      },
      "outputs": [
        {
          "output_type": "execute_result",
          "data": {
            "text/plain": [
              "['MSFT', 'AAPL', 'KO', 'WMT', 'MCD', 'NKE', 'V', 'MMM']"
            ]
          },
          "metadata": {},
          "execution_count": 77
        }
      ],
      "source": [
        "my_assets"
      ]
    },
    {
      "cell_type": "code",
      "execution_count": 78,
      "id": "3qXicxqgfesq",
      "metadata": {
        "id": "3qXicxqgfesq",
        "colab": {
          "base_uri": "https://localhost:8080/"
        },
        "outputId": "00131689-155d-4f92-ab4c-dc3cf0d5f566"
      },
      "outputs": [
        {
          "output_type": "stream",
          "name": "stdout",
          "text": [
            "sharpe ratio of your porrtfolio after optimization is  1.7117734920500771\n"
          ]
        }
      ],
      "source": [
        "ret = np.sum(log_return.mean() * my_weights) * 252 # returns of a portfolio after optimum weight allocation\n",
        "vol = np.sqrt(np.dot(weights.T,np.dot(log_return.cov()*252,my_weights))) # risk of a portfolio after optimum weight allocation\n",
        "sharpe_ratio = ret/vol # sharpe ratio of a portfolio after optimum weight allocation\n",
        "print(\"sharpe ratio of your porrtfolio after optimization is \", sharpe_ratio)\n",
        "\n",
        "risk_ret_dict_of_quantum = {\n",
        "    'returns' : ret*100,\n",
        "    'risk' : vol*100, \n",
        "    'sharpe_ratio' : sharpe_ratio \n",
        "}"
      ]
    },
    {
      "cell_type": "code",
      "execution_count": 79,
      "id": "c286190f",
      "metadata": {
        "id": "c286190f",
        "colab": {
          "base_uri": "https://localhost:8080/"
        },
        "outputId": "d8b44207-96f2-4a50-b7d1-dbb51c9d4a4a"
      },
      "outputs": [
        {
          "output_type": "execute_result",
          "data": {
            "text/plain": [
              "{'returns': 25.157319369337642,\n",
              " 'risk': 14.696640347671467,\n",
              " 'sharpe_ratio': 1.7117734920500771}"
            ]
          },
          "metadata": {},
          "execution_count": 79
        }
      ],
      "source": [
        "risk_ret_dict_of_quantum"
      ]
    },
    {
      "cell_type": "code",
      "execution_count": 42,
      "id": "OphZn6Dwf8xY",
      "metadata": {
        "id": "OphZn6Dwf8xY",
        "colab": {
          "base_uri": "https://localhost:8080/",
          "height": 248
        },
        "outputId": "65676bbb-452c-482a-b8cf-a69f4acfb134"
      },
      "outputs": [
        {
          "output_type": "display_data",
          "data": {
            "text/plain": [
              "<Figure size 432x288 with 1 Axes>"
            ],
            "image/png": "[encoded data removed]"
          },
          "metadata": {}
        }
      ],
      "source": [
        "import matplotlib.pyplot as plt\n",
        "import numpy as np\n",
        "\n",
        "y = np.array(weights)\n",
        "mylabels = my_assets\n",
        "\n",
        "plt.pie(y, labels = mylabels)\n",
        "plt.show()"
      ]
    },
    {
      "cell_type": "code",
      "execution_count": 43,
      "id": "AphQCFMkgFW8",
      "metadata": {
        "id": "AphQCFMkgFW8"
      },
      "outputs": [],
      "source": [
        "# 4_stocks= [\"JPM\", \"GS\", \"MSFT\", \"WMT\"]\n",
        "# 6_stocks= [\"JPM\", \"GS\", \"MSFT\", \"AAPL\", \"WMT\", \"MCD\"]\n",
        "# 8_stocks= [\"JPM\", \"GS\", \"MSFT\", \"AAPL\", \"KO\", \"WMT\", \"MCD\", \"NKE\"]\n",
        "# 10_stocks=[\"JPM\", \"GS\", \"MSFT\", \"AAPL\", \"KO\", \"WMT\", \"DIS\", \"BA\", \"MCD\", \"NKE\"]"
      ]
    },
    {
      "cell_type": "markdown",
      "id": "edeb8003",
      "metadata": {
        "id": "edeb8003"
      },
      "source": []
    },
    {
      "cell_type": "markdown",
      "id": "4dc63729",
      "metadata": {
        "id": "4dc63729"
      },
      "source": [
        "## MPT CODE to benchmark "
      ]
    },
    {
      "cell_type": "markdown",
      "id": "029a01f8",
      "metadata": {
        "id": "029a01f8"
      },
      "source": []
    },
    {
      "cell_type": "code",
      "execution_count": 43,
      "id": "d86fcc3b",
      "metadata": {
        "id": "d86fcc3b"
      },
      "outputs": [],
      "source": []
    },
    {
      "cell_type": "code",
      "execution_count": 43,
      "id": "0b89224d",
      "metadata": {
        "id": "0b89224d"
      },
      "outputs": [],
      "source": []
    },
    {
      "cell_type": "code",
      "execution_count": 44,
      "id": "3908c9eb",
      "metadata": {
        "id": "3908c9eb"
      },
      "outputs": [],
      "source": [
        "import numpy as np\n",
        "import yfinance as yf\n",
        "import pandas as pd\n",
        "import matplotlib.pyplot as plt\n",
        "import scipy.optimize as optimization"
      ]
    },
    {
      "cell_type": "code",
      "execution_count": 45,
      "id": "3e35d96d",
      "metadata": {
        "id": "3e35d96d"
      },
      "outputs": [],
      "source": [
        "NUM_TRADING_DAYS = 252 #252*5 cosnidered previously, now I'm just taing for 1 year\n",
        "NUM_PORTFOLIOS = 10000\n",
        "stocks = [\"JPM\", \"GS\", \"MSFT\", \"AAPL\", \"KO\", \"WMT\", \"MCD\", \"NKE\", \"V\", \"MMM\", \"AXP\", \"CAT\", \"CVX\", \"CSCO\", \"PG\", \"JNJ\" ]"
      ]
    },
    {
      "cell_type": "code",
      "execution_count": 46,
      "id": "9afa958f",
      "metadata": {
        "id": "9afa958f"
      },
      "outputs": [],
      "source": [
        "# start_date = '2011-01-01' # YY/MM/DD\n",
        "# end_date = '2015-12-31'   # YY/MM/DD"
      ]
    },
    {
      "cell_type": "code",
      "execution_count": 47,
      "id": "b9817251",
      "metadata": {
        "id": "b9817251"
      },
      "outputs": [],
      "source": [
        "## this is previously defined download_data function, Which need to change, as dataset values of this funtion and Weight allocation part were not same. even after dates were same.\n",
        "\n",
        "# def download_data():\n",
        "#     stock_data = {}\n",
        "#     for stock in stocks:\n",
        "#         ticker = yf.Ticker(stock)\n",
        "#         stock_data[stock] = ticker.download(start=start_date, end=end_date )['Close']\n",
        "#     df = pd.DataFrame(stock_data)\n",
        "#     df.head()\n",
        "#     return pd.DataFrame(stock_data)"
      ]
    },
    {
      "cell_type": "code",
      "source": [
        "def download_data():\n",
        "    stocks_data = yf.download(stocks, start = '2011-1-1', end = '2015-12-31')['Adj Close']\n",
        "    # stocks_data.head()\n",
        "    return pd.DataFrame(stocks_data)"
      ],
      "metadata": {
        "id": "ylnzPsF5-_FV"
      },
      "id": "ylnzPsF5-_FV",
      "execution_count": 48,
      "outputs": []
    },
    {
      "cell_type": "code",
      "execution_count": 49,
      "id": "d7b68df6",
      "metadata": {
        "id": "d7b68df6"
      },
      "outputs": [],
      "source": [
        "def show_data(data):\n",
        "    data.plot(figsize=(8, 5))\n",
        "    plt.show()\n",
        "\n",
        "# show_data(data)"
      ]
    },
    {
      "cell_type": "code",
      "execution_count": 50,
      "id": "a1a9ee73",
      "metadata": {
        "id": "a1a9ee73"
      },
      "outputs": [],
      "source": [
        "def calculate_return(data):\n",
        "    log_return = np.log(data / data.shift(1))\n",
        "    return log_return[1:]"
      ]
    },
    {
      "cell_type": "code",
      "execution_count": 51,
      "id": "12ffb68c",
      "metadata": {
        "id": "12ffb68c"
      },
      "outputs": [],
      "source": [
        "def show_statistics(returns):\n",
        "    print(returns.mean() * NUM_TRADING_DAYS)\n",
        "    print(returns.cov() * NUM_TRADING_DAYS)"
      ]
    },
    {
      "cell_type": "code",
      "execution_count": 52,
      "id": "d67fd74b",
      "metadata": {
        "id": "d67fd74b"
      },
      "outputs": [],
      "source": [
        "def show_mean_variance(returns, weights):\n",
        "    portfolio_return = np.sum(returns.mean() * weights) * NUM_TRADING_DAYS\n",
        "    portfolio_volatility = np.sqrt(np.dot(weights, np.dot(returns.cov() * NUM_TRADING_DAYS, weights)))\n",
        "    print('Expected portfolio mean: ', portfolio_return)\n",
        "    print('Expected portfolio volatility: ', portfolio_volatility)\n",
        "    print(\"sharpe ratio of a portfolio is \", portfolio_return/portfolio_volatility)"
      ]
    },
    {
      "cell_type": "code",
      "execution_count": 53,
      "id": "6bfb8545",
      "metadata": {
        "id": "6bfb8545"
      },
      "outputs": [],
      "source": [
        "def show_portfolios(returns, volatilities):\n",
        "    plt.figure(figsize=(8, 5))\n",
        "    plt.scatter(volatilities, returns, c=returns / volatilities, marker='o')\n",
        "    plt.grid(True)\n",
        "    plt.xlabel('Expected Volatility')\n",
        "    plt.ylabel('Expected Return')\n",
        "    plt.colorbar(label='Sharpe Ratio')\n",
        "    plt.show()"
      ]
    },
    {
      "cell_type": "code",
      "execution_count": 54,
      "id": "272e2b8f",
      "metadata": {
        "id": "272e2b8f"
      },
      "outputs": [],
      "source": [
        "def generate_portfolios(returns):\n",
        "    portfolio_means = []\n",
        "    portfolio_risks = []\n",
        "    portfolio_weights = []"
      ]
    },
    {
      "cell_type": "code",
      "execution_count": 55,
      "id": "3a425e98",
      "metadata": {
        "id": "3a425e98"
      },
      "outputs": [],
      "source": [
        "def generate_portfolios(returns):\n",
        "    portfolio_means = []\n",
        "    portfolio_risks = []\n",
        "    portfolio_weights = []\n",
        "\n",
        "    for _ in range(NUM_PORTFOLIOS):\n",
        "        w = np.random.random(len(stocks))\n",
        "        w /= np.sum(w)\n",
        "        portfolio_weights.append(w)\n",
        "        portfolio_means.append(np.sum(returns.mean() * w) * NUM_TRADING_DAYS)\n",
        "        portfolio_risks.append(np.sqrt(np.dot(w.T, np.dot(returns.cov() * NUM_TRADING_DAYS, w))))\n",
        "\n",
        "    return np.array(portfolio_weights), np.array(portfolio_means), np.array(portfolio_risks)"
      ]
    },
    {
      "cell_type": "code",
      "execution_count": 56,
      "id": "7d1e8c11",
      "metadata": {
        "id": "7d1e8c11"
      },
      "outputs": [],
      "source": [
        "def statistics(weights, returns):\n",
        "    portfolio_return = np.sum(returns.mean() * weights) * NUM_TRADING_DAYS\n",
        "    portfolio_volatility = np.sqrt(np.dot(weights.T, np.dot(returns.cov() * NUM_TRADING_DAYS, weights)))\n",
        "\n",
        "    return np.array([portfolio_return, portfolio_volatility, portfolio_return / portfolio_volatility])"
      ]
    },
    {
      "cell_type": "code",
      "execution_count": 57,
      "id": "0c3d9392",
      "metadata": {
        "id": "0c3d9392"
      },
      "outputs": [],
      "source": [
        "def min_function_sharpe(weights, returns):\n",
        "    return -statistics(weights, returns)[2]"
      ]
    },
    {
      "cell_type": "code",
      "execution_count": 58,
      "id": "33a6fa02",
      "metadata": {
        "id": "33a6fa02"
      },
      "outputs": [],
      "source": [
        "def optimize_portfolio(weights, returns):\n",
        "    constraints = {'type': 'eq', 'fun': lambda x: np.sum(x) - 1}\n",
        "    bounds = tuple((0, 1) for _ in range(len(stocks)))\n",
        "    return optimization.minimize(fun=min_function_sharpe, x0=weights[0], args=returns, method='SLSQP',\n",
        "                                 bounds=bounds, constraints=constraints)\n"
      ]
    },
    {
      "cell_type": "code",
      "execution_count": 59,
      "id": "38b881aa",
      "metadata": {
        "id": "38b881aa"
      },
      "outputs": [],
      "source": [
        "def print_optimal_portfolio(optimum, returns):\n",
        "    print('Optimal Portfolio: ', optimum['x'].round(3))\n",
        "    print('Expected return, volatility and sharpe ratio: ', statistics(optimum['x'].round(3), returns))\n"
      ]
    },
    {
      "cell_type": "code",
      "execution_count": 60,
      "id": "ccc92332",
      "metadata": {
        "id": "ccc92332"
      },
      "outputs": [],
      "source": [
        "def show_optimal_portfolio(opt, rets, portfolio_rets, portfolio_vols):\n",
        "    plt.figure(figsize=(8, 5))\n",
        "    plt.scatter(portfolio_vols, portfolio_rets, c=portfolio_rets / portfolio_vols, marker='o')\n",
        "    plt.grid(True)\n",
        "    plt.xlabel('Expected Volatility')\n",
        "    plt.ylabel('Expected Return')\n",
        "    plt.colorbar(label='Sharpe Ratio')\n",
        "    plt.plot(statistics(opt['x'], rets)[1], statistics(opt['x'], rets)[0], 'g*', markersize=20.0)\n",
        "    plt.show()"
      ]
    },
    {
      "cell_type": "code",
      "execution_count": 61,
      "id": "bfc3a6c3",
      "metadata": {
        "id": "bfc3a6c3",
        "colab": {
          "base_uri": "https://localhost:8080/",
          "height": 1000
        },
        "outputId": "bf9ee8a0-8945-4957-aa4a-f7caee080108"
      },
      "outputs": [
        {
          "output_type": "stream",
          "name": "stdout",
          "text": [
            "[*********************100%***********************]  16 of 16 completed\n"
          ]
        },
        {
          "output_type": "display_data",
          "data": {
            "text/plain": [
              "<Figure size 576x360 with 1 Axes>"
            ],
            "image/png": "[encoded data removed]"
          },
          "metadata": {
            "needs_background": "light"
          }
        },
        {
          "output_type": "display_data",
          "data": {
            "text/plain": [
              "<Figure size 576x360 with 2 Axes>"
            ],
            "image/png": "[encoded data removed]"
          },
          "metadata": {
            "needs_background": "light"
          }
        },
        {
          "output_type": "stream",
          "name": "stdout",
          "text": [
            "Optimal Portfolio:  [0.07  0.    0.    0.    0.    0.    0.166 0.    0.    0.079 0.    0.013\n",
            " 0.195 0.    0.477 0.   ]\n",
            "Expected return, volatility and sharpe ratio:  [0.23748975 0.16921245 1.40350042]\n"
          ]
        },
        {
          "output_type": "display_data",
          "data": {
            "text/plain": [
              "<Figure size 576x360 with 2 Axes>"
            ],
            "image/png": "[encoded data removed]"
          },
          "metadata": {
            "needs_background": "light"
          }
        }
      ],
      "source": [
        "if __name__ == '__main__':\n",
        "    # print(download_data())\n",
        "    dataset = download_data()\n",
        "    show_data(dataset)\n",
        "    log_daily_returns = calculate_return(dataset)\n",
        "    # show_statistics(log_daily_returns)\n",
        "    # show_mean_variance(log_daily_returns, [0.1, 0.2, 0.3, 0.2, 0.1, 0.1])\n",
        "    pweights, means, risks = generate_portfolios(log_daily_returns)\n",
        "    show_portfolios(means, risks)\n",
        "    optimum = optimize_portfolio(pweights, log_daily_returns)\n",
        "    print_optimal_portfolio(optimum, log_daily_returns)\n",
        "    show_optimal_portfolio(optimum, log_daily_returns, means, risks)"
      ]
    },
    {
      "cell_type": "markdown",
      "source": [
        "## this cell has too much importance, cause I have been using this cell to verify that 2 datsets which I'm getting are coreect or not. \n",
        "## finally after changing the download_data() function, it'd have fixed in proper way. "
      ],
      "metadata": {
        "id": "WE5pPqvDBM9I"
      },
      "id": "WE5pPqvDBM9I"
    },
    {
      "cell_type": "code",
      "source": [
        "#selected_stocks_data.head() "
      ],
      "metadata": {
        "id": "lNJx0Tnr80Iq"
      },
      "id": "lNJx0Tnr80Iq",
      "execution_count": 62,
      "outputs": []
    },
    {
      "cell_type": "code",
      "source": [
        "risk_ret_dict_of_quantum"
      ],
      "metadata": {
        "id": "NRfI43gtrj9z",
        "colab": {
          "base_uri": "https://localhost:8080/"
        },
        "outputId": "a4842666-58b8-4545-e4bd-000eef867210"
      },
      "id": "NRfI43gtrj9z",
      "execution_count": 63,
      "outputs": [
        {
          "output_type": "execute_result",
          "data": {
            "text/plain": [
              "{'returns': 23.749755580452984,\n",
              " 'risk': 14.464516450230388,\n",
              " 'sharpe_ratio': 1.6419322182093892}"
            ]
          },
          "metadata": {},
          "execution_count": 63
        }
      ]
    },
    {
      "cell_type": "code",
      "source": [],
      "metadata": {
        "id": "NIUzraWRpITm"
      },
      "id": "NIUzraWRpITm",
      "execution_count": null,
      "outputs": []
    }
  ],
  "metadata": {
    "colab": {
      "collapsed_sections": [],
      "provenance": []
    },
    "kernelspec": {
      "display_name": "Python 3.8.0 ('quantum-qiskit')",
      "language": "python",
      "name": "python3"
    },
    "language_info": {
      "codemirror_mode": {
        "name": "ipython",
        "version": 3
      },
      "file_extension": ".py",
      "mimetype": "text/x-python",
      "name": "python",
      "nbconvert_exporter": "python",
      "pygments_lexer": "ipython3",
      "version": "3.8.0"
    },
    "vscode": {
      "interpreter": {
        "hash": "22cb6fd05822f170cc2b76bad925994d7e6c545045ad3bc53e0ea083a8e23cc4"
      }
    }
  },
  "nbformat": 4,
  "nbformat_minor": 5
}